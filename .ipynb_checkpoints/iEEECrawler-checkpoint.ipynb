{
 "metadata": {
  "name": "",
  "signature": "sha256:c41aea3f0393e51faf8188abfe1b393d1c08aca2a5e6bdffe3b6a40dea792218"
 },
 "nbformat": 3,
 "nbformat_minor": 0,
 "worksheets": [
  {
   "cells": [
    {
     "cell_type": "heading",
     "level": 1,
     "metadata": {},
     "source": [
      "iEEE Conference World Map"
     ]
    },
    {
     "cell_type": "code",
     "collapsed": false,
     "input": [
      "from mpl_toolkits.basemap import Basemap\n",
      "import matplotlib.pyplot as plt\n",
      "import requests\n",
      "from bs4 import BeautifulSoup\n",
      "import numpy as np\n",
      "import time\n",
      "import simplekml"
     ],
     "language": "python",
     "metadata": {},
     "outputs": [],
     "prompt_number": 3
    },
    {
     "cell_type": "heading",
     "level": 2,
     "metadata": {},
     "source": [
      "Convert Addressto LatLon"
     ]
    },
    {
     "cell_type": "code",
     "collapsed": false,
     "input": [
      "def address2coord(ven, addr):\n",
      "    \n",
      "    result = None\n",
      "    address = ven + ', ' + addr\n",
      "    \n",
      "    if 'TBD' in addr:\n",
      "        print 'No location determined yet.'\n",
      "        return (u'0.0', u'0.0')\n",
      "    \n",
      "    while result is None:\n",
      "        try:\n",
      "            url = 'http://maps.googleapis.com/maps/api/geocode/xml'\n",
      "            payload = {'address': unicode(address), 'sensor': 'true'}\n",
      "            \n",
      "            try:\n",
      "                response = requests.get(url, params=payload)\n",
      "            except Exception, e:\n",
      "                print e.message\n",
      "                return Error(2, \"Google\", \"Google nicht erreichbar.\")\n",
      "        \n",
      "            if response.status_code != 200:\n",
      "                print \"Can't connect to Google! (status code: \" + response.status_code + \")\"    \n",
      "                return Error(response.status_code, \"Google\", \"Google Server nicht erreichbar\")\n",
      "            \n",
      "            if type(response.content) is unicode:\n",
      "                soup = BeautifulSoup(response.content.encode('utf8'))\n",
      "            else:\n",
      "                soup = BeautifulSoup(response.content)\n",
      "\n",
      "            #print response.content\n",
      "\n",
      "            if soup.find('status').string == 'OK':\n",
      "                print('Found Location.')\n",
      "                result = True\n",
      "                return (soup.find('lat').string , soup.find('lng').string)\n",
      "            elif soup.find('status').string == 'OVER_QUERY_LIMIT':\n",
      "                print 'Google API Query Limit reached. Waiting... (maybe you should renew your IP)'\n",
      "                time.sleep(5)\n",
      "            elif soup.find('status').string == 'ZERO_RESULTS':\n",
      "                print '\\n' + unicode(address)\n",
      "                print \"not found! Tryin:\"\n",
      "                # nur noch Stadt nehmen, nicht mehr Hotel usw..\n",
      "                address=addr\n",
      "                print address\n",
      "            else:\n",
      "                print '\\n' + unicode(address) + '\\n'\n",
      "                print response.url\n",
      "                print \"not found! Giving up...\"\n",
      "                result = True\n",
      "                return (u'0.0', u'0.0')\n",
      "\n",
      "        except:\n",
      "            pass"
     ],
     "language": "python",
     "metadata": {},
     "outputs": [],
     "prompt_number": 4
    },
    {
     "cell_type": "heading",
     "level": 2,
     "metadata": {},
     "source": [
      "Crawl the conference search"
     ]
    },
    {
     "cell_type": "code",
     "collapsed": false,
     "input": [
      "fromdate = '2015-01-01'\n",
      "todate = '2015-12-31'"
     ],
     "language": "python",
     "metadata": {},
     "outputs": [],
     "prompt_number": 5
    },
    {
     "cell_type": "code",
     "collapsed": false,
     "input": [
      "# Daten von iEEE Webseite holen\n",
      "url='http://www.ieee.org/conferences_events/conferences/search/index.html'\n",
      "\n",
      "# Suchmaske\n",
      "payload = {'KEYWORDS': '', \\\n",
      "           'CONF_SRCH_RDO': 'conf_date', \\\n",
      "           'RANGE_FROM_DATE': fromdate, \\\n",
      "           'RANGE_TO_DATE': todate, \\\n",
      "           'REGION': 'ALL', \\\n",
      "           'COUNTRY': 'ALL', \\\n",
      "           'STATE': 'ALL', \\\n",
      "           'CITY': 'ALL', \\\n",
      "           'SPONSOR': 'ALL', \\\n",
      "           'RowsPerPage': '20000', \\\n",
      "           'PageLinkNum': '1', \\\n",
      "           'ActivePage': '1', \\\n",
      "           'SORTORDER': 'desc', \\\n",
      "           'SORTFIELD': 'start_date'}\n",
      "\n",
      "# Fire the request\n",
      "try:\n",
      "    print('Requesting IEEE Conference Search...')\n",
      "    data = requests.get(url, params=payload)\n",
      "    print('Done.')\n",
      "except Exception, e:\n",
      "    print e.message\n",
      "if data.status_code != 200:\n",
      "    print \"Can't connect to iEEE! (status code: \" + response.status_code + \")\"        "
     ],
     "language": "python",
     "metadata": {},
     "outputs": [
      {
       "output_type": "stream",
       "stream": "stdout",
       "text": [
        "Requesting IEEE Conference Search...\n",
        "Done."
       ]
      },
      {
       "output_type": "stream",
       "stream": "stdout",
       "text": [
        "\n"
       ]
      }
     ],
     "prompt_number": 6
    },
    {
     "cell_type": "heading",
     "level": 2,
     "metadata": {},
     "source": [
      "Extract the Data"
     ]
    },
    {
     "cell_type": "code",
     "collapsed": false,
     "input": [
      "# Crawl the Data\n",
      "soup = BeautifulSoup(data.text)\n",
      "confs={}\n",
      "confname=[]\n",
      "confdate=[]\n",
      "confloc =[]\n",
      "conflat =[]\n",
      "conflon =[]\n",
      "confurl =[]\n",
      "print('Extracting the data from IEEE website')\n",
      "for conference in soup.body.find_all('tr', attrs={'class' : ['even','odd']}):\n",
      "    for idx,infos in enumerate(conference.find_all('td', attrs={'class' : 'pad10'})):\n",
      "        # Tabelle durchgehen\n",
      "        # Erste Spalte: Konferenzname\n",
      "        if idx==0:\n",
      "            confname.append(infos.a.text.strip())\n",
      "        # Zweite Spalte: Konferenzdatum\n",
      "        elif idx==1:\n",
      "            confdate.append(infos.a.text.strip())\n",
      "        # Dritte Spalte: Infoseite und Ort\n",
      "        elif idx==2:\n",
      "            confurl.append('https://www.ieee.org' + infos.a['href'])\n",
      "            confloc.append(infos.a.text.strip())\n",
      "            \n",
      "            for br in infos.a.findAll('br'):\n",
      "                if br.nextSibling == None or '':\n",
      "                    break\n",
      "                elif br.previousSibling == None or '':\n",
      "                    break\n",
      "                elif br.previousSibling == None:\n",
      "                    addr = br.nextSibling.strip()\n",
      "                    ven = ''\n",
      "                else:\n",
      "                    addr = br.nextSibling.strip()\n",
      "                    ven = br.previousSibling.strip()\n",
      "                    \n",
      "\n",
      "            print('Getting Location of ' + ven + ', ' + addr)\n",
      "            location = ven + ', ' + addr\n",
      "            lat,lon = address2coord(ven, addr)\n",
      "            conflat.append(float(lat))\n",
      "            conflon.append(float(lon))\n",
      "        else:\n",
      "            print(u'Unklar, was das f\u00fcr Daten sind.')\n",
      "\n",
      "\n",
      "confs = zip(confname,confdate,conflat,conflon,confloc,confurl)\n",
      "print('Done.')\n",
      "# Print the Table           \n",
      "#for i in range(len(confname)):\n",
      "#    print('%s findet am %s in %s statt.\\n' % (confname[i], confdate[i], confloc[i]))"
     ],
     "language": "python",
     "metadata": {},
     "outputs": [
      {
       "output_type": "stream",
       "stream": "stdout",
       "text": [
        "Extracting the data from IEEE website\n",
        "Getting Location of University of Peradeniya, Peradeniya, Sri Lanka"
       ]
      },
      {
       "output_type": "stream",
       "stream": "stdout",
       "text": [
        "\n",
        "Found Location."
       ]
      },
      {
       "output_type": "stream",
       "stream": "stdout",
       "text": [
        "\n",
        "Getting Location of 4925 N Scottsdale Rd, Scottsdale, AZ, USA\n",
        "Found Location."
       ]
      },
      {
       "output_type": "stream",
       "stream": "stdout",
       "text": [
        "\n",
        "Getting Location of 4925 N Scottsdale Rd, Scottsdale, AZ, USA\n",
        "Found Location."
       ]
      },
      {
       "output_type": "stream",
       "stream": "stdout",
       "text": [
        "\n",
        "Getting Location of 88 Federal Street, Auckland, New Zealand\n",
        "Found Location."
       ]
      },
      {
       "output_type": "stream",
       "stream": "stdout",
       "text": [
        "\n",
        "Getting Location of 88 Federal Street, Auckland, New Zealand\n",
        "Found Location."
       ]
      },
      {
       "output_type": "stream",
       "stream": "stdout",
       "text": [
        "\n",
        "Getting Location of Hilton Washington, Washington, DC, USA\n",
        "Found Location."
       ]
      },
      {
       "output_type": "stream",
       "stream": "stdout",
       "text": [
        "\n",
        "Getting Location of Hanzhong Road 2#, Nanjing, China\n",
        "Found Location."
       ]
      },
      {
       "output_type": "stream",
       "stream": "stdout",
       "text": [
        "\n",
        "Getting Location of 1 Park Boulevard, San Diego, CA, USA\n",
        "Found Location."
       ]
      },
      {
       "output_type": "stream",
       "stream": "stdout",
       "text": [
        "\n",
        "Getting Location of 1 Park Boulevard, San Diego, CA, USA\n",
        "Found Location."
       ]
      },
      {
       "output_type": "stream",
       "stream": "stdout",
       "text": [
        "\n",
        "Getting Location of 1401 Lee Highway, Arlington, VA, USA\n",
        "Found Location."
       ]
      },
      {
       "output_type": "stream",
       "stream": "stdout",
       "text": [
        "\n",
        "Getting Location of 84 5th St. NW, Atlanta, GA, USA\n",
        "Found Location."
       ]
      },
      {
       "output_type": "stream",
       "stream": "stdout",
       "text": [
        "\n",
        "Getting Location of kONDAPUR, HYDERABAD, India\n",
        "Found Location."
       ]
      },
      {
       "output_type": "stream",
       "stream": "stdout",
       "text": [
        "\n",
        "Getting Location of Austin Convention Center, TX, USA\n",
        "\n",
        "Austin Convention Center, TX, USA"
       ]
      },
      {
       "output_type": "stream",
       "stream": "stdout",
       "text": [
        "\n",
        "not found! Tryin:\n",
        "TX, USA\n",
        "Found Location."
       ]
      },
      {
       "output_type": "stream",
       "stream": "stdout",
       "text": [
        "\n",
        "Getting Location of 633 East Cabrillo Blvd., Santa Barbara, CA, USA\n",
        "Found Location."
       ]
      },
      {
       "output_type": "stream",
       "stream": "stdout",
       "text": [
        "\n",
        "Getting Location of Wrest Point Hotel, Hobart,Tasmania, Australia\n",
        "Found Location."
       ]
      },
      {
       "output_type": "stream",
       "stream": "stdout",
       "text": [
        "\n",
        "Getting Location of Kuala Lumpur, Malaysia\n",
        "Found Location."
       ]
      },
      {
       "output_type": "stream",
       "stream": "stdout",
       "text": [
        "\n",
        "Getting Location of P. O. BOX 1438, Amman, Jordan\n",
        "Found Location."
       ]
      },
      {
       "output_type": "stream",
       "stream": "stdout",
       "text": [
        "\n",
        "Getting Location of Seongbuk-gu, Seoul, Korea (South)\n",
        "Found Location."
       ]
      },
      {
       "output_type": "stream",
       "stream": "stdout",
       "text": [
        "\n",
        "Getting Location of Seongbuk-gu, Seoul, Korea (South)\n",
        "Found Location."
       ]
      },
      {
       "output_type": "stream",
       "stream": "stdout",
       "text": [
        "\n",
        "Getting Location of 12 Kaufman Street, Tel-Aviv, Israel\n",
        "Found Location."
       ]
      },
      {
       "output_type": "stream",
       "stream": "stdout",
       "text": [
        "\n",
        "Getting Location of 55, APEC-ro, Haeundae-gu, Busan, Busan, Korea (South)\n",
        "\n",
        "55, APEC-ro, Haeundae-gu, Busan, Busan, Korea (South)"
       ]
      },
      {
       "output_type": "stream",
       "stream": "stdout",
       "text": [
        "\n",
        "not found! Tryin:\n",
        "Busan, Korea (South)\n",
        "Found Location."
       ]
      },
      {
       "output_type": "stream",
       "stream": "stdout",
       "text": [
        "\n",
        "Getting Location of No. 30, Sec. 3, Shin-Sheng South Road, Taipei, Taiwan\n",
        "Found Location."
       ]
      },
      {
       "output_type": "stream",
       "stream": "stdout",
       "text": [
        "\n",
        "Getting Location of 500 Hotel Circle North, San Diego, CA, USA\n",
        "Found Location."
       ]
      },
      {
       "output_type": "stream",
       "stream": "stdout",
       "text": [
        "\n",
        "Getting Location of 300 York Street, London, ON, Canada\n",
        "Found Location."
       ]
      },
      {
       "output_type": "stream",
       "stream": "stdout",
       "text": [
        "\n",
        "Getting Location of TBD, Pattaya, Thailand\n",
        "Found Location."
       ]
      },
      {
       "output_type": "stream",
       "stream": "stdout",
       "text": [
        "\n",
        "Getting Location of 2050 Gateway Place, San Jose, CA, USA\n",
        "Found Location."
       ]
      },
      {
       "output_type": "stream",
       "stream": "stdout",
       "text": [
        "\n",
        "Getting Location of Hyatt Chicago, Chicago, IL, USA\n",
        "Found Location."
       ]
      },
      {
       "output_type": "stream",
       "stream": "stdout",
       "text": [
        "\n",
        "Getting Location of Hotel Feuriger Tatzlwurm, Oberaudorf, Germany\n",
        "Found Location."
       ]
      },
      {
       "output_type": "stream",
       "stream": "stdout",
       "text": [
        "\n",
        "Getting Location of TBD, GA, USA\n",
        "Found Location."
       ]
      },
      {
       "output_type": "stream",
       "stream": "stdout",
       "text": [
        "\n",
        "Getting Location of 101 South El Paso Street, El Paso, TX, USA\n",
        "Found Location."
       ]
      },
      {
       "output_type": "stream",
       "stream": "stdout",
       "text": [
        "\n",
        "Getting Location of Taipei International Convention Center (TICC), Taipei, Taiwan\n",
        "Found Location."
       ]
      },
      {
       "output_type": "stream",
       "stream": "stdout",
       "text": [
        "\n",
        "Getting Location of TBD, Kuala Lumpur, Malaysia\n",
        "Found Location."
       ]
      },
      {
       "output_type": "stream",
       "stream": "stdout",
       "text": [
        "\n",
        "Getting Location of 15201 Dallas Parkway, Addison, TX, USA\n",
        "Found Location."
       ]
      },
      {
       "output_type": "stream",
       "stream": "stdout",
       "text": [
        "\n",
        "Getting Location of Gaylord National, Washington, DC, USA\n",
        "Found Location."
       ]
      },
      {
       "output_type": "stream",
       "stream": "stdout",
       "text": [
        "\n",
        "Getting Location of Osaka 542-0076, Osaka, Japan\n",
        "Found Location."
       ]
      },
      {
       "output_type": "stream",
       "stream": "stdout",
       "text": [
        "\n",
        "Getting Location of 11011 West Charleston Blvd., Las Vegas, NV, USA\n",
        "Found Location."
       ]
      },
      {
       "output_type": "stream",
       "stream": "stdout",
       "text": [
        "\n",
        "Getting Location of 11011 West Charleston Blvd., Las Vegas, NV, USA\n",
        "Found Location."
       ]
      },
      {
       "output_type": "stream",
       "stream": "stdout",
       "text": [
        "\n",
        "Getting Location of Hayyat Amman Hotel, Amman, Jordan\n",
        "Found Location."
       ]
      },
      {
       "output_type": "stream",
       "stream": "stdout",
       "text": [
        "\n",
        "Getting Location of Rua Ant\u00f3nio Augusto Gon\u00e7alves, Coimbra, Portugal\n",
        "Found Location."
       ]
      },
      {
       "output_type": "stream",
       "stream": "stdout",
       "text": [
        "\n",
        "Getting Location of 500 Canal Street, New Orleans, LA, USA\n",
        "Found Location."
       ]
      },
      {
       "output_type": "stream",
       "stream": "stdout",
       "text": [
        "\n",
        "Getting Location of 675 L St, San Diego, CA, USA\n",
        "Found Location."
       ]
      },
      {
       "output_type": "stream",
       "stream": "stdout",
       "text": [
        "\n",
        "Getting Location of Jeju-si, Jeju Island, Korea (South)\n",
        "Found Location."
       ]
      },
      {
       "output_type": "stream",
       "stream": "stdout",
       "text": [
        "\n",
        "Getting Location of Jeju-si, Jeju Island, Korea (South)\n",
        "Found Location."
       ]
      },
      {
       "output_type": "stream",
       "stream": "stdout",
       "text": [
        "\n",
        "Getting Location of Disneyland Hotel Conference Center, Anaheim, CA, USA\n",
        "Found Location."
       ]
      },
      {
       "output_type": "stream",
       "stream": "stdout",
       "text": [
        "\n",
        "Getting Location of Daejeon Convention Center, Daejeon, Korea (South)\n",
        "Found Location."
       ]
      },
      {
       "output_type": "stream",
       "stream": "stdout",
       "text": [
        "\n",
        "Getting Location of One DoubleTree Drive, Rohnert Park, CA, USA\n",
        "Found Location."
       ]
      },
      {
       "output_type": "stream",
       "stream": "stdout",
       "text": [
        "\n",
        "Getting Location of 1600 Lamar Street, Houston, TX, USA\n",
        "Found Location."
       ]
      },
      {
       "output_type": "stream",
       "stream": "stdout",
       "text": [
        "\n",
        "Getting Location of 1019 BR Amsterdam, Amsterdam, Netherlands\n",
        "Found Location."
       ]
      },
      {
       "output_type": "stream",
       "stream": "stdout",
       "text": [
        "\n",
        "Getting Location of 1800 Presidents Street, Reston, VA, USA\n",
        "Found Location."
       ]
      },
      {
       "output_type": "stream",
       "stream": "stdout",
       "text": [
        "\n",
        "Getting Location of Ringv\u00e4gen 98, Stockholm, Sweden\n",
        "Found Location."
       ]
      },
      {
       "output_type": "stream",
       "stream": "stdout",
       "text": [
        "\n",
        "Getting Location of Am Dammtor / Marseiller Stra\u00dfe, Hamburg, Germany\n",
        "Found Location."
       ]
      },
      {
       "output_type": "stream",
       "stream": "stdout",
       "text": [
        "\n",
        "Getting Location of 900 Bd Rene Levesque East, Quebec City, QC, Canada\n",
        "Found Location."
       ]
      },
      {
       "output_type": "stream",
       "stream": "stdout",
       "text": [
        "\n",
        "Getting Location of 173234, Solan, India\n",
        "Found Location."
       ]
      },
      {
       "output_type": "stream",
       "stream": "stdout",
       "text": [
        "\n",
        "Getting Location of 159 rue Saint-Antoine Ouest, Montreal, QC, Canada\n",
        "Found Location."
       ]
      },
      {
       "output_type": "stream",
       "stream": "stdout",
       "text": [
        "\n",
        "Getting Location of P.O. Box 408, Sk\u00f6vde, Sweden\n",
        "Found Location."
       ]
      },
      {
       "output_type": "stream",
       "stream": "stdout",
       "text": [
        "\n",
        "Getting Location of 5500 Campanile Drive, San Diego, CA, USA\n",
        "Found Location."
       ]
      },
      {
       "output_type": "stream",
       "stream": "stdout",
       "text": [
        "\n",
        "Getting Location of Kongresova 1, Prague, Czech Republic\n",
        "Found Location."
       ]
      },
      {
       "output_type": "stream",
       "stream": "stdout",
       "text": [
        "\n",
        "Getting Location of Technical University of Lodz, Poland\n",
        "Found Location."
       ]
      },
      {
       "output_type": "stream",
       "stream": "stdout",
       "text": [
        "\n",
        "Getting Location of German Jordan University, Amman, Jordan\n",
        "Found Location."
       ]
      },
      {
       "output_type": "stream",
       "stream": "stdout",
       "text": [
        "\n",
        "Getting Location of TBD, Luxembourg, Luxembourg\n",
        "Found Location."
       ]
      },
      {
       "output_type": "stream",
       "stream": "stdout",
       "text": [
        "\n",
        "Getting Location of 300 East Ohio Street, Chicago, IL, USA\n",
        "Found Location."
       ]
      },
      {
       "output_type": "stream",
       "stream": "stdout",
       "text": [
        "\n",
        "Getting Location of Cuesta de Oviedo, s/n, Salamanca, Spain\n",
        "Found Location."
       ]
      },
      {
       "output_type": "stream",
       "stream": "stdout",
       "text": [
        "\n",
        "Getting Location of Faculty of El. Eng., Pilsen, Czech Republic\n",
        "Found Location."
       ]
      },
      {
       "output_type": "stream",
       "stream": "stdout",
       "text": [
        "\n",
        "Getting Location of case postale 13, Geneva 20, Switzerland\n",
        "\n",
        "case postale 13, Geneva 20, Switzerland"
       ]
      },
      {
       "output_type": "stream",
       "stream": "stdout",
       "text": [
        "\n",
        "not found! Tryin:\n",
        "Geneva 20, Switzerland\n",
        "Found Location."
       ]
      },
      {
       "output_type": "stream",
       "stream": "stdout",
       "text": [
        "\n",
        "Getting Location of 1401 Lee Highway, Arlington, VA, USA\n",
        "Found Location."
       ]
      },
      {
       "output_type": "stream",
       "stream": "stdout",
       "text": [
        "\n",
        "Getting Location of Langkawi, Malaysia\n",
        "Found Location."
       ]
      },
      {
       "output_type": "stream",
       "stream": "stdout",
       "text": [
        "\n",
        "Getting Location of 10 Bayfront Avenue, Singapore, Singapore\n",
        "Found Location."
       ]
      },
      {
       "output_type": "stream",
       "stream": "stdout",
       "text": [
        "\n",
        "Getting Location of Las Palmas de Gran Canaria, Canary Islands, Spain\n",
        "Found Location."
       ]
      },
      {
       "output_type": "stream",
       "stream": "stdout",
       "text": [
        "\n",
        "Getting Location of 660 Shi-Men Road, Sec.1, Tainan, Taiwan\n",
        "\n",
        "660 Shi-Men Road, Sec.1, Tainan, Taiwan"
       ]
      },
      {
       "output_type": "stream",
       "stream": "stdout",
       "text": [
        "\n",
        "not found! Tryin:\n",
        "Tainan, Taiwan\n",
        "Found Location."
       ]
      },
      {
       "output_type": "stream",
       "stream": "stdout",
       "text": [
        "\n",
        "Getting Location of Sandton, 2146, Sandton, Johannesburg, South Africa\n",
        "Found Location."
       ]
      },
      {
       "output_type": "stream",
       "stream": "stdout",
       "text": [
        "\n",
        "Getting Location of Teknologiveien 22, Gj\u00f8vik, Norway\n",
        "Found Location."
       ]
      },
      {
       "output_type": "stream",
       "stream": "stdout",
       "text": [
        "\n",
        "Getting Location of TBD, Milan, Italy\n",
        "Found Location."
       ]
      },
      {
       "output_type": "stream",
       "stream": "stdout",
       "text": [
        "\n",
        "Getting Location of University of Dubrovnik, Branitelja Dubrovnika 29, Dubrovnik, Croatia\n",
        "Found Location."
       ]
      },
      {
       "output_type": "stream",
       "stream": "stdout",
       "text": [
        "\n",
        "Getting Location of Kungsportsavenyn 36-38, Gothenburg, Sweden\n",
        "Found Location."
       ]
      },
      {
       "output_type": "stream",
       "stream": "stdout",
       "text": [
        "\n",
        "Getting Location of Chinese University of Hong Kong, Hong Kong, China\n",
        "Found Location."
       ]
      },
      {
       "output_type": "stream",
       "stream": "stdout",
       "text": [
        "\n",
        "Getting Location of Congress Center Dresden, Dresden, Germany\n",
        "Found Location."
       ]
      },
      {
       "output_type": "stream",
       "stream": "stdout",
       "text": [
        "\n",
        "Getting Location of 69 Brown Street, Providence, RI, USA\n",
        "Found Location."
       ]
      },
      {
       "output_type": "stream",
       "stream": "stdout",
       "text": [
        "\n",
        "Getting Location of Bangalore, Bangalore, India\n",
        "Found Location."
       ]
      },
      {
       "output_type": "stream",
       "stream": "stdout",
       "text": [
        "\n",
        "Getting Location of Crowne Plaza Niagara Falls - Fallsview, Niagara Falls, ON, Canada\n",
        "Found Location."
       ]
      },
      {
       "output_type": "stream",
       "stream": "stdout",
       "text": [
        "\n",
        "Getting Location of 1125 Colonel By Drive, Ottawa, ON, Canada\n",
        "Found Location."
       ]
      },
      {
       "output_type": "stream",
       "stream": "stdout",
       "text": [
        "\n",
        "Getting Location of Mataram, Lombok, Indonesia\n",
        "Found Location."
       ]
      },
      {
       "output_type": "stream",
       "stream": "stdout",
       "text": [
        "\n",
        "Getting Location of 2329 West Mall Vancouver, BC Canada V6T 1Z4, Vancouver, BC, Canada\n",
        "Found Location."
       ]
      },
      {
       "output_type": "stream",
       "stream": "stdout",
       "text": [
        "\n",
        "Getting Location of CIBALI, ISTANBUL, Turkey\n",
        "Found Location."
       ]
      },
      {
       "output_type": "stream",
       "stream": "stdout",
       "text": [
        "\n",
        "Getting Location of Sydeny, Australia\n",
        "Found Location."
       ]
      },
      {
       "output_type": "stream",
       "stream": "stdout",
       "text": [
        "\n",
        "Getting Location of TBD, Hangzhou, China\n",
        "Found Location."
       ]
      },
      {
       "output_type": "stream",
       "stream": "stdout",
       "text": [
        "\n",
        "Getting Location of Middlesex UB7 0DU,, London Heathrow, United Kingdom\n",
        "Found Location."
       ]
      },
      {
       "output_type": "stream",
       "stream": "stdout",
       "text": [
        "\n",
        "Getting Location of TBD, Toronto, ON, Canada\n",
        "Found Location."
       ]
      },
      {
       "output_type": "stream",
       "stream": "stdout",
       "text": [
        "\n",
        "Getting Location of Largo Angelicum, 1, Rome, Italy\n",
        "Found Location."
       ]
      },
      {
       "output_type": "stream",
       "stream": "stdout",
       "text": [
        "\n",
        "Getting Location of Fiera Milano Congressi - Milan Convention Center, Milan, Italy\n",
        "Found Location."
       ]
      },
      {
       "output_type": "stream",
       "stream": "stdout",
       "text": [
        "\n",
        "Getting Location of 1550 Court Place, Denver, CO, USA\n",
        "Found Location."
       ]
      },
      {
       "output_type": "stream",
       "stream": "stdout",
       "text": [
        "\n",
        "Getting Location of Grange Road, Cambridge, United Kingdom\n",
        "Found Location."
       ]
      },
      {
       "output_type": "stream",
       "stream": "stdout",
       "text": [
        "\n",
        "Getting Location of Postal code: CB3 0DG, Cambridge, United Kingdom\n",
        "Found Location."
       ]
      },
      {
       "output_type": "stream",
       "stream": "stdout",
       "text": [
        "\n",
        "Getting Location of TBD, Sydney, Australia\n",
        "Found Location."
       ]
      },
      {
       "output_type": "stream",
       "stream": "stdout",
       "text": [
        "\n",
        "Getting Location of TBD, Vancouver, BC, Canada\n",
        "Found Location."
       ]
      },
      {
       "output_type": "stream",
       "stream": "stdout",
       "text": [
        "\n",
        "Getting Location of Altenberger Stra\u00dfe 69, Linz, Austria\n",
        "Found Location."
       ]
      },
      {
       "output_type": "stream",
       "stream": "stdout",
       "text": [
        "\n",
        "Getting Location of 50 Nanyang Avenue, Singapore, Singapore\n",
        "Found Location."
       ]
      },
      {
       "output_type": "stream",
       "stream": "stdout",
       "text": [
        "\n",
        "Getting Location of Marriott Copley Place, Boston, MA, USA\n",
        "\n",
        "Marriott Copley Place, Boston, MA, USA"
       ]
      },
      {
       "output_type": "stream",
       "stream": "stdout",
       "text": [
        "\n",
        "not found! Tryin:\n",
        "Boston, MA, USA\n",
        "Found Location."
       ]
      },
      {
       "output_type": "stream",
       "stream": "stdout",
       "text": [
        "\n",
        "Getting Location of TBD, Ciudad Real, Spain\n",
        "Found Location."
       ]
      },
      {
       "output_type": "stream",
       "stream": "stdout",
       "text": [
        "\n",
        "Getting Location of One Bay Street, Nassau, Bahamas\n",
        "Found Location."
       ]
      },
      {
       "output_type": "stream",
       "stream": "stdout",
       "text": [
        "\n",
        "Getting Location of University of Limerick, Limerick, Ireland\n",
        "Found Location."
       ]
      },
      {
       "output_type": "stream",
       "stream": "stdout",
       "text": [
        "\n",
        "Getting Location of Muckross Road, Killarney, Ireland\n",
        "Found Location."
       ]
      },
      {
       "output_type": "stream",
       "stream": "stdout",
       "text": [
        "\n",
        "Getting Location of Chennai, Chennai, India\n",
        "Found Location."
       ]
      },
      {
       "output_type": "stream",
       "stream": "stdout",
       "text": [
        "\n",
        "Getting Location of Iasi, Bd Carol I 11, Iasi, Romania\n",
        "Found Location."
       ]
      },
      {
       "output_type": "stream",
       "stream": "stdout",
       "text": [
        "\n",
        "Getting Location of Faculte de Medecine, Montpellier, France\n",
        "Found Location."
       ]
      },
      {
       "output_type": "stream",
       "stream": "stdout",
       "text": [
        "\n",
        "Getting Location of Piazza San Marco, 4, Firenze, Italy\n",
        "Found Location."
       ]
      },
      {
       "output_type": "stream",
       "stream": "stdout",
       "text": [
        "\n",
        "Getting Location of 300 Prince Philip Dr., St. John's, NL, Canada\n",
        "Found Location."
       ]
      },
      {
       "output_type": "stream",
       "stream": "stdout",
       "text": [
        "\n",
        "Getting Location of 1000 H St NW, Washington, DC, USA\n",
        "Found Location."
       ]
      },
      {
       "output_type": "stream",
       "stream": "stdout",
       "text": [
        "\n",
        "Getting Location of TBD, China\n",
        "Found Location."
       ]
      },
      {
       "output_type": "stream",
       "stream": "stdout",
       "text": [
        "\n",
        "Getting Location of TBD, Taichung, Taiwan\n",
        "Found Location."
       ]
      },
      {
       "output_type": "stream",
       "stream": "stdout",
       "text": [
        "\n",
        "Getting Location of Cumbay\u00e1, Diego de Robles y V\u00eda Interoce\u00e1nica, Quito, Ecuador\n",
        "Found Location."
       ]
      },
      {
       "output_type": "stream",
       "stream": "stdout",
       "text": [
        "\n",
        "Getting Location of TBD, Taichung, Taiwan\n",
        "Found Location."
       ]
      },
      {
       "output_type": "stream",
       "stream": "stdout",
       "text": [
        "\n",
        "Getting Location of 50 quai Charles de Gaulle, Lyon, France\n",
        "Found Location."
       ]
      },
      {
       "output_type": "stream",
       "stream": "stdout",
       "text": [
        "\n",
        "Getting Location of Torino Incontra conference center, Italy\n",
        "Found Location."
       ]
      },
      {
       "output_type": "stream",
       "stream": "stdout",
       "text": [
        "\n",
        "Getting Location of Via Nino Costa 8, Torino, Italy\n",
        "Found Location."
       ]
      },
      {
       "output_type": "stream",
       "stream": "stdout",
       "text": [
        "\n",
        "Getting Location of Brinellv\u00e4gen 8, Stockholm, Sweden\n",
        "Found Location."
       ]
      },
      {
       "output_type": "stream",
       "stream": "stdout",
       "text": [
        "\n",
        "Getting Location of Chen Rui Qiu Building, Shanghai, China\n",
        "Found Location."
       ]
      },
      {
       "output_type": "stream",
       "stream": "stdout",
       "text": [
        "\n",
        "Getting Location of Gangnam-gu, Seoul, Korea (South)\n",
        "Found Location."
       ]
      },
      {
       "output_type": "stream",
       "stream": "stdout",
       "text": [
        "\n",
        "Getting Location of Kerala, Kollam, India\n",
        "Found Location."
       ]
      },
      {
       "output_type": "stream",
       "stream": "stdout",
       "text": [
        "\n",
        "Getting Location of Monte da Caparica, Caparica, Portugal\n",
        "Found Location."
       ]
      },
      {
       "output_type": "stream",
       "stream": "stdout",
       "text": [
        "\n",
        "Getting Location of TBD, Rio de Janeiro, Brazil\n",
        "Found Location."
       ]
      },
      {
       "output_type": "stream",
       "stream": "stdout",
       "text": [
        "\n",
        "Getting Location of Porto Conte 52, Alghero, Italy\n",
        "Found Location."
       ]
      },
      {
       "output_type": "stream",
       "stream": "stdout",
       "text": [
        "\n",
        "Getting Location of Porto Conte 52, Alghero, Italy\n",
        "Found Location."
       ]
      },
      {
       "output_type": "stream",
       "stream": "stdout",
       "text": [
        "\n",
        "Getting Location of Studentska 1402/2, Liberec, Czech Republic\n",
        "Found Location."
       ]
      },
      {
       "output_type": "stream",
       "stream": "stdout",
       "text": [
        "\n",
        "Getting Location of TBD, Chicago or Evanston, IL, USA\n",
        "Found Location."
       ]
      },
      {
       "output_type": "stream",
       "stream": "stdout",
       "text": [
        "\n",
        "Getting Location of HetPand, Ghent, Belgium\n",
        "Found Location."
       ]
      },
      {
       "output_type": "stream",
       "stream": "stdout",
       "text": [
        "\n",
        "Getting Location of Brunow 27, Lw\u00f3wek \u015al\u0105ski, Poland\n",
        "Found Location."
       ]
      },
      {
       "output_type": "stream",
       "stream": "stdout",
       "text": [
        "\n",
        "Getting Location of Via Bagnoli Croci, 75, Taormina (ME), Italy\n",
        "Found Location."
       ]
      },
      {
       "output_type": "stream",
       "stream": "stdout",
       "text": [
        "\n",
        "Getting Location of 375 S. Moorland Road, Milwaukee, WI, USA\n",
        "Found Location."
       ]
      },
      {
       "output_type": "stream",
       "stream": "stdout",
       "text": [
        "\n",
        "Getting Location of 128 Albert Street, Auckland, New Zealand\n",
        "Found Location."
       ]
      },
      {
       "output_type": "stream",
       "stream": "stdout",
       "text": [
        "\n",
        "Getting Location of 601 Loyola Avenue, New Orleans, LA, USA\n",
        "Found Location."
       ]
      },
      {
       "output_type": "stream",
       "stream": "stdout",
       "text": [
        "\n",
        "Getting Location of 600 Town Center Drive, Dearborn, MI, USA\n",
        "Found Location."
       ]
      },
      {
       "output_type": "stream",
       "stream": "stdout",
       "text": [
        "\n",
        "Getting Location of 1 Expo Drive, Wanchai, Hong Kong, Hong Kong\n",
        "Found Location."
       ]
      },
      {
       "output_type": "stream",
       "stream": "stdout",
       "text": [
        "\n",
        "Getting Location of Seaview O'City Hotel Shenzhen, Shenzhen, China\n",
        "Found Location."
       ]
      },
      {
       "output_type": "stream",
       "stream": "stdout",
       "text": [
        "\n",
        "Getting Location of 4900 S. Syracuse Street, Denver, CO, USA\n",
        "Found Location."
       ]
      },
      {
       "output_type": "stream",
       "stream": "stdout",
       "text": [
        "\n",
        "Getting Location of Sydney, NSW, Sydney, Australia\n",
        "Found Location."
       ]
      },
      {
       "output_type": "stream",
       "stream": "stdout",
       "text": [
        "\n",
        "Getting Location of Turning Stone Resort Casino, Verona, NY, USA\n",
        "Found Location."
       ]
      },
      {
       "output_type": "stream",
       "stream": "stdout",
       "text": [
        "\n",
        "Getting Location of TBD, CA, USA\n",
        "Found Location."
       ]
      },
      {
       "output_type": "stream",
       "stream": "stdout",
       "text": [
        "\n",
        "Getting Location of Weidenauer Stra\u00dfe 167, Siegen, Germany\n",
        "Found Location."
       ]
      },
      {
       "output_type": "stream",
       "stream": "stdout",
       "text": [
        "\n",
        "Getting Location of One Western Gateway  Royal Victoria Dock  London E16 1XL, London, United Kingdom\n",
        "Found Location."
       ]
      },
      {
       "output_type": "stream",
       "stream": "stdout",
       "text": [
        "\n",
        "Getting Location of Moscone Center, San Francisco, CA, USA\n",
        "Found Location."
       ]
      },
      {
       "output_type": "stream",
       "stream": "stdout",
       "text": [
        "\n",
        "Getting Location of Royal Victoria Dock, London, United Kingdom\n",
        "Found Location."
       ]
      },
      {
       "output_type": "stream",
       "stream": "stdout",
       "text": [
        "\n",
        "Getting Location of Kensington, Sydney, Australia\n",
        "Found Location."
       ]
      },
      {
       "output_type": "stream",
       "stream": "stdout",
       "text": [
        "\n",
        "Getting Location of Kensington, Sydney, Australia\n",
        "Found Location."
       ]
      },
      {
       "output_type": "stream",
       "stream": "stdout",
       "text": [
        "\n",
        "Getting Location of 900 Boylston St, Boston, MA, USA\n",
        "Found Location."
       ]
      },
      {
       "output_type": "stream",
       "stream": "stdout",
       "text": [
        "\n",
        "Getting Location of 515 Madison Street, Seattle, WA, USA\n",
        "Found Location."
       ]
      },
      {
       "output_type": "stream",
       "stream": "stdout",
       "text": [
        "\n",
        "Getting Location of Yuseong-gu, Daejeon, Korea (South)\n",
        "Found Location."
       ]
      },
      {
       "output_type": "stream",
       "stream": "stdout",
       "text": [
        "\n",
        "Getting Location of Piazza Guerrazzi, 1, Benevento, Italy\n",
        "Found Location."
       ]
      },
      {
       "output_type": "stream",
       "stream": "stdout",
       "text": [
        "\n",
        "Getting Location of TBD, Budapest, Hungary\n",
        "Found Location."
       ]
      },
      {
       "output_type": "stream",
       "stream": "stdout",
       "text": [
        "\n",
        "Getting Location of Rua da M\u00e3e de Deus, 58, Ponta Delgada, Portugal\n",
        "Found Location."
       ]
      },
      {
       "output_type": "stream",
       "stream": "stdout",
       "text": [
        "\n",
        "Getting Location of TBD, Singapore, Singapore\n",
        "Found Location."
       ]
      },
      {
       "output_type": "stream",
       "stream": "stdout",
       "text": [
        "\n",
        "Getting Location of Sheraton Grande Walkerhill, Seoul, Korea (South)\n",
        "\n",
        "Sheraton Grande Walkerhill, Seoul, Korea (South)"
       ]
      },
      {
       "output_type": "stream",
       "stream": "stdout",
       "text": [
        "\n",
        "not found! Tryin:\n",
        "Seoul, Korea (South)\n",
        "Found Location."
       ]
      },
      {
       "output_type": "stream",
       "stream": "stdout",
       "text": [
        "\n",
        "Getting Location of 500 East 4th Street, Austin, TX, USA\n",
        "Found Location."
       ]
      },
      {
       "output_type": "stream",
       "stream": "stdout",
       "text": [
        "\n",
        "Getting Location of 500 East 4th Street, Austin, TX, USA\n",
        "Found Location."
       ]
      },
      {
       "output_type": "stream",
       "stream": "stdout",
       "text": [
        "\n",
        "Getting Location of Shivajinagar, Wellsley Road, Pune, India\n",
        "Found Location."
       ]
      },
      {
       "output_type": "stream",
       "stream": "stdout",
       "text": [
        "\n",
        "Getting Location of 10 Xitucheng Road, Haidian District, Beijing, Beijing, China\n",
        "Found Location."
       ]
      },
      {
       "output_type": "stream",
       "stream": "stdout",
       "text": [
        "\n",
        "Getting Location of Egyetemv\u00e1ros, Miskolc, Hungary\n",
        "Found Location."
       ]
      },
      {
       "output_type": "stream",
       "stream": "stdout",
       "text": [
        "\n",
        "Getting Location of Davutpasa Campus, Istanbul, Turkey\n",
        "Found Location."
       ]
      },
      {
       "output_type": "stream",
       "stream": "stdout",
       "text": [
        "\n",
        "Getting Location of TBA, Kuala Lumpur, Malaysia\n",
        "Found Location."
       ]
      },
      {
       "output_type": "stream",
       "stream": "stdout",
       "text": [
        "\n",
        "Getting Location of No.1, Sec. 4, Zhongshan N. Rd., Zhongshan Dist., Taipei, Taiwan\n",
        "Found Location."
       ]
      },
      {
       "output_type": "stream",
       "stream": "stdout",
       "text": [
        "\n",
        "Getting Location of Jalan Semarak, Kuala Lumpur, Malaysia\n",
        "Found Location."
       ]
      },
      {
       "output_type": "stream",
       "stream": "stdout",
       "text": [
        "\n",
        "Getting Location of Kuala Lumpur, Kuala Lumpur, Malaysia\n",
        "Found Location."
       ]
      },
      {
       "output_type": "stream",
       "stream": "stdout",
       "text": [
        "\n",
        "Getting Location of 1380 Harbor Island Dr, San Diego, CA, USA\n",
        "Found Location."
       ]
      },
      {
       "output_type": "stream",
       "stream": "stdout",
       "text": [
        "\n",
        "Getting Location of Marsala Tita 200, Opatija, Croatia\n",
        "Found Location."
       ]
      },
      {
       "output_type": "stream",
       "stream": "stdout",
       "text": [
        "\n",
        "Getting Location of Concern CSRI Elektropribor, JSC, Saint Petersburg, Russia\n",
        "Found Location."
       ]
      },
      {
       "output_type": "stream",
       "stream": "stdout",
       "text": [
        "\n",
        "Getting Location of Aoba-ku, Sendai, Japan\n",
        "Found Location."
       ]
      },
      {
       "output_type": "stream",
       "stream": "stdout",
       "text": [
        "\n",
        "Getting Location of Auditorium, Univ. of Tlemcen, Tlemcen, Algeria\n",
        "Found Location."
       ]
      },
      {
       "output_type": "stream",
       "stream": "stdout",
       "text": [
        "\n",
        "Getting Location of Andhra Prodesh, Hyderabad, India\n",
        "Found Location."
       ]
      },
      {
       "output_type": "stream",
       "stream": "stdout",
       "text": [
        "\n",
        "Getting Location of 800 Convention Place, Seattle, WA, USA\n",
        "Found Location."
       ]
      },
      {
       "output_type": "stream",
       "stream": "stdout",
       "text": [
        "\n",
        "Getting Location of http://www.ccb.pt, Lisbon, Portugal\n",
        "Found Location."
       ]
      },
      {
       "output_type": "stream",
       "stream": "stdout",
       "text": [
        "\n",
        "Getting Location of 30 Biopolis Street, Singapore, Singapore\n",
        "Found Location."
       ]
      },
      {
       "output_type": "stream",
       "stream": "stdout",
       "text": [
        "\n",
        "Getting Location of TBD, Antalya, Turkey\n",
        "Found Location."
       ]
      },
      {
       "output_type": "stream",
       "stream": "stdout",
       "text": [
        "\n",
        "Getting Location of TBD, Phoenix, AZ, USA\n",
        "Found Location."
       ]
      },
      {
       "output_type": "stream",
       "stream": "stdout",
       "text": [
        "\n",
        "Getting Location of Northern Illinois University, Dekalb, IL, USA\n",
        "Found Location."
       ]
      },
      {
       "output_type": "stream",
       "stream": "stdout",
       "text": [
        "\n",
        "Getting Location of Patong, Kathu, Phuket, Thailand\n",
        "Found Location."
       ]
      },
      {
       "output_type": "stream",
       "stream": "stdout",
       "text": [
        "\n",
        "Getting Location of TBD, Ipoh, Perak, Malaysia\n",
        "Found Location."
       ]
      },
      {
       "output_type": "stream",
       "stream": "stdout",
       "text": [
        "\n",
        "Getting Location of Modulo 9 - 1\u00b0 piano, Genoa, Italy\n",
        "Found Location."
       ]
      },
      {
       "output_type": "stream",
       "stream": "stdout",
       "text": [
        "\n",
        "Getting Location of Plaza de la Convenciones s/n 35100 - Meloneras, Gran Canaria, Spain\n",
        "Found Location."
       ]
      },
      {
       "output_type": "stream",
       "stream": "stdout",
       "text": [
        "\n",
        "Getting Location of 170 South Market Street, San Jose, CA, USA\n",
        "Found Location."
       ]
      },
      {
       "output_type": "stream",
       "stream": "stdout",
       "text": [
        "\n",
        "Getting Location of 200 University Ave. W., Waterloo, ON, Canada\n",
        "Found Location."
       ]
      },
      {
       "output_type": "stream",
       "stream": "stdout",
       "text": [
        "\n",
        "Getting Location of Piazza Adua, 1, Florence, Italy\n",
        "Found Location."
       ]
      },
      {
       "output_type": "stream",
       "stream": "stdout",
       "text": [
        "\n",
        "Getting Location of 1 Old Golf Course Road, Monterey, CA, USA\n",
        "Found Location."
       ]
      },
      {
       "output_type": "stream",
       "stream": "stdout",
       "text": [
        "\n",
        "Getting Location of Isola d'Elba, Italy\n",
        "Found Location."
       ]
      },
      {
       "output_type": "stream",
       "stream": "stdout",
       "text": [
        "\n",
        "Getting Location of 225 South 3rd Avenue Minneapolis, Minneapolis, MN, USA\n",
        "Found Location."
       ]
      },
      {
       "output_type": "stream",
       "stream": "stdout",
       "text": [
        "\n",
        "Getting Location of Piazza Adua, 1, Florence, Italy\n",
        "Found Location."
       ]
      },
      {
       "output_type": "stream",
       "stream": "stdout",
       "text": [
        "\n",
        "Getting Location of Phoenix Convention Center, Phoenix, AZ, USA\n",
        "Found Location."
       ]
      },
      {
       "output_type": "stream",
       "stream": "stdout",
       "text": [
        "\n",
        "Getting Location of via Banchi di Sotto 55, Siena, Italy\n",
        "Found Location."
       ]
      },
      {
       "output_type": "stream",
       "stream": "stdout",
       "text": [
        "\n",
        "Getting Location of Beijing, Beijing, China\n",
        "Found Location."
       ]
      },
      {
       "output_type": "stream",
       "stream": "stdout",
       "text": [
        "\n",
        "Getting Location of Gujarat, Ahmedabad, India\n",
        "Found Location."
       ]
      },
      {
       "output_type": "stream",
       "stream": "stdout",
       "text": [
        "\n",
        "Getting Location of ECEE UCB 425, Boulder, CO, USA\n",
        "Found Location."
       ]
      },
      {
       "output_type": "stream",
       "stream": "stdout",
       "text": [
        "\n",
        "Getting Location of 121 George Street, Glasgow, United Kingdom\n",
        "Found Location."
       ]
      },
      {
       "output_type": "stream",
       "stream": "stdout",
       "text": [
        "\n",
        "Getting Location of TBD, Chicago, IL, USA\n",
        "Found Location."
       ]
      },
      {
       "output_type": "stream",
       "stream": "stdout",
       "text": [
        "\n",
        "Getting Location of 55 Colonel By Drive, Ottawa, ON, Canada\n",
        "Found Location."
       ]
      },
      {
       "output_type": "stream",
       "stream": "stdout",
       "text": [
        "\n",
        "Getting Location of 55 Colonel By Drive, Ottawa, ON, Canada\n",
        "Found Location."
       ]
      },
      {
       "output_type": "stream",
       "stream": "stdout",
       "text": [
        "\n",
        "Getting Location of Via Moruzzi, 1, Pisa, Italy\n",
        "Found Location."
       ]
      },
      {
       "output_type": "stream",
       "stream": "stdout",
       "text": [
        "\n",
        "Getting Location of No. 8 Precincts, Beichen West Road, Chaoyang District, Beijing, China\n",
        "Found Location."
       ]
      },
      {
       "output_type": "stream",
       "stream": "stdout",
       "text": [
        "\n",
        "Getting Location of Via Giacomo Matteotti, 1, Pisa, Italy\n",
        "Found Location."
       ]
      },
      {
       "output_type": "stream",
       "stream": "stdout",
       "text": [
        "\n",
        "Getting Location of 25135 Park Lantern, Dana Point, CA, USA\n",
        "Found Location."
       ]
      },
      {
       "output_type": "stream",
       "stream": "stdout",
       "text": [
        "\n",
        "Getting Location of 15 Middlesex Canal Park Road, Woburn, MA, USA\n",
        "Found Location."
       ]
      },
      {
       "output_type": "stream",
       "stream": "stdout",
       "text": [
        "\n",
        "Getting Location of Kowloon, Hong Kong\n",
        "Found Location."
       ]
      },
      {
       "output_type": "stream",
       "stream": "stdout",
       "text": [
        "\n",
        "Getting Location of Crystal Gateway Marriott, Arlington, VA, USA\n",
        "\n",
        "Crystal Gateway Marriott, Arlington, VA, USA"
       ]
      },
      {
       "output_type": "stream",
       "stream": "stdout",
       "text": [
        "\n",
        "not found! Tryin:\n",
        "Arlington, VA, USA\n",
        "Found Location."
       ]
      },
      {
       "output_type": "stream",
       "stream": "stdout",
       "text": [
        "\n",
        "Getting Location of 115 South Second Street, Coeur d'Alene, ID, USA\n",
        "Found Location."
       ]
      },
      {
       "output_type": "stream",
       "stream": "stdout",
       "text": [
        "\n",
        "Getting Location of 387 King Street, Charleston, SC, USA\n",
        "Found Location."
       ]
      },
      {
       "output_type": "stream",
       "stream": "stdout",
       "text": [
        "\n",
        "Getting Location of TBD, Berlin, Germany\n",
        "Found Location."
       ]
      },
      {
       "output_type": "stream",
       "stream": "stdout",
       "text": [
        "\n",
        "Getting Location of TBD, Berlin, Germany\n",
        "Found Location."
       ]
      },
      {
       "output_type": "stream",
       "stream": "stdout",
       "text": [
        "\n",
        "Getting Location of 11 9th Ave. S.E., Calgary, AB, Canada\n",
        "Found Location."
       ]
      },
      {
       "output_type": "stream",
       "stream": "stdout",
       "text": [
        "\n",
        "Getting Location of 1100 Rue Notre-Dame Ouest, Montr\u00e9al, QC, Canada\n",
        "Found Location."
       ]
      },
      {
       "output_type": "stream",
       "stream": "stdout",
       "text": [
        "\n",
        "Getting Location of Presernova cesta 10, Ljubljana, Slovenia\n",
        "Found Location."
       ]
      },
      {
       "output_type": "stream",
       "stream": "stdout",
       "text": [
        "\n",
        "Getting Location of tbd, Shenzhen, China\n",
        "Found Location."
       ]
      },
      {
       "output_type": "stream",
       "stream": "stdout",
       "text": [
        "\n",
        "Getting Location of #43 KeeLung Road, Sec. 4, Taipei, Taiwan\n",
        "Found Location."
       ]
      },
      {
       "output_type": "stream",
       "stream": "stdout",
       "text": [
        "\n",
        "Getting Location of 1001 Broadway, Oakland, CA, USA\n",
        "Found Location."
       ]
      },
      {
       "output_type": "stream",
       "stream": "stdout",
       "text": [
        "\n",
        "Getting Location of 534 Broadway, Saratoga Springs, NY, USA\n",
        "Found Location."
       ]
      },
      {
       "output_type": "stream",
       "stream": "stdout",
       "text": [
        "\n",
        "Getting Location of 1800 Argyle Street, Halifax, NS, Canada\n",
        "Found Location."
       ]
      },
      {
       "output_type": "stream",
       "stream": "stdout",
       "text": [
        "\n",
        "Getting Location of TBD, Richmond, VA, USA\n",
        "Found Location."
       ]
      },
      {
       "output_type": "stream",
       "stream": "stdout",
       "text": [
        "\n",
        "Getting Location of Jeddah, Saudi Arabia\n",
        "Found Location."
       ]
      },
      {
       "output_type": "stream",
       "stream": "stdout",
       "text": [
        "\n",
        "Getting Location of TBD, Chicago, IL, USA\n",
        "Found Location."
       ]
      },
      {
       "output_type": "stream",
       "stream": "stdout",
       "text": [
        "\n",
        "Getting Location of 1128 West Hastings Street, Vancouver, BC, Canada\n",
        "Found Location."
       ]
      },
      {
       "output_type": "stream",
       "stream": "stdout",
       "text": [
        "\n",
        "Getting Location of Tsinghua University, Beijing, China\n",
        "Found Location."
       ]
      },
      {
       "output_type": "stream",
       "stream": "stdout",
       "text": [
        "\n",
        "Getting Location of Tsinghua University, Beijing, China\n",
        "Found Location."
       ]
      },
      {
       "output_type": "stream",
       "stream": "stdout",
       "text": [
        "\n",
        "Getting Location of Lebanese University, Beirut, Lebanon\n",
        "Found Location."
       ]
      },
      {
       "output_type": "stream",
       "stream": "stdout",
       "text": [
        "\n",
        "Getting Location of Lebanese University, Beirut, Lebanon\n",
        "Found Location."
       ]
      },
      {
       "output_type": "stream",
       "stream": "stdout",
       "text": [
        "\n",
        "Getting Location of TBD, Germany\n",
        "\n",
        "TBD, Germany"
       ]
      },
      {
       "output_type": "stream",
       "stream": "stdout",
       "text": [
        "\n",
        "not found! Tryin:\n",
        "Germany\n",
        "Found Location."
       ]
      },
      {
       "output_type": "stream",
       "stream": "stdout",
       "text": [
        "\n",
        "Getting Location of 100101, Beijing, China, Beijing, China\n",
        "Found Location."
       ]
      },
      {
       "output_type": "stream",
       "stream": "stdout",
       "text": [
        "\n",
        "Getting Location of 188 Chung Hwa Road, Section 2, Hsinchu, Taiwan\n",
        "Found Location."
       ]
      },
      {
       "output_type": "stream",
       "stream": "stdout",
       "text": [
        "\n",
        "Getting Location of 188 Chung Hwa Road, Section 2, Hsinchu, Taiwan\n",
        "Found Location."
       ]
      },
      {
       "output_type": "stream",
       "stream": "stdout",
       "text": [
        "\n",
        "Getting Location of 1600 Atlas Peak road, Napa, CA, USA\n",
        "Found Location."
       ]
      },
      {
       "output_type": "stream",
       "stream": "stdout",
       "text": [
        "\n",
        "Getting Location of Princess Nourah Bint Abdulrahman University, Riyadh, Saudi Arabia\n",
        "Found Location."
       ]
      },
      {
       "output_type": "stream",
       "stream": "stdout",
       "text": [
        "\n",
        "Getting Location of P.O. Box 8215, Jerusalem, Israel\n",
        "Found Location."
       ]
      },
      {
       "output_type": "stream",
       "stream": "stdout",
       "text": [
        "\n",
        "Getting Location of 20 Nathan Road, Kowloon, Hong Kong\n",
        "Found Location."
       ]
      },
      {
       "output_type": "stream",
       "stream": "stdout",
       "text": [
        "\n",
        "Getting Location of 123 Queen Street West, Toronto, ON, Canada\n",
        "Found Location."
       ]
      },
      {
       "output_type": "stream",
       "stream": "stdout",
       "text": [
        "\n",
        "Getting Location of Changsha City, Hubei Province, China\n",
        "Found Location."
       ]
      },
      {
       "output_type": "stream",
       "stream": "stdout",
       "text": [
        "\n",
        "Getting Location of Toplicin Venac 23, Belgrade, Serbia\n",
        "Found Location."
       ]
      },
      {
       "output_type": "stream",
       "stream": "stdout",
       "text": [
        "\n",
        "Getting Location of TBD, Paris, France\n",
        "Found Location."
       ]
      },
      {
       "output_type": "stream",
       "stream": "stdout",
       "text": [
        "\n",
        "Getting Location of Adhiparasakthi Engineering College, Melmaruvathur, Chennai, Tamilnadu,India., Chennai, India\n",
        "Found Location."
       ]
      },
      {
       "output_type": "stream",
       "stream": "stdout",
       "text": [
        "\n",
        "Getting Location of Universiti Tun Hussein Onn Malaysia, Malaysia\n",
        "Found Location."
       ]
      },
      {
       "output_type": "stream",
       "stream": "stdout",
       "text": [
        "\n",
        "Getting Location of China National Conference Center (CNCC), China\n",
        "\n",
        "China National Conference Center (CNCC), China"
       ]
      },
      {
       "output_type": "stream",
       "stream": "stdout",
       "text": [
        "\n",
        "not found! Tryin:\n",
        "China\n",
        "Found Location."
       ]
      },
      {
       "output_type": "stream",
       "stream": "stdout",
       "text": [
        "\n",
        "Getting Location of Brisbane Convention & Exhibition Centre, South Brisbane, Queensland, Australia\n",
        "\n",
        "Brisbane Convention & Exhibition Centre, South Brisbane, Queensland, Australia"
       ]
      },
      {
       "output_type": "stream",
       "stream": "stdout",
       "text": [
        "\n",
        "not found! Tryin:\n",
        "South Brisbane, Queensland, Australia\n",
        "Found Location."
       ]
      },
      {
       "output_type": "stream",
       "stream": "stdout",
       "text": [
        "\n",
        "Getting Location of Grove Park Inn Resort & Spa, Asheville, NC, USA\n",
        "Found Location."
       ]
      },
      {
       "output_type": "stream",
       "stream": "stdout",
       "text": [
        "\n",
        "Getting Location of 2520 Wasser Terrace, Herdon, VA, USA\n",
        "Found Location."
       ]
      },
      {
       "output_type": "stream",
       "stream": "stdout",
       "text": [
        "\n",
        "Getting Location of 1 Old Golf Course Road, Monterey, CA, USA\n",
        "Found Location."
       ]
      },
      {
       "output_type": "stream",
       "stream": "stdout",
       "text": [
        "\n",
        "Getting Location of 444 St. Charles Ave, New Orleans, LA, USA\n",
        "Found Location."
       ]
      },
      {
       "output_type": "stream",
       "stream": "stdout",
       "text": [
        "\n",
        "Getting Location of New York Marriott at the Brooklyn Bridge, Brooklyn, NY, USA\n",
        "\n",
        "New York Marriott at the Brooklyn Bridge, Brooklyn, NY, USA"
       ]
      },
      {
       "output_type": "stream",
       "stream": "stdout",
       "text": [
        "\n",
        "not found! Tryin:\n",
        "Brooklyn, NY, USA\n",
        "Found Location."
       ]
      },
      {
       "output_type": "stream",
       "stream": "stdout",
       "text": [
        "\n",
        "Getting Location of 440 W 57th Street, New York City, NY, USA\n",
        "Found Location."
       ]
      },
      {
       "output_type": "stream",
       "stream": "stdout",
       "text": [
        "\n",
        "Getting Location of 111 West Harbor Drive, San Diego, CA, USA\n",
        "Found Location."
       ]
      },
      {
       "output_type": "stream",
       "stream": "stdout",
       "text": [
        "\n",
        "Getting Location of 444 St. Charles Ave., New Orleans, LA, USA\n",
        "Found Location."
       ]
      },
      {
       "output_type": "stream",
       "stream": "stdout",
       "text": [
        "\n",
        "Getting Location of 70 Third Avenue, Waltham, MA, USA\n",
        "Found Location."
       ]
      },
      {
       "output_type": "stream",
       "stream": "stdout",
       "text": [
        "\n",
        "Getting Location of Marriott Pinnacle Vancouver, Vancouver, BC, Canada\n",
        "Found Location."
       ]
      },
      {
       "output_type": "stream",
       "stream": "stdout",
       "text": [
        "\n",
        "Getting Location of Kangnam-gu, Seoul, Korea (South)\n",
        "Found Location."
       ]
      },
      {
       "output_type": "stream",
       "stream": "stdout",
       "text": [
        "\n",
        "Getting Location of Albrechtgasse 1, Graz, Austria\n",
        "Found Location."
       ]
      },
      {
       "output_type": "stream",
       "stream": "stdout",
       "text": [
        "\n",
        "Getting Location of Albrechtgasse 1, Graz, Austria\n",
        "Found Location."
       ]
      },
      {
       "output_type": "stream",
       "stream": "stdout",
       "text": [
        "\n",
        "Getting Location of TBD, Seattle, WA, USA\n",
        "Found Location."
       ]
      },
      {
       "output_type": "stream",
       "stream": "stdout",
       "text": [
        "\n",
        "Getting Location of CPSWeek 2015 Venue, Seattle, WA, USA\n",
        "Found Location."
       ]
      },
      {
       "output_type": "stream",
       "stream": "stdout",
       "text": [
        "\n",
        "Getting Location of Av. General Humberto Delgado, 47, Costa da Caparica, Portugal\n",
        "Found Location."
       ]
      },
      {
       "output_type": "stream",
       "stream": "stdout",
       "text": [
        "\n",
        "Getting Location of 1550 North Atlantic Ave., Cocoa Beach, FL, USA\n",
        "Found Location."
       ]
      },
      {
       "output_type": "stream",
       "stream": "stdout",
       "text": [
        "\n",
        "Getting Location of Gower St, London, United Kingdom\n",
        "Found Location."
       ]
      },
      {
       "output_type": "stream",
       "stream": "stdout",
       "text": [
        "\n",
        "Getting Location of Hotel Kolovare, Croatia\n",
        "\n",
        "Hotel Kolovare, Croatia"
       ]
      },
      {
       "output_type": "stream",
       "stream": "stdout",
       "text": [
        "\n",
        "not found! Tryin:\n",
        "Croatia\n",
        "Found Location."
       ]
      },
      {
       "output_type": "stream",
       "stream": "stdout",
       "text": [
        "\n",
        "Getting Location of 700 14th Street, Denver, CO, USA\n",
        "Found Location."
       ]
      },
      {
       "output_type": "stream",
       "stream": "stdout",
       "text": [
        "\n",
        "Getting Location of 400 Mandalay Ave., Clearwater Beach, FL, USA\n",
        "Found Location."
       ]
      },
      {
       "output_type": "stream",
       "stream": "stdout",
       "text": [
        "\n",
        "Getting Location of HILTON FORT LAUDERDALE MARINA, FL, USA\n",
        "\n",
        "HILTON FORT LAUDERDALE MARINA, FL, USA"
       ]
      },
      {
       "output_type": "stream",
       "stream": "stdout",
       "text": [
        "\n",
        "not found! Tryin:\n",
        "FL, USA\n",
        "Found Location."
       ]
      },
      {
       "output_type": "stream",
       "stream": "stdout",
       "text": [
        "\n",
        "Getting Location of Bebek, Istanbul, Turkey\n",
        "Found Location."
       ]
      },
      {
       "output_type": "stream",
       "stream": "stdout",
       "text": [
        "\n",
        "Getting Location of No. 30,Sec. 3,Shin-Sheng South Road, Taipei, Taiwan\n",
        "Found Location."
       ]
      },
      {
       "output_type": "stream",
       "stream": "stdout",
       "text": [
        "\n",
        "Getting Location of P.O. Box 929000, Snowbird, UT, USA\n",
        "Found Location."
       ]
      },
      {
       "output_type": "stream",
       "stream": "stdout",
       "text": [
        "\n",
        "Getting Location of TBD, Long Beach, CA, USA\n",
        "Found Location."
       ]
      },
      {
       "output_type": "stream",
       "stream": "stdout",
       "text": [
        "\n",
        "Getting Location of P.O. Box 3030, Amman, Jordan\n",
        "Found Location."
       ]
      },
      {
       "output_type": "stream",
       "stream": "stdout",
       "text": [
        "\n",
        "Getting Location of Melmaruvathur, Kanchipuram-District, Tamilnadu-603319, INDIA, Melmaruvathur, India\n",
        "Found Location."
       ]
      },
      {
       "output_type": "stream",
       "stream": "stdout",
       "text": [
        "\n",
        "Getting Location of Melmaruvathur, Kanchipuram-District, Tamilnadu-603319, INDIA, Melmaruvathur, India\n",
        "Found Location."
       ]
      },
      {
       "output_type": "stream",
       "stream": "stdout",
       "text": [
        "\n",
        "Getting Location of Great China International Exchange Square, Fuhua Road, Futian District, Shenzhen 518048, China, China\n",
        "\n",
        "Great China International Exchange Square, Fuhua Road, Futian District, Shenzhen 518048, China, China"
       ]
      },
      {
       "output_type": "stream",
       "stream": "stdout",
       "text": [
        "\n",
        "not found! Tryin:\n",
        "China\n",
        "Found Location."
       ]
      },
      {
       "output_type": "stream",
       "stream": "stdout",
       "text": [
        "\n",
        "Getting Location of Route Louis-Favre 2, Ecublens, Switzerland\n",
        "Found Location."
       ]
      },
      {
       "output_type": "stream",
       "stream": "stdout",
       "text": [
        "\n",
        "Getting Location of TBD, Philadelphia, PA, USA\n",
        "Found Location."
       ]
      },
      {
       "output_type": "stream",
       "stream": "stdout",
       "text": [
        "\n",
        "Getting Location of TBD, Philadelphia, PA, USA\n",
        "Found Location."
       ]
      },
      {
       "output_type": "stream",
       "stream": "stdout",
       "text": [
        "\n",
        "Getting Location of TBD, Istanbul, Turkey\n",
        "Found Location."
       ]
      },
      {
       "output_type": "stream",
       "stream": "stdout",
       "text": [
        "\n",
        "Getting Location of Route Touristique Skanes Bp 75, Skanes, Monastir, Tunisia\n",
        "Found Location."
       ]
      },
      {
       "output_type": "stream",
       "stream": "stdout",
       "text": [
        "\n",
        "Getting Location of Seo-gu, Guwangiu, Korea (South)\n",
        "Found Location."
       ]
      },
      {
       "output_type": "stream",
       "stream": "stdout",
       "text": [
        "\n",
        "Getting Location of 2100 So. Priest Dr., Tempe, AZ, USA\n",
        "Found Location."
       ]
      },
      {
       "output_type": "stream",
       "stream": "stdout",
       "text": [
        "\n",
        "Getting Location of 62 Kauna'Oa Dr, Waimea, HI, USA\n",
        "Found Location."
       ]
      },
      {
       "output_type": "stream",
       "stream": "stdout",
       "text": [
        "\n",
        "Getting Location of Kow loon, Hong Kong\n",
        "Found Location."
       ]
      },
      {
       "output_type": "stream",
       "stream": "stdout",
       "text": [
        "\n",
        "Getting Location of 310 S England St, Williamsburg, VA, USA\n",
        "Found Location."
       ]
      },
      {
       "output_type": "stream",
       "stream": "stdout",
       "text": [
        "\n",
        "Getting Location of Los Angeles Convention Center, Los Angeles, CA, USA\n",
        "Found Location."
       ]
      },
      {
       "output_type": "stream",
       "stream": "stdout",
       "text": [
        "\n",
        "Getting Location of 1910 University Drive, Boise, ID, USA\n",
        "Found Location."
       ]
      },
      {
       "output_type": "stream",
       "stream": "stdout",
       "text": [
        "\n",
        "Getting Location of Tamilnadu, Coimbatore, India\n",
        "Found Location."
       ]
      },
      {
       "output_type": "stream",
       "stream": "stdout",
       "text": [
        "\n",
        "Getting Location of Tamil Nadu, Nagercoil, India\n",
        "Found Location."
       ]
      },
      {
       "output_type": "stream",
       "stream": "stdout",
       "text": [
        "\n",
        "Getting Location of San Juan de Ribera, 2, Seville, Spain\n",
        "Found Location."
       ]
      },
      {
       "output_type": "stream",
       "stream": "stdout",
       "text": [
        "\n",
        "Getting Location of 5001 Great America Pkwy, Santa Clara, CA, USA\n",
        "Found Location."
       ]
      },
      {
       "output_type": "stream",
       "stream": "stdout",
       "text": [
        "\n",
        "Getting Location of 1850 Warburton Avenue, Santa Clara, CA, USA\n",
        "Found Location."
       ]
      },
      {
       "output_type": "stream",
       "stream": "stdout",
       "text": [
        "\n",
        "Getting Location of A-10 Sector 62, Noida, India\n",
        "Found Location."
       ]
      },
      {
       "output_type": "stream",
       "stream": "stdout",
       "text": [
        "\n",
        "Getting Location of TBD, Orlando, FL, USA\n",
        "Found Location."
       ]
      },
      {
       "output_type": "stream",
       "stream": "stdout",
       "text": [
        "\n",
        "Getting Location of Lange Gasse 20, Nuremberg, Germany\n",
        "Found Location."
       ]
      },
      {
       "output_type": "stream",
       "stream": "stdout",
       "text": [
        "\n",
        "Getting Location of 501 South College Street, Charlotte, NC, USA\n",
        "Found Location."
       ]
      },
      {
       "output_type": "stream",
       "stream": "stdout",
       "text": [
        "\n",
        "Getting Location of No.2727 Riverside Avenue Pudong,, Shanghai, China\n",
        "Found Location."
       ]
      },
      {
       "output_type": "stream",
       "stream": "stdout",
       "text": [
        "\n",
        "Getting Location of No.2727 Riverside Avenue Pudong,, Shanghai, China\n",
        "Found Location."
       ]
      },
      {
       "output_type": "stream",
       "stream": "stdout",
       "text": [
        "\n",
        "Getting Location of Uttar Pradesh, Noida, India\n",
        "Found Location."
       ]
      },
      {
       "output_type": "stream",
       "stream": "stdout",
       "text": [
        "\n",
        "Getting Location of New Delhi, New Delhi, India\n",
        "Found Location."
       ]
      },
      {
       "output_type": "stream",
       "stream": "stdout",
       "text": [
        "\n",
        "Getting Location of Available soon, Germany\n",
        "\n",
        "Available soon, Germany"
       ]
      },
      {
       "output_type": "stream",
       "stream": "stdout",
       "text": [
        "\n",
        "not found! Tryin:\n",
        "Germany\n",
        "Found Location."
       ]
      },
      {
       "output_type": "stream",
       "stream": "stdout",
       "text": [
        "\n",
        "Getting Location of Arizona State University, Tempe, AZ, USA\n",
        "Found Location."
       ]
      },
      {
       "output_type": "stream",
       "stream": "stdout",
       "text": [
        "\n",
        "Getting Location of Hilton New Orleans Riverside, New Orleans, LA, USA\n",
        "Found Location."
       ]
      },
      {
       "output_type": "stream",
       "stream": "stdout",
       "text": [
        "\n",
        "Getting Location of Campus BTU Cottbus-Senftenberg, Cottbus, Germany\n",
        "Found Location."
       ]
      },
      {
       "output_type": "stream",
       "stream": "stdout",
       "text": [
        "\n",
        "Getting Location of Avenue d'Innsbruck CS 52408, Grenoble cedex 2, France\n",
        "\n",
        "Avenue d'Innsbruck CS 52408, Grenoble cedex 2, France"
       ]
      },
      {
       "output_type": "stream",
       "stream": "stdout",
       "text": [
        "\n",
        "not found! Tryin:\n",
        "Grenoble cedex 2, France\n",
        "Found Location."
       ]
      },
      {
       "output_type": "stream",
       "stream": "stdout",
       "text": [
        "\n",
        "Getting Location of 1 Lone Mountain Trail, Big Sky, MT, USA\n",
        "Found Location."
       ]
      },
      {
       "output_type": "stream",
       "stream": "stdout",
       "text": [
        "\n",
        "Getting Location of Gokiso, Showa, Nagoya, Japan\n",
        "Found Location."
       ]
      },
      {
       "output_type": "stream",
       "stream": "stdout",
       "text": [
        "\n",
        "Getting Location of Pollachi, Coimbatore, India\n",
        "Found Location."
       ]
      },
      {
       "output_type": "stream",
       "stream": "stdout",
       "text": [
        "\n",
        "Getting Location of 16 Euljiro, Jung-Gu, Seoul, Korea (South)\n",
        "Found Location."
       ]
      },
      {
       "output_type": "stream",
       "stream": "stdout",
       "text": [
        "\n",
        "Getting Location of C-20/1, Sector 62, Noida, India\n",
        "Found Location."
       ]
      },
      {
       "output_type": "stream",
       "stream": "stdout",
       "text": [
        "\n",
        "Getting Location of Mathieustr. 10 Main Building, Aachen, Germany\n",
        "Found Location."
       ]
      },
      {
       "output_type": "stream",
       "stream": "stdout",
       "text": [
        "\n",
        "Getting Location of Dubai, Dubai, United Arab Emirates\n",
        "Found Location."
       ]
      },
      {
       "output_type": "stream",
       "stream": "stdout",
       "text": [
        "\n",
        "Getting Location of TBD, Tokyo, Japan\n",
        "Found Location."
       ]
      },
      {
       "output_type": "stream",
       "stream": "stdout",
       "text": [
        "\n",
        "Getting Location of 1401 SW Naito Parkway, Portland, OR, USA\n",
        "Found Location."
       ]
      },
      {
       "output_type": "stream",
       "stream": "stdout",
       "text": [
        "\n",
        "Getting Location of Hilton St. Petersburg Bayfront, St. Petersburg, FL, USA\n",
        "Found Location."
       ]
      },
      {
       "output_type": "stream",
       "stream": "stdout",
       "text": [
        "\n",
        "Getting Location of Powai, Mumbai, India\n",
        "Found Location."
       ]
      },
      {
       "output_type": "stream",
       "stream": "stdout",
       "text": [
        "\n",
        "Getting Location of West tambaram, Chennai, India\n",
        "Found Location."
       ]
      },
      {
       "output_type": "stream",
       "stream": "stdout",
       "text": [
        "\n",
        "Getting Location of Pune, Maharashtra, Pune, India\n",
        "Found Location."
       ]
      },
      {
       "output_type": "stream",
       "stream": "stdout",
       "text": [
        "\n",
        "Getting Location of Othakalmandapam, Coimbatore, India\n",
        "Found Location."
       ]
      },
      {
       "output_type": "stream",
       "stream": "stdout",
       "text": [
        "\n",
        "Getting Location of Ex hacienda Sta Catarina M\u00e1rtir S/N, Cholula, Mexico\n",
        "\n",
        "Ex hacienda Sta Catarina M\u00e1rtir S/N, Cholula, Mexico"
       ]
      },
      {
       "output_type": "stream",
       "stream": "stdout",
       "text": [
        "\n",
        "not found! Tryin:\n",
        "Cholula, Mexico\n",
        "Found Location."
       ]
      },
      {
       "output_type": "stream",
       "stream": "stdout",
       "text": [
        "\n",
        "Getting Location of Narayanapuram, Pallikaranai, Chennai, India\n",
        "Found Location."
       ]
      },
      {
       "output_type": "stream",
       "stream": "stdout",
       "text": [
        "\n",
        "Getting Location of San Francisco Marriott, San Francisco, CA, USA\n",
        "Found Location."
       ]
      },
      {
       "output_type": "stream",
       "stream": "stdout",
       "text": [
        "\n",
        "Getting Location of TBD, TBD, CA, USA\n",
        "No location determined yet.\n",
        "Getting Location of 101&103 Stuzin Hall, Gainesville, FL, USA\n",
        "Found Location."
       ]
      },
      {
       "output_type": "stream",
       "stream": "stdout",
       "text": [
        "\n",
        "Getting Location of Dept. of ECE, ASET, Amity University, Sector-125, Noida, Noida, Delhi-NCR, India\n",
        "Found Location."
       ]
      },
      {
       "output_type": "stream",
       "stream": "stdout",
       "text": [
        "\n",
        "Getting Location of Campus,Mathikere, Bangalore, Karnataka, India\n",
        "Found Location."
       ]
      },
      {
       "output_type": "stream",
       "stream": "stdout",
       "text": [
        "\n",
        "Getting Location of Chennai-602105, Chennai, India\n",
        "Found Location."
       ]
      },
      {
       "output_type": "stream",
       "stream": "stdout",
       "text": [
        "\n",
        "Getting Location of Kozhikode, Kozhikode, India\n",
        "Found Location."
       ]
      },
      {
       "output_type": "stream",
       "stream": "stdout",
       "text": [
        "\n",
        "Getting Location of 1000 H Street, NW, Washington, DC, USA\n",
        "Found Location."
       ]
      },
      {
       "output_type": "stream",
       "stream": "stdout",
       "text": [
        "\n",
        "Getting Location of P.O.Box 51178, Riyadh, Saudi Arabia\n",
        "Found Location."
       ]
      },
      {
       "output_type": "stream",
       "stream": "stdout",
       "text": [
        "\n",
        "Getting Location of 38-54 Lake Esplanade, Queenstown, New Zealand\n",
        "Found Location."
       ]
      },
      {
       "output_type": "stream",
       "stream": "stdout",
       "text": [
        "\n",
        "Getting Location of Main Buliding, Sharjah, United Arab Emirates\n",
        "Found Location."
       ]
      },
      {
       "output_type": "stream",
       "stream": "stdout",
       "text": [
        "\n",
        "Getting Location of Issy Moulineaux Cedex 9, Paris, France\n",
        "Found Location."
       ]
      },
      {
       "output_type": "stream",
       "stream": "stdout",
       "text": [
        "\n",
        "Getting Location of 11999 Harbor Blvd., Garden Grove, CA, USA\n",
        "Found Location."
       ]
      },
      {
       "output_type": "stream",
       "stream": "stdout",
       "text": [
        "\n",
        "Getting Location of Ghaziabad U.P., India, Ghaziabad U.P., India, India\n",
        "Found Location."
       ]
      },
      {
       "output_type": "stream",
       "stream": "stdout",
       "text": [
        "\n",
        "Getting Location of Calle del Rey 10, Aranjuez, Spain\n",
        "Found Location."
       ]
      },
      {
       "output_type": "stream",
       "stream": "stdout",
       "text": [
        "\n",
        "Getting Location of 700 West Convention Way, Anaheim, CA, USA\n",
        "Found Location."
       ]
      },
      {
       "output_type": "stream",
       "stream": "stdout",
       "text": [
        "\n",
        "Getting Location of 151 Jungangno, Jeju, Korea (South)\n",
        "\n",
        "151 Jungangno, Jeju, Korea (South)"
       ]
      },
      {
       "output_type": "stream",
       "stream": "stdout",
       "text": [
        "\n",
        "not found! Tryin:\n",
        "Jeju, Korea (South)\n",
        "Found Location."
       ]
      },
      {
       "output_type": "stream",
       "stream": "stdout",
       "text": [
        "\n",
        "Getting Location of ESEO Angers, France\n",
        "Found Location."
       ]
      },
      {
       "output_type": "stream",
       "stream": "stdout",
       "text": [
        "\n",
        "Getting Location of G.T. Road (Adisaptagram), P.O. AEDCONAGAR,WEST BENGAL, Hooghly, India\n",
        "Found Location."
       ]
      },
      {
       "output_type": "stream",
       "stream": "stdout",
       "text": [
        "\n",
        "Getting Location of University of Synergy, Russia\n",
        "\n",
        "University of Synergy, Russia"
       ]
      },
      {
       "output_type": "stream",
       "stream": "stdout",
       "text": [
        "\n",
        "not found! Tryin:\n",
        "Russia\n",
        "Found Location."
       ]
      },
      {
       "output_type": "stream",
       "stream": "stdout",
       "text": [
        "\n",
        "Getting Location of Academic Building 3, Hong Kong\n",
        "Found Location."
       ]
      },
      {
       "output_type": "stream",
       "stream": "stdout",
       "text": [
        "\n",
        "Getting Location of Stary Peterhof, Universitetsky pr., 28, Saint Petersburg, Russia\n",
        "Found Location."
       ]
      },
      {
       "output_type": "stream",
       "stream": "stdout",
       "text": [
        "\n",
        "Getting Location of 5 Prof.Popov str., St. Petersburg, Russia\n",
        "Found Location."
       ]
      },
      {
       "output_type": "stream",
       "stream": "stdout",
       "text": [
        "\n",
        "Getting Location of Al Khoud, Muscat, Oman\n",
        "Found Location."
       ]
      },
      {
       "output_type": "stream",
       "stream": "stdout",
       "text": [
        "\n",
        "Getting Location of TBD, Bay Area, CA, USA\n",
        "Found Location."
       ]
      },
      {
       "output_type": "stream",
       "stream": "stdout",
       "text": [
        "\n",
        "Getting Location of 8610 Kennel Way, San Diego, CA, USA\n",
        "Found Location."
       ]
      },
      {
       "output_type": "stream",
       "stream": "stdout",
       "text": [
        "\n",
        "Getting Location of Meghalaya, Shillong, India\n",
        "Found Location."
       ]
      },
      {
       "output_type": "stream",
       "stream": "stdout",
       "text": [
        "\n",
        "Getting Location of Saensuk, Muang, Chon Buri Province, Chon Buri, Thailand\n",
        "Found Location."
       ]
      },
      {
       "output_type": "stream",
       "stream": "stdout",
       "text": [
        "\n",
        "Getting Location of 46, Knowledge Park-III, Greater Noida, India\n",
        "Found Location."
       ]
      },
      {
       "output_type": "stream",
       "stream": "stdout",
       "text": [
        "\n",
        "Getting Location of Via Sommarive 5, 9, Trento, Italy\n",
        "Found Location."
       ]
      },
      {
       "output_type": "stream",
       "stream": "stdout",
       "text": [
        "\n",
        "Getting Location of Innisbrook resort and golf club, Palm Harbor, FL, USA\n",
        "Found Location."
       ]
      },
      {
       "output_type": "stream",
       "stream": "stdout",
       "text": [
        "\n",
        "Getting Location of 280 West Jefferson Street, Louisville, KY, USA\n",
        "Found Location."
       ]
      },
      {
       "output_type": "stream",
       "stream": "stdout",
       "text": [
        "\n",
        "Getting Location of piazza san giovanni in monte 2, BOLOGNA, Italy\n",
        "Found Location."
       ]
      },
      {
       "output_type": "stream",
       "stream": "stdout",
       "text": [
        "\n",
        "Getting Location of Omni Hotel, San Diego, CA, USA\n",
        "Found Location."
       ]
      },
      {
       "output_type": "stream",
       "stream": "stdout",
       "text": [
        "\n",
        "Getting Location of 675 L Street, San Diego, CA, USA\n",
        "Found Location."
       ]
      },
      {
       "output_type": "stream",
       "stream": "stdout",
       "text": [
        "\n",
        "Getting Location of 675 L Street, San Diego, CA, USA\n",
        "Found Location."
       ]
      },
      {
       "output_type": "stream",
       "stream": "stdout",
       "text": [
        "\n",
        "Getting Location of 675 L Street, San Diego, CA, USA\n",
        "Found Location."
       ]
      },
      {
       "output_type": "stream",
       "stream": "stdout",
       "text": [
        "\n",
        "Getting Location of 675 L Street, San Diego, CA, USA\n",
        "Found Location."
       ]
      },
      {
       "output_type": "stream",
       "stream": "stdout",
       "text": [
        "\n",
        "Getting Location of TBD, Mumbai, India\n",
        "Found Location."
       ]
      },
      {
       "output_type": "stream",
       "stream": "stdout",
       "text": [
        "\n",
        "Getting Location of Education City, Doha, Qatar\n",
        "Found Location."
       ]
      },
      {
       "output_type": "stream",
       "stream": "stdout",
       "text": [
        "\n",
        "Getting Location of El Mouradi Club, Sousse, Tunisia\n",
        "\n",
        "El Mouradi Club, Sousse, Tunisia"
       ]
      },
      {
       "output_type": "stream",
       "stream": "stdout",
       "text": [
        "\n",
        "not found! Tryin:\n",
        "Sousse, Tunisia\n",
        "Found Location."
       ]
      },
      {
       "output_type": "stream",
       "stream": "stdout",
       "text": [
        "\n",
        "Getting Location of TBD, Hakodate, Japan\n",
        "Found Location."
       ]
      },
      {
       "output_type": "stream",
       "stream": "stdout",
       "text": [
        "\n",
        "Getting Location of El Mouradi Club, Sousse, Tunisia\n",
        "\n",
        "El Mouradi Club, Sousse, Tunisia"
       ]
      },
      {
       "output_type": "stream",
       "stream": "stdout",
       "text": [
        "\n",
        "not found! Tryin:\n",
        "Sousse, Tunisia\n",
        "Found Location."
       ]
      },
      {
       "output_type": "stream",
       "stream": "stdout",
       "text": [
        "\n",
        "Getting Location of Aveoda Amara; 2765-192, Estoril, Portugal\n",
        "Found Location."
       ]
      },
      {
       "output_type": "stream",
       "stream": "stdout",
       "text": [
        "\n",
        "Getting Location of El Mouradi Club, Sousse, Tunisia\n",
        "\n",
        "El Mouradi Club, Sousse, Tunisia"
       ]
      },
      {
       "output_type": "stream",
       "stream": "stdout",
       "text": [
        "\n",
        "not found! Tryin:\n",
        "Sousse, Tunisia\n",
        "Found Location."
       ]
      },
      {
       "output_type": "stream",
       "stream": "stdout",
       "text": [
        "\n",
        "Getting Location of Andheri (West), Mumbai, India\n",
        "Found Location."
       ]
      },
      {
       "output_type": "stream",
       "stream": "stdout",
       "text": [
        "\n",
        "Getting Location of National Centre for Physics, Islamabad, Pakistan\n",
        "Found Location."
       ]
      },
      {
       "output_type": "stream",
       "stream": "stdout",
       "text": [
        "\n",
        "Getting Location of 265 High1, Sabuk-Eup, Jeongsun-Kun, Gangwon Province, Korea (South)\n",
        "\n",
        "265 High1, Sabuk-Eup, Jeongsun-Kun, Gangwon Province, Korea (South)"
       ]
      },
      {
       "output_type": "stream",
       "stream": "stdout",
       "text": [
        "\n",
        "not found! Tryin:\n",
        "Korea (South)\n",
        "Found Location."
       ]
      },
      {
       "output_type": "stream",
       "stream": "stdout",
       "text": [
        "\n",
        "Getting Location of 265 High1, Sabuk-Eup, Jeongsun-Kun, Gangwon Province, Korea (South)\n",
        "\n",
        "265 High1, Sabuk-Eup, Jeongsun-Kun, Gangwon Province, Korea (South)"
       ]
      },
      {
       "output_type": "stream",
       "stream": "stdout",
       "text": [
        "\n",
        "not found! Tryin:\n",
        "Korea (South)\n",
        "Found Location."
       ]
      },
      {
       "output_type": "stream",
       "stream": "stdout",
       "text": [
        "\n",
        "Getting Location of 265 High1, Sabuk-Eup, Jeongsun-Kun, Gangwon Province, Korea (South)\n",
        "\n",
        "265 High1, Sabuk-Eup, Jeongsun-Kun, Gangwon Province, Korea (South)"
       ]
      },
      {
       "output_type": "stream",
       "stream": "stdout",
       "text": [
        "\n",
        "not found! Tryin:\n",
        "Korea (South)\n",
        "Found Location."
       ]
      },
      {
       "output_type": "stream",
       "stream": "stdout",
       "text": [
        "\n",
        "Getting Location of 265 High1, Sabuk-Eup, Jeongsun-Kun, Gangwon Province, Korea (South)\n",
        "\n",
        "265 High1, Sabuk-Eup, Jeongsun-Kun, Gangwon Province, Korea (South)"
       ]
      },
      {
       "output_type": "stream",
       "stream": "stdout",
       "text": [
        "\n",
        "not found! Tryin:\n",
        "Korea (South)\n",
        "Found Location."
       ]
      },
      {
       "output_type": "stream",
       "stream": "stdout",
       "text": [
        "\n",
        "Getting Location of 265 High1, Sabuk-Eup, Jeongsun-Kun, Gangwon Province, Korea (South)\n",
        "\n",
        "265 High1, Sabuk-Eup, Jeongsun-Kun, Gangwon Province, Korea (South)"
       ]
      },
      {
       "output_type": "stream",
       "stream": "stdout",
       "text": [
        "\n",
        "not found! Tryin:\n",
        "Korea (South)\n",
        "Found Location."
       ]
      },
      {
       "output_type": "stream",
       "stream": "stdout",
       "text": [
        "\n",
        "Getting Location of 265 High1, Sabuk-Eup, Jeongsun-Kun, Gangwon Province, Korea (South)\n",
        "\n",
        "265 High1, Sabuk-Eup, Jeongsun-Kun, Gangwon Province, Korea (South)"
       ]
      },
      {
       "output_type": "stream",
       "stream": "stdout",
       "text": [
        "\n",
        "not found! Tryin:\n",
        "Korea (South)\n",
        "Found Location."
       ]
      },
      {
       "output_type": "stream",
       "stream": "stdout",
       "text": [
        "\n",
        "Getting Location of 265 High1, Sabuk-Eup, Jeongsun-Kun, Gangwon Province, Korea (South)\n",
        "\n",
        "265 High1, Sabuk-Eup, Jeongsun-Kun, Gangwon Province, Korea (South)"
       ]
      },
      {
       "output_type": "stream",
       "stream": "stdout",
       "text": [
        "\n",
        "not found! Tryin:\n",
        "Korea (South)\n",
        "Found Location."
       ]
      },
      {
       "output_type": "stream",
       "stream": "stdout",
       "text": [
        "\n",
        "Getting Location of Arunachal Pradesh, Itanagar, India\n",
        "Found Location."
       ]
      },
      {
       "output_type": "stream",
       "stream": "stdout",
       "text": [
        "\n",
        "Getting Location of 74, Xuefu Road, Nangang District, Harbin, China\n",
        "Found Location."
       ]
      },
      {
       "output_type": "stream",
       "stream": "stdout",
       "text": [
        "\n",
        "Getting Location of Off Sinhgad Road, Pune, India\n",
        "Found Location."
       ]
      },
      {
       "output_type": "stream",
       "stream": "stdout",
       "text": [
        "\n",
        "Getting Location of Las Vegas Convention Center, Las Vegas, NV, USA\n",
        "Found Location."
       ]
      },
      {
       "output_type": "stream",
       "stream": "stdout",
       "text": [
        "\n",
        "Getting Location of 3667 Las Vegas Blvd S, Las Vegas, NV, USA\n",
        "Found Location."
       ]
      },
      {
       "output_type": "stream",
       "stream": "stdout",
       "text": [
        "\n",
        "Getting Location of Navi Mumbai, Navi Mumbai, India\n",
        "Found Location."
       ]
      },
      {
       "output_type": "stream",
       "stream": "stdout",
       "text": [
        "\n",
        "Getting Location of Tamilnadu, Coimbatore, India\n",
        "Found Location."
       ]
      },
      {
       "output_type": "stream",
       "stream": "stdout",
       "text": [
        "\n",
        "Getting Location of Chinniampalayam (PO), Coimbatore, India\n",
        "Found Location."
       ]
      },
      {
       "output_type": "stream",
       "stream": "stdout",
       "text": [
        "\n",
        "Getting Location of #135, Residency Road, Bangalore, India\n",
        "Found Location."
       ]
      },
      {
       "output_type": "stream",
       "stream": "stdout",
       "text": [
        "\n",
        "Getting Location of Uttar Pradesh, Noida, India\n",
        "Found Location."
       ]
      },
      {
       "output_type": "stream",
       "stream": "stdout",
       "text": [
        "\n",
        "Getting Location of 69-275 Waikoloa Beach Drive, Waikoloa, HI, USA\n",
        "Found Location."
       ]
      },
      {
       "output_type": "stream",
       "stream": "stdout",
       "text": [
        "\n",
        "Getting Location of Grand Hyatt, HI, USA\n",
        "\n",
        "Grand Hyatt, HI, USA"
       ]
      },
      {
       "output_type": "stream",
       "stream": "stdout",
       "text": [
        "\n",
        "not found! Tryin:\n",
        "HI, USA\n",
        "Found Location."
       ]
      },
      {
       "output_type": "stream",
       "stream": "stdout",
       "text": [
        "\n",
        "Getting Location of Coimbatore, Coimbatore, India\n",
        "Found Location."
       ]
      },
      {
       "output_type": "stream",
       "stream": "stdout",
       "text": [
        "\n",
        "Getting Location of 203 B T Road, Kolkata, India\n",
        "Found Location."
       ]
      },
      {
       "output_type": "stream",
       "stream": "stdout",
       "text": [
        "\n",
        "Getting Location of Whitefield, Bangalore , India\n",
        "Found Location."
       ]
      },
      {
       "output_type": "stream",
       "stream": "stdout",
       "text": [
        "\n",
        "Getting Location of Andhra Pradesh, GUNTUR, India\n",
        "Found Location."
       ]
      },
      {
       "output_type": "stream",
       "stream": "stdout",
       "text": [
        "\n",
        "Getting Location of Aboureihan bldg, Tehran, Iran\n",
        "Found Location."
       ]
      },
      {
       "output_type": "stream",
       "stream": "stdout",
       "text": [
        "\n",
        "Done.\n"
       ]
      }
     ],
     "prompt_number": 7
    },
    {
     "cell_type": "code",
     "collapsed": false,
     "input": [
      "year = int(fromdate.split('-')[0])"
     ],
     "language": "python",
     "metadata": {},
     "outputs": [],
     "prompt_number": 8
    },
    {
     "cell_type": "heading",
     "level": 2,
     "metadata": {},
     "source": [
      "Clean Data and create KML"
     ]
    },
    {
     "cell_type": "code",
     "collapsed": false,
     "input": [
      "kml = simplekml.Kml()\n",
      "# Konferenzen l\u00f6schen, f\u00fcr die kein Ort gefunden wurden\n",
      "lon=[]\n",
      "lat=[]\n",
      "print('Creating .kml file.')\n",
      "for i in range(len(confs)):\n",
      "    if confs[i][3] == 0.0:\n",
      "        pass\n",
      "    else:\n",
      "        # KML\n",
      "        pnt=kml.newpoint(name=confs[i][0], coords=[(confs[i][3],confs[i][2])])\n",
      "        desct = 'from ' + confs[i][1]\n",
      "        desct += '\\nin ' + confs[i][4]\n",
      "        desct += '\\n\\nInfos: ' + confs[i][5]\n",
      "        pnt.description = desct\n",
      "        \n",
      "        # List for Map\n",
      "        lon.append(confs[i][3])\n",
      "        lat.append(confs[i][2])\n",
      "\n",
      "kml.save(\"iEEE-Conferences-%i.kml\" % year)\n",
      "print('Done.')\n",
      "print('%s of %s conference venues without place.' % (len(confs)-len(lat),len(confs)))\n",
      "if (len(confs)-len(lat)) == 0:\n",
      "    print 'Perfect.'\n",
      "elif (len(confs)-len(lat)) > 5:\n",
      "    print 'Maybe you should check your Data'"
     ],
     "language": "python",
     "metadata": {},
     "outputs": [
      {
       "output_type": "stream",
       "stream": "stdout",
       "text": [
        "Creating .kml file.\n",
        "Done."
       ]
      },
      {
       "output_type": "stream",
       "stream": "stdout",
       "text": [
        "\n",
        "1 of 383 conference venues without place.\n"
       ]
      }
     ],
     "prompt_number": 9
    },
    {
     "cell_type": "heading",
     "level": 2,
     "metadata": {},
     "source": [
      "Render the Map"
     ]
    },
    {
     "cell_type": "heading",
     "level": 3,
     "metadata": {},
     "source": [
      "World"
     ]
    },
    {
     "cell_type": "code",
     "collapsed": false,
     "input": [
      "# Thanks to this great tutorial:\n",
      "# http://peak5390.wordpress.com/2012/12/08/mapping-global-earthquake-activity-a-matplotlib-basemap-tutorial/\n",
      "\n",
      "map = Basemap(projection='robin', resolution = 'l', area_thresh = 1000.0,\n",
      "              lat_0=0, lon_0=0)\n",
      "map.drawcoastlines()\n",
      "map.drawcountries()\n",
      "#map.fillcontinents(color = 'gray')\n",
      "#map.bluemarble()\n",
      "map.shadedrelief()\n",
      "\n",
      "map.drawmapboundary()\n",
      "map.drawmeridians(np.arange(0, 360, 30))\n",
      "map.drawparallels(np.arange(-90, 90, 30))\n",
      "\n",
      "x,y = map(lon, lat)\n",
      "map.plot(x, y, 'ro', markersize=4)\n",
      "plt.title('IEEE Conferences %i' % year)\n",
      "plt.savefig('iEEE-Conferences-%i-Worldmap.png' % year, bbox_inches='tight', dpi=300, transparent=True)\n",
      "plt.savefig('iEEE-Conferences-%i-Worldmap.pdf' % year, bbox_inches='tight', dpi=300, transparent=True)\n",
      "#plt.show()\n",
      "print('.png and .pdf saved...')\n",
      "plt.close()"
     ],
     "language": "python",
     "metadata": {},
     "outputs": [
      {
       "output_type": "stream",
       "stream": "stdout",
       "text": [
        ".png and .pdf saved...\n"
       ]
      }
     ],
     "prompt_number": 10
    },
    {
     "cell_type": "heading",
     "level": 3,
     "metadata": {},
     "source": [
      "Europe"
     ]
    },
    {
     "cell_type": "code",
     "collapsed": false,
     "input": [
      "m = Basemap(llcrnrlon=-14.0,llcrnrlat=32.0,urcrnrlon=44.4,urcrnrlat=55.3,\n",
      "            resolution='i',projection='stere',lon_0=10.0,lat_0=54.7)\n",
      "\n",
      "m.drawcoastlines()\n",
      "m.fillcontinents(color='gray')\n",
      "# draw parallels and meridians.\n",
      "#m.drawparallels(np.arange(-40,61.,2.))\n",
      "#m.drawmeridians(np.arange(0.,43.,2.))\n",
      "m.drawmapboundary()\n",
      "m.drawcountries()\n",
      "m.shadedrelief()\n",
      "\n",
      "x,y = m(lon, lat)\n",
      "m.plot(x, y, 'ro', markersize=5)\n",
      "\n",
      "plt.title(\"European IEEE Conferences %i\" % year)\n",
      "plt.savefig('iEEE-Conferences-%i-Europe.png' % year, bbox_inches='tight', dpi=300, transparent=True)\n",
      "plt.savefig('iEEE-Conferences-%i-Europe.pdf' % year, bbox_inches='tight', dpi=300, transparent=True)\n",
      "#plt.show()\n",
      "print('.png and .pdf saved...')\n",
      "plt.close()"
     ],
     "language": "python",
     "metadata": {},
     "outputs": [
      {
       "output_type": "stream",
       "stream": "stdout",
       "text": [
        ".png and .pdf saved...\n"
       ]
      }
     ],
     "prompt_number": 11
    },
    {
     "cell_type": "heading",
     "level": 3,
     "metadata": {},
     "source": [
      "USA"
     ]
    },
    {
     "cell_type": "code",
     "collapsed": false,
     "input": [
      "mus = Basemap(llcrnrlon=-125.0,llcrnrlat=20.0,urcrnrlon=-60.0,urcrnrlat=51.4,\n",
      "            resolution='i',projection='stere',lon_0=-95.0,lat_0=35.0)\n",
      "\n",
      "mus.drawcoastlines()\n",
      "mus.fillcontinents(color='gray')\n",
      "# draw parallels and meridians.\n",
      "#m.drawparallels(np.arange(-40,61.,2.))\n",
      "#m.drawmeridians(np.arange(0.,43.,2.))\n",
      "mus.drawmapboundary()\n",
      "mus.drawcountries()\n",
      "mus.drawstates()\n",
      "mus.shadedrelief()\n",
      "\n",
      "x,y = mus(lon, lat)\n",
      "mus.plot(x, y, 'ro', markersize=5)\n",
      "\n",
      "\n",
      "plt.title(\"US IEEE Conferences %i\" % year)\n",
      "plt.savefig('iEEE-Conferences-%i-USA.png' % year, bbox_inches='tight', dpi=300, transparent=True)\n",
      "plt.savefig('iEEE-Conferences-%i-USA.pdf' % year, bbox_inches='tight', dpi=300, transparent=True)\n",
      "#plt.show()\n",
      "print('.png and .pdf saved...')\n",
      "plt.close()"
     ],
     "language": "python",
     "metadata": {},
     "outputs": [
      {
       "output_type": "stream",
       "stream": "stdout",
       "text": [
        ".png and .pdf saved...\n"
       ]
      }
     ],
     "prompt_number": 12
    },
    {
     "cell_type": "code",
     "collapsed": false,
     "input": [
      "print('Done.')"
     ],
     "language": "python",
     "metadata": {},
     "outputs": [
      {
       "output_type": "stream",
       "stream": "stdout",
       "text": [
        "Done.\n"
       ]
      }
     ],
     "prompt_number": 13
    }
   ],
   "metadata": {}
  }
 ]
}