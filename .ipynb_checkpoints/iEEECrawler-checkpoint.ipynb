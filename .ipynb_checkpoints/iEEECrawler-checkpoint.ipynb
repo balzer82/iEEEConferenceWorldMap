{
 "metadata": {
  "name": ""
 },
 "nbformat": 3,
 "nbformat_minor": 0,
 "worksheets": [
  {
   "cells": [
    {
     "cell_type": "heading",
     "level": 1,
     "metadata": {},
     "source": [
      "iEEE Conference World Map"
     ]
    },
    {
     "cell_type": "code",
     "collapsed": false,
     "input": [
      "from mpl_toolkits.basemap import Basemap\n",
      "import matplotlib.pyplot as plt\n",
      "import requests\n",
      "from bs4 import BeautifulSoup\n",
      "import numpy as np\n",
      "import time\n",
      "import simplekml"
     ],
     "language": "python",
     "metadata": {},
     "outputs": []
    },
    {
     "cell_type": "heading",
     "level": 2,
     "metadata": {},
     "source": [
      "Convert Addressto LatLon"
     ]
    },
    {
     "cell_type": "code",
     "collapsed": false,
     "input": [
      "def address2coord(ven, addr):\n",
      "    \n",
      "    result = None\n",
      "    address = ven + ', ' + addr\n",
      "    \n",
      "    if 'TBD' in addr:\n",
      "        print 'No location determined yet.'\n",
      "        return (u'0.0', u'0.0')\n",
      "    \n",
      "    while result is None:\n",
      "        try:\n",
      "            url = 'http://maps.googleapis.com/maps/api/geocode/xml'\n",
      "            payload = {'address': unicode(address), 'sensor': 'true'}\n",
      "            \n",
      "            try:\n",
      "                response = requests.get(url, params=payload)\n",
      "            except Exception, e:\n",
      "                print e.message\n",
      "                return Error(2, \"Google\", \"Google nicht erreichbar.\")\n",
      "        \n",
      "            if response.status_code != 200:\n",
      "                print \"Can't connect to Google! (status code: \" + response.status_code + \")\"    \n",
      "                return Error(response.status_code, \"Google\", \"Google Server nicht erreichbar\")\n",
      "            \n",
      "            if type(response.content) is unicode:\n",
      "                soup = BeautifulSoup(response.content.encode('utf8'))\n",
      "            else:\n",
      "                soup = BeautifulSoup(response.content)\n",
      "\n",
      "            #print response.content\n",
      "\n",
      "            if soup.find('status').string == 'OK':\n",
      "                print('Found Location.')\n",
      "                result = True\n",
      "                return (soup.find('lat').string , soup.find('lng').string)\n",
      "            elif soup.find('status').string == 'OVER_QUERY_LIMIT':\n",
      "                print 'Google API Query Limit reached. Waiting... (maybe you should renew your IP)'\n",
      "                time.sleep(5)\n",
      "            elif soup.find('status').string == 'ZERO_RESULTS':\n",
      "                print '\\n' + unicode(address)\n",
      "                print \"not found! Tryin:\"\n",
      "                # nur noch Stadt nehmen, nicht mehr Hotel usw..\n",
      "                address=addr\n",
      "                print address\n",
      "            else:\n",
      "                print '\\n' + unicode(address) + '\\n'\n",
      "                print response.url\n",
      "                print \"not found! Giving up...\"\n",
      "                result = True\n",
      "                return (u'0.0', u'0.0')\n",
      "\n",
      "        except:\n",
      "            pass"
     ],
     "language": "python",
     "metadata": {},
     "outputs": []
    },
    {
     "cell_type": "heading",
     "level": 2,
     "metadata": {},
     "source": [
      "Crawl the conference search"
     ]
    },
    {
     "cell_type": "code",
     "collapsed": false,
     "input": [
      "# Daten von iEEE Webseite holen\n",
      "url='http://www.ieee.org/conferences_events/conferences/search/index.html'\n",
      "\n",
      "# Suchmaske\n",
      "payload = {'KEYWORDS': '', \\\n",
      "           'CONF_SRCH_RDO': 'conf_date', \\\n",
      "           'RANGE_FROM_DATE': '2014-01-01', \\\n",
      "           'RANGE_TO_DATE': '2014-12-31', \\\n",
      "           'REGION': 'ALL', \\\n",
      "           'COUNTRY': 'ALL', \\\n",
      "           'STATE': 'ALL', \\\n",
      "           'CITY': 'ALL', \\\n",
      "           'SPONSOR': 'ALL', \\\n",
      "           'RowsPerPage': '20000', \\\n",
      "           'PageLinkNum': '1', \\\n",
      "           'ActivePage': '1', \\\n",
      "           'SORTORDER': 'desc', \\\n",
      "           'SORTFIELD': 'start_date'}\n",
      "\n",
      "# Fire the request\n",
      "try:\n",
      "    print('Requesting IEEE Conference Search...')\n",
      "    data = requests.get(url, params=payload)\n",
      "    print('Done.')\n",
      "except Exception, e:\n",
      "    print e.message\n",
      "if data.status_code != 200:\n",
      "    print \"Can't connect to iEEE! (status code: \" + response.status_code + \")\"        "
     ],
     "language": "python",
     "metadata": {},
     "outputs": []
    },
    {
     "cell_type": "heading",
     "level": 2,
     "metadata": {},
     "source": [
      "Extract the Data"
     ]
    },
    {
     "cell_type": "code",
     "collapsed": false,
     "input": [
      "# Crawl the Data\n",
      "soup = BeautifulSoup(data.text)\n",
      "confs={}\n",
      "confname=[]\n",
      "confdate=[]\n",
      "confloc =[]\n",
      "conflat =[]\n",
      "conflon =[]\n",
      "confurl =[]\n",
      "print('Extracting the data from IEEE website')\n",
      "for conference in soup.body.find_all('tr', attrs={'class' : ['even','odd']}):\n",
      "    for idx,infos in enumerate(conference.find_all('td', attrs={'class' : 'pad10'})):\n",
      "        # Tabelle durchgehen\n",
      "        # Erste Spalte: Konferenzname\n",
      "        if idx==0:\n",
      "            confname.append(infos.a.text.strip())\n",
      "        # Zweite Spalte: Konferenzdatum\n",
      "        elif idx==1:\n",
      "            confdate.append(infos.a.text.strip())\n",
      "        # Dritte Spalte: Infoseite und Ort\n",
      "        elif idx==2:\n",
      "            confurl.append('https://www.ieee.org' + infos.a['href'])\n",
      "            confloc.append(infos.a.text.strip())\n",
      "            \n",
      "            for br in infos.a.findAll('br'):\n",
      "                if br.nextSibling == None or '':\n",
      "                    break\n",
      "                elif br.previousSibling == None or '':\n",
      "                    break\n",
      "                elif br.previousSibling == None:\n",
      "                    addr = br.nextSibling.strip()\n",
      "                    ven = ''\n",
      "                else:\n",
      "                    addr = br.nextSibling.strip()\n",
      "                    ven = br.previousSibling.strip()\n",
      "                    \n",
      "\n",
      "            print('Getting Location of ' + ven + ', ' + addr)\n",
      "            location = ven + ', ' + addr\n",
      "            lat,lon = address2coord(ven, addr)\n",
      "            conflat.append(float(lat))\n",
      "            conflon.append(float(lon))\n",
      "        else:\n",
      "            print(u'Unklar, was das f\u00fcr Daten sind.')\n",
      "\n",
      "\n",
      "confs = zip(confname,confdate,conflat,conflon,confloc,confurl)\n",
      "print('Done.')\n",
      "# Print the Table           \n",
      "#for i in range(len(confname)):\n",
      "#    print('%s findet am %s in %s statt.\\n' % (confname[i], confdate[i], confloc[i]))"
     ],
     "language": "python",
     "metadata": {},
     "outputs": []
    },
    {
     "cell_type": "code",
     "collapsed": false,
     "input": [],
     "language": "python",
     "metadata": {},
     "outputs": []
    },
    {
     "cell_type": "heading",
     "level": 2,
     "metadata": {},
     "source": [
      "Clean Data and create KML"
     ]
    },
    {
     "cell_type": "code",
     "collapsed": false,
     "input": [
      "kml = simplekml.Kml()\n",
      "# Konferenzen l\u00f6schen, f\u00fcr die kein Ort gefunden wurden\n",
      "lon=[]\n",
      "lat=[]\n",
      "print('Creating .kml file.')\n",
      "for i in range(len(confs)):\n",
      "    if confs[i][3] == 0.0:\n",
      "        pass\n",
      "    else:\n",
      "        # KML\n",
      "        pnt=kml.newpoint(name=confs[i][0], coords=[(confs[i][3],confs[i][2])])\n",
      "        desct = 'from ' + confs[i][1]\n",
      "        desct += '\\nin ' + confs[i][4]\n",
      "        desct += '\\n\\nInfos: ' + confs[i][5]\n",
      "        pnt.description = desct\n",
      "        \n",
      "        # List for Map\n",
      "        lon.append(confs[i][3])\n",
      "        lat.append(confs[i][2])\n",
      "\n",
      "kml.save(\"iEEE-Conferences.kml\")\n",
      "print('Done.')\n",
      "print('%s of %s conference venues without place.' % (len(confs)-len(lat),len(confs)))\n",
      "if (len(confs)-len(lat)) == 0:\n",
      "    print 'Perfect.'\n",
      "elif (len(confs)-len(lat)) > 5:\n",
      "    print 'Maybe you should check your Data'"
     ],
     "language": "python",
     "metadata": {},
     "outputs": []
    },
    {
     "cell_type": "heading",
     "level": 2,
     "metadata": {},
     "source": [
      "Render the Map"
     ]
    },
    {
     "cell_type": "heading",
     "level": 3,
     "metadata": {},
     "source": [
      "World"
     ]
    },
    {
     "cell_type": "code",
     "collapsed": false,
     "input": [
      "# Thanks to this great tutorial:\n",
      "# http://peak5390.wordpress.com/2012/12/08/mapping-global-earthquake-activity-a-matplotlib-basemap-tutorial/\n",
      "\n",
      "map = Basemap(projection='robin', resolution = 'l', area_thresh = 1000.0,\n",
      "              lat_0=0, lon_0=0)\n",
      "map.drawcoastlines()\n",
      "map.drawcountries()\n",
      "#map.fillcontinents(color = 'gray')\n",
      "#map.bluemarble()\n",
      "map.shadedrelief()\n",
      "\n",
      "map.drawmapboundary()\n",
      "map.drawmeridians(np.arange(0, 360, 30))\n",
      "map.drawparallels(np.arange(-90, 90, 30))\n",
      "\n",
      "x,y = map(lon, lat)\n",
      "map.plot(x, y, 'ro', markersize=4)\n",
      "plt.title('IEEE Conferences 2014')\n",
      "plt.savefig('iEEE-Conferences-2014-Worldmap.png', bbox_inches='tight', dpi=300)\n",
      "plt.savefig('iEEE-Conferences-2014-Worldmap.pdf', bbox_inches='tight', dpi=300)\n",
      "#plt.show()\n",
      "print('.png and .pdf saved...')\n",
      "plt.close()"
     ],
     "language": "python",
     "metadata": {},
     "outputs": []
    },
    {
     "cell_type": "heading",
     "level": 3,
     "metadata": {},
     "source": [
      "Europe"
     ]
    },
    {
     "cell_type": "code",
     "collapsed": false,
     "input": [
      "m = Basemap(llcrnrlon=-14.0,llcrnrlat=32.0,urcrnrlon=44.4,urcrnrlat=55.3,\n",
      "            resolution='i',projection='stere',lon_0=10.0,lat_0=54.7)\n",
      "\n",
      "m.drawcoastlines()\n",
      "m.fillcontinents(color='gray')\n",
      "# draw parallels and meridians.\n",
      "#m.drawparallels(np.arange(-40,61.,2.))\n",
      "#m.drawmeridians(np.arange(0.,43.,2.))\n",
      "m.drawmapboundary()\n",
      "m.drawcountries()\n",
      "m.shadedrelief()\n",
      "\n",
      "x,y = m(lon, lat)\n",
      "m.plot(x, y, 'ro', markersize=5)\n",
      "\n",
      "plt.title(\"European IEEE Conferences 2014\")\n",
      "plt.savefig('iEEE-Conferences-2014-Europe.png', bbox_inches='tight', dpi=300)\n",
      "plt.savefig('iEEE-Conferences-2014-Europe.pdf', bbox_inches='tight', dpi=300)\n",
      "#plt.show()\n",
      "print('.png and .pdf saved...')\n",
      "plt.close()"
     ],
     "language": "python",
     "metadata": {},
     "outputs": []
    },
    {
     "cell_type": "heading",
     "level": 3,
     "metadata": {},
     "source": [
      "USA"
     ]
    },
    {
     "cell_type": "code",
     "collapsed": false,
     "input": [
      "mus = Basemap(llcrnrlon=-125.0,llcrnrlat=20.0,urcrnrlon=-60.0,urcrnrlat=51.4,\n",
      "            resolution='i',projection='stere',lon_0=-95.0,lat_0=35.0)\n",
      "\n",
      "mus.drawcoastlines()\n",
      "mus.fillcontinents(color='gray')\n",
      "# draw parallels and meridians.\n",
      "#m.drawparallels(np.arange(-40,61.,2.))\n",
      "#m.drawmeridians(np.arange(0.,43.,2.))\n",
      "mus.drawmapboundary()\n",
      "mus.drawcountries()\n",
      "mus.drawstates()\n",
      "mus.shadedrelief()\n",
      "\n",
      "x,y = mus(lon, lat)\n",
      "mus.plot(x, y, 'ro', markersize=5)\n",
      "\n",
      "\n",
      "plt.title(\"US IEEE Conferences 2014\")\n",
      "plt.savefig('iEEE-Conferences-2014-USA.png', bbox_inches='tight', dpi=300)\n",
      "plt.savefig('iEEE-Conferences-2014-USA.pdf', bbox_inches='tight', dpi=300)\n",
      "#plt.show()\n",
      "print('.png and .pdf saved...')\n",
      "plt.close()"
     ],
     "language": "python",
     "metadata": {},
     "outputs": []
    },
    {
     "cell_type": "code",
     "collapsed": false,
     "input": [
      "print('Done.')"
     ],
     "language": "python",
     "metadata": {},
     "outputs": []
    }
   ],
   "metadata": {}
  }
 ]
}