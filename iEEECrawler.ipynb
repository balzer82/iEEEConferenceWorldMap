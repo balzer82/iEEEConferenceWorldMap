{
 "metadata": {
  "name": ""
 },
 "nbformat": 3,
 "nbformat_minor": 0,
 "worksheets": [
  {
   "cells": [
    {
     "cell_type": "heading",
     "level": 1,
     "metadata": {},
     "source": [
      "iEEE Conference World Map"
     ]
    },
    {
     "cell_type": "code",
     "collapsed": false,
     "input": [
      "from mpl_toolkits.basemap import Basemap\n",
      "import matplotlib.pyplot as plt\n",
      "import requests\n",
      "from bs4 import BeautifulSoup\n",
      "import numpy as np\n",
      "import time\n",
      "import simplekml"
     ],
     "language": "python",
     "metadata": {},
     "outputs": [],
     "prompt_number": 1
    },
    {
     "cell_type": "heading",
     "level": 2,
     "metadata": {},
     "source": [
      "Convert Addressto LatLon"
     ]
    },
    {
     "cell_type": "code",
     "collapsed": false,
     "input": [
      "def address2coord(ven, addr):\n",
      "    \n",
      "    result = None\n",
      "    address = ven + ', ' + addr\n",
      "    \n",
      "    if 'TBD' in addr:\n",
      "        print 'No location determined yet.'\n",
      "        return (u'0.0', u'0.0')\n",
      "    \n",
      "    while result is None:\n",
      "        try:\n",
      "            url = 'http://maps.googleapis.com/maps/api/geocode/xml'\n",
      "            payload = {'address': unicode(address), 'sensor': 'true'}\n",
      "            \n",
      "            try:\n",
      "                response = requests.get(url, params=payload)\n",
      "            except Exception, e:\n",
      "                print e.message\n",
      "                return Error(2, \"Google\", \"Google nicht erreichbar.\")\n",
      "        \n",
      "            if response.status_code != 200:\n",
      "                print \"Can't connect to Google! (status code: \" + response.status_code + \")\"    \n",
      "                return Error(response.status_code, \"Google\", \"Google Server nicht erreichbar\")\n",
      "            \n",
      "            if type(response.content) is unicode:\n",
      "                soup = BeautifulSoup(response.content.encode('utf8'))\n",
      "            else:\n",
      "                soup = BeautifulSoup(response.content)\n",
      "\n",
      "            #print response.content\n",
      "\n",
      "            if soup.find('status').string == 'OK':\n",
      "                print('Found Location.')\n",
      "                result = True\n",
      "                return (soup.find('lat').string , soup.find('lng').string)\n",
      "            elif soup.find('status').string == 'OVER_QUERY_LIMIT':\n",
      "                print 'Google API Query Limit reached. Waiting... (maybe you should renew your IP)'\n",
      "                time.sleep(5)\n",
      "            elif soup.find('status').string == 'ZERO_RESULTS':\n",
      "                print '\\n' + unicode(address)\n",
      "                print \"not found! Tryin:\"\n",
      "                # nur noch Stadt nehmen, nicht mehr Hotel usw..\n",
      "                address=addr\n",
      "                print address\n",
      "            else:\n",
      "                print '\\n' + unicode(address) + '\\n'\n",
      "                print response.url\n",
      "                print \"not found! Giving up...\"\n",
      "                result = True\n",
      "                return (u'0.0', u'0.0')\n",
      "\n",
      "        except:\n",
      "            pass"
     ],
     "language": "python",
     "metadata": {},
     "outputs": [],
     "prompt_number": 2
    },
    {
     "cell_type": "heading",
     "level": 2,
     "metadata": {},
     "source": [
      "Crawl the conference search"
     ]
    },
    {
     "cell_type": "code",
     "collapsed": false,
     "input": [
      "# Daten von iEEE Webseite holen\n",
      "url='http://www.ieee.org/conferences_events/conferences/search/index.html'\n",
      "\n",
      "# Suchmaske\n",
      "payload = {'KEYWORDS': '', \\\n",
      "           'CONF_SRCH_RDO': 'conf_date', \\\n",
      "           'RANGE_FROM_DATE': '2014-01-01', \\\n",
      "           'RANGE_TO_DATE': '2014-12-31', \\\n",
      "           'REGION': 'ALL', \\\n",
      "           'COUNTRY': 'ALL', \\\n",
      "           'STATE': 'ALL', \\\n",
      "           'CITY': 'ALL', \\\n",
      "           'SPONSOR': 'ALL', \\\n",
      "           'RowsPerPage': '20000', \\\n",
      "           'PageLinkNum': '1', \\\n",
      "           'ActivePage': '1', \\\n",
      "           'SORTORDER': 'desc', \\\n",
      "           'SORTFIELD': 'start_date'}\n",
      "\n",
      "# Fire the request\n",
      "try:\n",
      "    print('Requesting IEEE Conference Search...')\n",
      "    data = requests.get(url, params=payload)\n",
      "    print('Done.')\n",
      "except Exception, e:\n",
      "    print e.message\n",
      "if data.status_code != 200:\n",
      "    print \"Can't connect to iEEE! (status code: \" + response.status_code + \")\"        "
     ],
     "language": "python",
     "metadata": {},
     "outputs": [
      {
       "output_type": "stream",
       "stream": "stdout",
       "text": [
        "Requesting IEEE Conference Search...\n",
        "Done."
       ]
      },
      {
       "output_type": "stream",
       "stream": "stdout",
       "text": [
        "\n"
       ]
      }
     ],
     "prompt_number": 3
    },
    {
     "cell_type": "heading",
     "level": 2,
     "metadata": {},
     "source": [
      "Extract the Data"
     ]
    },
    {
     "cell_type": "code",
     "collapsed": false,
     "input": [
      "# Crawl the Data\n",
      "soup = BeautifulSoup(data.text)\n",
      "confs={}\n",
      "confname=[]\n",
      "confdate=[]\n",
      "confloc =[]\n",
      "conflat =[]\n",
      "conflon =[]\n",
      "confurl =[]\n",
      "print('Extracting the data from IEEE website')\n",
      "for conference in soup.body.find_all('tr', attrs={'class' : ['even','odd']}):\n",
      "    for idx,infos in enumerate(conference.find_all('td', attrs={'class' : 'pad10'})):\n",
      "        # Tabelle durchgehen\n",
      "        # Erste Spalte: Konferenzname\n",
      "        if idx==0:\n",
      "            confname.append(infos.a.text.strip())\n",
      "        # Zweite Spalte: Konferenzdatum\n",
      "        elif idx==1:\n",
      "            confdate.append(infos.a.text.strip())\n",
      "        # Dritte Spalte: Infoseite und Ort\n",
      "        elif idx==2:\n",
      "            confurl.append('https://www.ieee.org' + infos.a['href'])\n",
      "            confloc.append(infos.a.text.strip())\n",
      "            \n",
      "            for br in infos.a.findAll('br'):\n",
      "                if br.nextSibling == '' or None:\n",
      "                    pass\n",
      "                elif br.previousSibling == '' or None:\n",
      "                    pass\n",
      "                elif br.previousSibling == None:\n",
      "                    addr = br.nextSibling.strip()\n",
      "                    ven = ''\n",
      "                else:\n",
      "                    addr = br.nextSibling.strip()\n",
      "                    ven = br.previousSibling.strip()\n",
      "                    \n",
      "\n",
      "            print('Getting Location of ' + ven + ', ' + addr)\n",
      "            location = ven + ', ' + addr\n",
      "            lat,lon = address2coord(ven, addr)\n",
      "            conflat.append(float(lat))\n",
      "            conflon.append(float(lon))\n",
      "        else:\n",
      "            print(u'Unklar, was das f\u00fcr Daten sind.')\n",
      "\n",
      "\n",
      "confs = zip(confname,confdate,conflat,conflon,confloc,confurl)\n",
      "print('Done.')\n",
      "# Print the Table           \n",
      "#for i in range(len(confname)):\n",
      "#    print('%s findet am %s in %s statt.\\n' % (confname[i], confdate[i], confloc[i]))"
     ],
     "language": "python",
     "metadata": {},
     "outputs": [
      {
       "output_type": "stream",
       "stream": "stdout",
       "text": [
        "Extracting the data from IEEE website\n",
        "Getting Location of Al-Khawarizmi Institute of Computer Science University of En, Lahore, Pakistan"
       ]
      },
      {
       "output_type": "stream",
       "stream": "stdout",
       "text": [
        "\n",
        "Found Location."
       ]
      },
      {
       "output_type": "stream",
       "stream": "stdout",
       "text": [
        "\n",
        "Getting Location of J.W. Marriott Hotel, Los Angeles, CA, USA\n",
        "Found Location."
       ]
      },
      {
       "output_type": "stream",
       "stream": "stdout",
       "text": [
        "\n",
        "Getting Location of Le Quy Don Technical University 100 Hoang Quoc Viet Cau Giay, Ha Noi, Vietnam\n",
        "Found Location."
       ]
      },
      {
       "output_type": "stream",
       "stream": "stdout",
       "text": [
        "\n",
        "Getting Location of Catamaran Resort Hotel 3999 Mission Boulevard San Diego CA 9, San Diego, CA, USA\n",
        "Found Location."
       ]
      },
      {
       "output_type": "stream",
       "stream": "stdout",
       "text": [
        "\n",
        "Getting Location of Hotel SG, , Singapore\n",
        "Found Location."
       ]
      },
      {
       "output_type": "stream",
       "stream": "stdout",
       "text": [
        "\n",
        "Getting Location of Caribe Royale All-Suite Hotel, Orlando, FL, USA\n",
        "Found Location."
       ]
      },
      {
       "output_type": "stream",
       "stream": "stdout",
       "text": [
        "\n",
        "Getting Location of Turtle Bay Resorts 57-091 Kamehameha Hwy Kahuku HI 96731 US, Kahuku, HI, USA\n",
        "Found Location."
       ]
      },
      {
       "output_type": "stream",
       "stream": "stdout",
       "text": [
        "\n",
        "Getting Location of Hilton Austin Hotel, Austin, TX, USA\n",
        "Found Location."
       ]
      },
      {
       "output_type": "stream",
       "stream": "stdout",
       "text": [
        "\n",
        "Getting Location of University of Malaya MIMEMS Lab Department of Biomedical Eng, Miri, Sarawak, Malaysia\n",
        "Found Location."
       ]
      },
      {
       "output_type": "stream",
       "stream": "stdout",
       "text": [
        "\n",
        "Getting Location of Lake Tahoe Resort Hotel 4130 Lake Tahoe Blvd. South Lake Tah, South Lake Tahoe, CA, USA\n",
        "Found Location."
       ]
      },
      {
       "output_type": "stream",
       "stream": "stdout",
       "text": [
        "\n",
        "Getting Location of Hyatt Regency Atlanta 265 Peachtree Street, NE Atlanta GA 30, Atlanta, GA, USA\n",
        "Found Location."
       ]
      },
      {
       "output_type": "stream",
       "stream": "stdout",
       "text": [
        "\n",
        "Getting Location of Grand Hi-Lai Hotel 255 Cheng-Kung 1st Road Kaohsiung 801 TW, Kaohsiung, Taiwan\n",
        "Found Location."
       ]
      },
      {
       "output_type": "stream",
       "stream": "stdout",
       "text": [
        "\n",
        "Getting Location of Texas A&M University Corpus Christi 6300 Ocean Drive Corpus, Corpus Christi, TX, USA\n",
        "Found Location."
       ]
      },
      {
       "output_type": "stream",
       "stream": "stdout",
       "text": [
        "\n",
        "Getting Location of Hotel Le Meridian, Pune Raja Bahadur Mill Road, Near Pune Ci, Pune, India\n",
        "Found Location."
       ]
      },
      {
       "output_type": "stream",
       "stream": "stdout",
       "text": [
        "\n",
        "Getting Location of Hotel Melia Castilla Calle del Capitan Haya, 43 Madrid 28010, Madrid, Spain\n",
        "Found Location."
       ]
      },
      {
       "output_type": "stream",
       "stream": "stdout",
       "text": [
        "\n",
        "Getting Location of Ernest N. Morial Convention Center, New Orleans, LA, USA\n",
        "\n",
        "Ernest N. Morial Convention Center, New Orleans, LA, USA"
       ]
      },
      {
       "output_type": "stream",
       "stream": "stdout",
       "text": [
        "\n",
        "not found! Tryin:\n",
        "New Orleans, LA, USA\n",
        "Found Location."
       ]
      },
      {
       "output_type": "stream",
       "stream": "stdout",
       "text": [
        "\n",
        "Getting Location of Westin Calgary 320 4th Avenue, Calgary, AB, Canada\n",
        "Found Location."
       ]
      },
      {
       "output_type": "stream",
       "stream": "stdout",
       "text": [
        "\n",
        "Getting Location of Hyatt Regency Atlanta, Atlanta, GA, USA\n",
        "\n",
        "Hyatt Regency Atlanta, Atlanta, GA, USA"
       ]
      },
      {
       "output_type": "stream",
       "stream": "stdout",
       "text": [
        "\n",
        "not found! Tryin:\n",
        "Atlanta, GA, USA\n",
        "Found Location."
       ]
      },
      {
       "output_type": "stream",
       "stream": "stdout",
       "text": [
        "\n",
        "Getting Location of Washington State Convention Center, Seattle, WA, USA\n",
        "Found Location."
       ]
      },
      {
       "output_type": "stream",
       "stream": "stdout",
       "text": [
        "\n",
        "Getting Location of Hilton Hawaiian Village, Honolulu, HI, USA\n",
        "Google API Query Limit reached. Waiting... (maybe you should renew your IP)"
       ]
      },
      {
       "output_type": "stream",
       "stream": "stdout",
       "text": [
        "\n",
        "Found Location."
       ]
      },
      {
       "output_type": "stream",
       "stream": "stdout",
       "text": [
        "\n",
        "Getting Location of Valencia Conference Centre AV. CORTES VALENCIANAS, N\u00ba 60 VA, Valencia, Spain\n",
        "Found Location."
       ]
      },
      {
       "output_type": "stream",
       "stream": "stdout",
       "text": [
        "\n",
        "Getting Location of Hobart Function and Conference Centre 1 Elizabeth Street Hob, Hobart, Australia\n",
        "Found Location."
       ]
      },
      {
       "output_type": "stream",
       "stream": "stdout",
       "text": [
        "\n",
        "Getting Location of Grand Hyatt San Francisco 345, San Francisco, CA, USA\n",
        "Found Location."
       ]
      },
      {
       "output_type": "stream",
       "stream": "stdout",
       "text": [
        "\n",
        "Getting Location of Sheraton Dallas Hotel 400 olive street Dallas TX 75201 US, Dallas, TX, USA\n",
        "Found Location."
       ]
      },
      {
       "output_type": "stream",
       "stream": "stdout",
       "text": [
        "\n",
        "Getting Location of CNIT La Defense, Paris, France\n",
        "Found Location."
       ]
      },
      {
       "output_type": "stream",
       "stream": "stdout",
       "text": [
        "\n",
        "Getting Location of Grand Link Hotel No. 42 Chuanshan Road , Guilin, Guangxi Chi, Guilin, China\n",
        "Found Location."
       ]
      },
      {
       "output_type": "stream",
       "stream": "stdout",
       "text": [
        "\n",
        "Getting Location of Clarion Hotel and Conference Center 3845 Veterans Memorial, Ronkonkoma, NY, USA\n",
        "Found Location."
       ]
      },
      {
       "output_type": "stream",
       "stream": "stdout",
       "text": [
        "\n",
        "Getting Location of Toyako Cultural Center Toyako-Onsen 142 Toyako-cho, Abuta Ho, Toyako, Hokkaido, Japan\n",
        "Found Location."
       ]
      },
      {
       "output_type": "stream",
       "stream": "stdout",
       "text": [
        "\n",
        "Getting Location of Grand Metropark Hotel  Hangzhou 2 Pinghai Road  Hangzhou, Hangzhou, China\n",
        "Found Location."
       ]
      },
      {
       "output_type": "stream",
       "stream": "stdout",
       "text": [
        "\n",
        "Getting Location of Melbourne Convention and Exhibition Center 1 Convention Cent, Melbourne, Australia\n",
        "Found Location."
       ]
      },
      {
       "output_type": "stream",
       "stream": "stdout",
       "text": [
        "\n",
        "Getting Location of unknown unknown Portland OR unknown US, Portland, OR, USA\n",
        "Found Location."
       ]
      },
      {
       "output_type": "stream",
       "stream": "stdout",
       "text": [
        "\n",
        "Getting Location of Paris Marriott Rive Gauche Hotel & Conference CenterCit\u00e9 d, Paris, France\n",
        "Found Location."
       ]
      },
      {
       "output_type": "stream",
       "stream": "stdout",
       "text": [
        "\n",
        "Getting Location of Paris Marriott Rive Gauche Hotel & Conference CenterCit\u00e9 d, Paris, France\n",
        "Found Location."
       ]
      },
      {
       "output_type": "stream",
       "stream": "stdout",
       "text": [
        "\n",
        "Getting Location of Paris Marriott Rive Gauche Hotel & Conference CenterCit\u00e9 de, Paris, France\n",
        "Found Location."
       ]
      },
      {
       "output_type": "stream",
       "stream": "stdout",
       "text": [
        "\n",
        "Getting Location of Cit\u00e9 des Sciences et de l'Ind ustrie Paris Marriott Rive Ga, Paris, France\n",
        "Found Location."
       ]
      },
      {
       "output_type": "stream",
       "stream": "stdout",
       "text": [
        "\n",
        "Getting Location of TBD TBD NJ US, Detroit, MI, USA\n",
        "Found Location."
       ]
      },
      {
       "output_type": "stream",
       "stream": "stdout",
       "text": [
        "\n",
        "Getting Location of The Swiss Tech Convention Center Ecole Polytechnique F\u00e9d\u00e9r, Lausanne, Switzerland\n",
        "Google API Query Limit reached. Waiting... (maybe you should renew your IP)"
       ]
      },
      {
       "output_type": "stream",
       "stream": "stdout",
       "text": [
        "\n",
        "Found Location."
       ]
      },
      {
       "output_type": "stream",
       "stream": "stdout",
       "text": [
        "\n",
        "Getting Location of Melia Castilla Hotel and Convention Center, Madrid, Spain\n",
        "Found Location."
       ]
      },
      {
       "output_type": "stream",
       "stream": "stdout",
       "text": [
        "\n",
        "Getting Location of Sapporo Convention Center 1-1-1, Higashi Sapporo 6-jo Shirai, Sapporo, Japan\n",
        "Found Location."
       ]
      },
      {
       "output_type": "stream",
       "stream": "stdout",
       "text": [
        "\n",
        "Getting Location of Washington State Convention Center 800 Convention Place Seat, Seattle, WA, USA\n",
        "Found Location."
       ]
      },
      {
       "output_type": "stream",
       "stream": "stdout",
       "text": [
        "\n",
        "Getting Location of University of Tetuan MA, Tetuan-Chefchaouen, Morocco\n",
        "Found Location."
       ]
      },
      {
       "output_type": "stream",
       "stream": "stdout",
       "text": [
        "\n",
        "Getting Location of Hyatt Regency La Jolla 3777 La Jolla Village Drive La Jolla, San Diego, CA, USA\n",
        "Found Location."
       ]
      },
      {
       "output_type": "stream",
       "stream": "stdout",
       "text": [
        "\n",
        "Getting Location of Nicola BowlerMahmoud Abou-Dakka National Research Council Ca, Des Moines, IA, USA\n",
        "Found Location."
       ]
      },
      {
       "output_type": "stream",
       "stream": "stdout",
       "text": [
        "\n",
        "Getting Location of University of Evry Val d'Essonne 40 rue du Pelvous Paris 91, Paris, France\n",
        "Found Location."
       ]
      },
      {
       "output_type": "stream",
       "stream": "stdout",
       "text": [
        "\n",
        "Getting Location of Hilton Palacio del Rio 200 South Alamo San Antonio TX 78205, San Antonio, TX, USA\n",
        "Found Location."
       ]
      },
      {
       "output_type": "stream",
       "stream": "stdout",
       "text": [
        "\n",
        "Getting Location of Crowne Plaza Rome St. Peter's, Rome, Italy\n",
        "Found Location."
       ]
      },
      {
       "output_type": "stream",
       "stream": "stdout",
       "text": [
        "\n",
        "Getting Location of Carnegie Mellon University 5000 Forbes Avenue Pittsburgh PA, Pittsburgh, PA, USA\n",
        "Found Location."
       ]
      },
      {
       "output_type": "stream",
       "stream": "stdout",
       "text": [
        "\n",
        "Getting Location of Qatar National Convention Center P.O. Box 34195 Education Ci, Doha, Qatar\n",
        "Found Location."
       ]
      },
      {
       "output_type": "stream",
       "stream": "stdout",
       "text": [
        "\n",
        "Getting Location of Lille Grand Palais, Lille, France\n",
        "Found Location."
       ]
      },
      {
       "output_type": "stream",
       "stream": "stdout",
       "text": [
        "\n",
        "Getting Location of Hyatt Regency La Jolla, San Diego, CA, USA\n",
        "\n",
        "Hyatt Regency La Jolla, San Diego, CA, USA"
       ]
      },
      {
       "output_type": "stream",
       "stream": "stdout",
       "text": [
        "\n",
        "not found! Tryin:\n",
        "San Diego, CA, USA\n",
        "Found Location."
       ]
      },
      {
       "output_type": "stream",
       "stream": "stdout",
       "text": [
        "\n",
        "Getting Location of San Francisco CA US, San Francisco, CA, USA\n",
        "Found Location."
       ]
      },
      {
       "output_type": "stream",
       "stream": "stdout",
       "text": [
        "\n",
        "Getting Location of Antibes Congress Center Antibes-Juan Les Pins 06160 FR, Nice/Antibes, France\n",
        "Google API Query Limit reached. Waiting... (maybe you should renew your IP)"
       ]
      },
      {
       "output_type": "stream",
       "stream": "stdout",
       "text": [
        "\n",
        "Found Location."
       ]
      },
      {
       "output_type": "stream",
       "stream": "stdout",
       "text": [
        "\n",
        "Getting Location of Neum\u00fcnster Abbey 28, rue M\u00fcn ster Luxembourg L-2160 LU, Luxembourg, Luxembourg\n",
        "Found Location."
       ]
      },
      {
       "output_type": "stream",
       "stream": "stdout",
       "text": [
        "\n",
        "Getting Location of Renaissance Seattle Hotel 515, New York, NY, USA\n",
        "Found Location."
       ]
      },
      {
       "output_type": "stream",
       "stream": "stdout",
       "text": [
        "\n",
        "Getting Location of MIT Media Lab 77 Massachusetts Ave E-14, Rooms 638,648 and 6, Cambridge, MA, USA\n",
        "Found Location."
       ]
      },
      {
       "output_type": "stream",
       "stream": "stdout",
       "text": [
        "\n",
        "Getting Location of Westin San Francisco Airport 1 Old Bayshore Highway Millbrae, San Francisco, CA, USA\n",
        "Found Location."
       ]
      },
      {
       "output_type": "stream",
       "stream": "stdout",
       "text": [
        "\n",
        "Getting Location of The Inn at Ole Miss 120 Alumni Dr Oxford MS 38677 US, Oxford, MS, USA\n",
        "Found Location."
       ]
      },
      {
       "output_type": "stream",
       "stream": "stdout",
       "text": [
        "\n",
        "Getting Location of Sheraton Vancouver Wall Centre Hotel 1088 Burrard Street Van, Vancouver, BC, Canada\n",
        "Found Location."
       ]
      },
      {
       "output_type": "stream",
       "stream": "stdout",
       "text": [
        "\n",
        "Getting Location of TBD, San Diego, CA, USA\n",
        "Found Location."
       ]
      },
      {
       "output_type": "stream",
       "stream": "stdout",
       "text": [
        "\n",
        "Getting Location of The Fairmont Empress 721 Government Street Victoria BC V8W1, Victoria, BC, Canada\n",
        "Found Location."
       ]
      },
      {
       "output_type": "stream",
       "stream": "stdout",
       "text": [
        "\n",
        "Getting Location of Sheraton Sand Key Resort Gulf, Tampa, FL, USA\n",
        "Found Location."
       ]
      },
      {
       "output_type": "stream",
       "stream": "stdout",
       "text": [
        "\n",
        "Getting Location of unknown at this time ES, Valencia, Spain\n",
        "Found Location."
       ]
      },
      {
       "output_type": "stream",
       "stream": "stdout",
       "text": [
        "\n",
        "Getting Location of U. Politencica de Valenciad Valencia ES, Valencia, Spain\n",
        "Found Location."
       ]
      },
      {
       "output_type": "stream",
       "stream": "stdout",
       "text": [
        "\n",
        "Getting Location of TBD, Vancouver, BC, Canada\n",
        "Found Location."
       ]
      },
      {
       "output_type": "stream",
       "stream": "stdout",
       "text": [
        "\n",
        "Getting Location of ChicagoChicago Marriott Downtown Magnificent Mile 540 North, Chicago, IL, USA\n",
        "Found Location."
       ]
      },
      {
       "output_type": "stream",
       "stream": "stdout",
       "text": [
        "\n",
        "Getting Location of Adaptive Systems Laboratory The University of Aizu, Aizu-Wak, Aizu-Wakamatsu, Japan\n",
        "Found Location."
       ]
      },
      {
       "output_type": "stream",
       "stream": "stdout",
       "text": [
        "\n",
        "Getting Location of TBD TBD TBD TBD TBD Singapore, Singapore, Singapore\n",
        "Found Location."
       ]
      },
      {
       "output_type": "stream",
       "stream": "stdout",
       "text": [
        "\n",
        "Getting Location of Hilton Austin 500 East 4th Street Austin TX 78701, Austin, TX, USA\n",
        "Found Location."
       ]
      },
      {
       "output_type": "stream",
       "stream": "stdout",
       "text": [
        "\n",
        "Getting Location of Escuela Tecnica Superior de Ingenieros Industriales c/ Jos\u00e9, Madrid, Spain\n",
        "Found Location."
       ]
      },
      {
       "output_type": "stream",
       "stream": "stdout",
       "text": [
        "\n",
        "Getting Location of Kervansaray Hotel, Lara Trt Kampi Yani, 07230, Lara/Antalya, Antalya, Turkey\n",
        "Found Location."
       ]
      },
      {
       "output_type": "stream",
       "stream": "stdout",
       "text": [
        "\n",
        "Getting Location of St. Louis Convention Center, St. Louis, MO, USA\n",
        "Found Location."
       ]
      },
      {
       "output_type": "stream",
       "stream": "stdout",
       "text": [
        "\n",
        "Getting Location of DoubleTree Hotel, San Jose, CA, USA\n",
        "Found Location."
       ]
      },
      {
       "output_type": "stream",
       "stream": "stdout",
       "text": [
        "\n",
        "Getting Location of University of Arizona Speedway Blvd Tucson AZ 85721 US, Tucson, AZ, USA\n",
        "Found Location."
       ]
      },
      {
       "output_type": "stream",
       "stream": "stdout",
       "text": [
        "\n",
        "Getting Location of St. John's Convention Centre, St. John's, NL, Canada\n",
        "Found Location."
       ]
      },
      {
       "output_type": "stream",
       "stream": "stdout",
       "text": [
        "\n",
        "Getting Location of Pittsburgh Convention Center, Pittsburgh, PA, USA\n",
        "Found Location."
       ]
      },
      {
       "output_type": "stream",
       "stream": "stdout",
       "text": [
        "\n",
        "Getting Location of Palmer House Hilton, Chicago, IL, USA\n",
        "\n",
        "Palmer House Hilton, Chicago, IL, USA"
       ]
      },
      {
       "output_type": "stream",
       "stream": "stdout",
       "text": [
        "\n",
        "not found! Tryin:\n",
        "Chicago, IL, USA\n",
        "Found Location."
       ]
      },
      {
       "output_type": "stream",
       "stream": "stdout",
       "text": [
        "\n",
        "Getting Location of The Westin Bayshore, Vancouver, BC, Canada\n",
        "\n",
        "The Westin Bayshore, Vancouver, BC, Canada"
       ]
      },
      {
       "output_type": "stream",
       "stream": "stdout",
       "text": [
        "\n",
        "not found! Tryin:\n",
        "Vancouver, BC, Canada\n",
        "Google API Query Limit reached. Waiting... (maybe you should renew your IP)"
       ]
      },
      {
       "output_type": "stream",
       "stream": "stdout",
       "text": [
        "\n",
        "Found Location."
       ]
      },
      {
       "output_type": "stream",
       "stream": "stdout",
       "text": [
        "\n",
        "Getting Location of Hotel Duchi della Rovere Via Corridoni, 3 Senigallia 60019 I, Senigallia (AN), Italy\n",
        "Found Location."
       ]
      },
      {
       "output_type": "stream",
       "stream": "stdout",
       "text": [
        "\n",
        "Getting Location of University of West Bohemia Univerzitni 8 FEL Pilsen 30614 CZ, Pilsen, Czech Republic\n",
        "Found Location."
       ]
      },
      {
       "output_type": "stream",
       "stream": "stdout",
       "text": [
        "\n",
        "Getting Location of El_Gouna, Red Sea EG, El Gouna, Red Sea, Egypt\n",
        "Found Location."
       ]
      },
      {
       "output_type": "stream",
       "stream": "stdout",
       "text": [
        "\n",
        "Getting Location of Tampere Congress and Culture Centre Puistotorni H\u00e4meenpuist, Tampere, Finland\n",
        "Found Location."
       ]
      },
      {
       "output_type": "stream",
       "stream": "stdout",
       "text": [
        "\n",
        "Getting Location of TBD TBD TBD TBD TBD London TBD GB, London, United Kingdom\n",
        "Found Location."
       ]
      },
      {
       "output_type": "stream",
       "stream": "stdout",
       "text": [
        "\n",
        "Getting Location of San Francisco Marriott Hotel, San Francisco, CA, USA\n",
        "Found Location."
       ]
      },
      {
       "output_type": "stream",
       "stream": "stdout",
       "text": [
        "\n",
        "Getting Location of Westin Hotel 70 Third Avenue Waltham MA 01880 US, Waltham, MA, USA\n",
        "Found Location."
       ]
      },
      {
       "output_type": "stream",
       "stream": "stdout",
       "text": [
        "\n",
        "Getting Location of Department of Mathematics and, Warsaw, Poland\n",
        "Found Location."
       ]
      },
      {
       "output_type": "stream",
       "stream": "stdout",
       "text": [
        "\n",
        "Getting Location of University of Bari Piazza Umberto I, 1 Bari 70121 IT, Bari, Italy\n",
        "Found Location."
       ]
      },
      {
       "output_type": "stream",
       "stream": "stdout",
       "text": [
        "\n",
        "Getting Location of Las Vegas NV US, Las Vegas, NV, USA\n",
        "Found Location."
       ]
      },
      {
       "output_type": "stream",
       "stream": "stdout",
       "text": [
        "\n",
        "Getting Location of Hilton Chicago 720 South Michigan Avenue Chicago IL 60605 US, Chicago, IL, USA\n",
        "Found Location."
       ]
      },
      {
       "output_type": "stream",
       "stream": "stdout",
       "text": [
        "\n",
        "Getting Location of Capital Hilton 1001 16th Street NW Washington DC DC 20036 US, Washington DC, DC, USA\n",
        "Found Location."
       ]
      },
      {
       "output_type": "stream",
       "stream": "stdout",
       "text": [
        "\n",
        "Getting Location of Amber Baltic Hotel Promenada Gwiazd 1 Miedzyzdroje 72-500 PL, Miedzyzdroje, Poland\n",
        "Found Location."
       ]
      },
      {
       "output_type": "stream",
       "stream": "stdout",
       "text": [
        "\n",
        "Getting Location of Technical University of Munich Arcisstr. 21 Munich 80333 DE, Munich, Germany\n",
        "Found Location."
       ]
      },
      {
       "output_type": "stream",
       "stream": "stdout",
       "text": [
        "\n",
        "Getting Location of Espace Saint-Martin 90 rue Saint-Martin Paris 75004 FR, Paris, France\n",
        "Found Location."
       ]
      },
      {
       "output_type": "stream",
       "stream": "stdout",
       "text": [
        "\n",
        "Getting Location of The Swedish Exhibition & Congress Centre M\u00e4ssans gata Gothe, Gothenburg, Sweden\n",
        "Found Location."
       ]
      },
      {
       "output_type": "stream",
       "stream": "stdout",
       "text": [
        "\n",
        "Getting Location of The Magellan Sutera No 1 Sutera Harbour Boulevard Kota Kinab, Kota Kinabalu, Malaysia\n",
        "Found Location."
       ]
      },
      {
       "output_type": "stream",
       "stream": "stdout",
       "text": [
        "\n",
        "Getting Location of Cite Internationale Universitaire de Paris 17, bd Jourdan Pa, Paris, France\n",
        "Found Location."
       ]
      },
      {
       "output_type": "stream",
       "stream": "stdout",
       "text": [
        "\n",
        "Getting Location of Hana Square Korea University Anam-dong Sungbuk-gu Seoul 136-, Seoul, Korea (South)\n",
        "\n",
        "Hana Square Korea University Anam-dong Sungbuk-gu Seoul 136-, Seoul, Korea (South)"
       ]
      },
      {
       "output_type": "stream",
       "stream": "stdout",
       "text": [
        "\n",
        "not found! Tryin:\n",
        "Seoul, Korea (South)\n",
        "Found Location."
       ]
      },
      {
       "output_type": "stream",
       "stream": "stdout",
       "text": [
        "\n",
        "Getting Location of Lappeenranta University of Technology Skinnarilankatu 34 La, Lappeenranta, Finland\n",
        "Found Location."
       ]
      },
      {
       "output_type": "stream",
       "stream": "stdout",
       "text": [
        "\n",
        "Getting Location of Park Inn Hotel Olpe 2 Dortmund 44135 DE, Dortmund, Germany\n",
        "Found Location."
       ]
      },
      {
       "output_type": "stream",
       "stream": "stdout",
       "text": [
        "\n",
        "Getting Location of Blekinge Institute of Technology Campus Gr\u00e4svik Karlskrona, Karlskrona, Sweden\n",
        "Found Location."
       ]
      },
      {
       "output_type": "stream",
       "stream": "stdout",
       "text": [
        "\n",
        "Getting Location of Everest Rio Hotel Rua Prudente de Morais 1117 - Ipanema - Ri, Rio de Janeiro, RJ, Brazil\n",
        "Found Location."
       ]
      },
      {
       "output_type": "stream",
       "stream": "stdout",
       "text": [
        "\n",
        "Getting Location of Windsor Barra Hotel Avenida Lucio Costa, 2630 - Barra da Tij, Rio de Janeiro, Brazil\n",
        "Found Location."
       ]
      },
      {
       "output_type": "stream",
       "stream": "stdout",
       "text": [
        "\n",
        "Getting Location of Sheraton Chicago Hotel and Towers, Chicago, IL, USA\n",
        "\n",
        "Sheraton Chicago Hotel and Towers, Chicago, IL, USA"
       ]
      },
      {
       "output_type": "stream",
       "stream": "stdout",
       "text": [
        "\n",
        "not found! Tryin:\n",
        "Chicago, IL, USA\n",
        "Google API Query Limit reached. Waiting... (maybe you should renew your IP)"
       ]
      },
      {
       "output_type": "stream",
       "stream": "stdout",
       "text": [
        "\n",
        "Found Location."
       ]
      },
      {
       "output_type": "stream",
       "stream": "stdout",
       "text": [
        "\n",
        "Getting Location of Edmonton AB CA, Edmonton, Canada\n",
        "Found Location."
       ]
      },
      {
       "output_type": "stream",
       "stream": "stdout",
       "text": [
        "\n",
        "Getting Location of Forest Sciences Centre, UBC 2424 Main Mall Vancouver BC V6T, Vancouver, BC, Canada\n",
        "Found Location."
       ]
      },
      {
       "output_type": "stream",
       "stream": "stdout",
       "text": [
        "\n",
        "Getting Location of Vignan Foundation For Science, Technology & Research (Vignan, Guntur, Andhra Pradesh, India\n",
        "Found Location."
       ]
      },
      {
       "output_type": "stream",
       "stream": "stdout",
       "text": [
        "\n",
        "Getting Location of Jacobs University Bremen Campus Center Campus Ring 1 Bremen, Bremen, Germany\n",
        "Found Location."
       ]
      },
      {
       "output_type": "stream",
       "stream": "stdout",
       "text": [
        "\n",
        "Getting Location of Delta Chelsea 33 Gerrard Street West Toronto ON M5G 1Z4 CA, Toronto, ON, Canada\n",
        "Found Location."
       ]
      },
      {
       "output_type": "stream",
       "stream": "stdout",
       "text": [
        "\n",
        "Getting Location of John Anderson Building University of Strathclyde Glasgow GB, Glasgow, United Kingdom\n",
        "Found Location."
       ]
      },
      {
       "output_type": "stream",
       "stream": "stdout",
       "text": [
        "\n",
        "Getting Location of Rebou\u00e7as Convention Center Av . Rebou\u00e7as, 600 S\u00e3o Paulo, S\u00e3o Paulo, Brazil\n",
        "Found Location."
       ]
      },
      {
       "output_type": "stream",
       "stream": "stdout",
       "text": [
        "\n",
        "Getting Location of China National Convention Center No.7 Tianchen East Road, Ch, Beijing, China\n",
        "Found Location."
       ]
      },
      {
       "output_type": "stream",
       "stream": "stdout",
       "text": [
        "\n",
        "Getting Location of Radisson Blu Gautrain Hotel Corner Rivonia Road & West Stree, Johannesburg, South Africa\n",
        "Found Location."
       ]
      },
      {
       "output_type": "stream",
       "stream": "stdout",
       "text": [
        "\n",
        "Getting Location of , S\u00e3o Paulo, Brazil\n",
        "Found Location."
       ]
      },
      {
       "output_type": "stream",
       "stream": "stdout",
       "text": [
        "\n",
        "Getting Location of Johns Hopkins University 3400, Baltimore, MD, USA\n",
        "Found Location."
       ]
      },
      {
       "output_type": "stream",
       "stream": "stdout",
       "text": [
        "\n",
        "Getting Location of University of California at Berkeley 6103 Etcheverry Hall U, Berkeley, CA, USA\n",
        "Found Location."
       ]
      },
      {
       "output_type": "stream",
       "stream": "stdout",
       "text": [
        "\n",
        "Getting Location of Atrium Auditorium PH101, Philips Hall Cornell University Ith, Ithaca, NY, USA\n",
        "Found Location."
       ]
      },
      {
       "output_type": "stream",
       "stream": "stdout",
       "text": [
        "\n",
        "Getting Location of Hilton Cyprus Hotel ARCHBISHOP MAKARIOS III AVENUE, NICOSIA, Nicosia, Cyprus\n",
        "Found Location."
       ]
      },
      {
       "output_type": "stream",
       "stream": "stdout",
       "text": [
        "\n",
        "Getting Location of Raleigh Convention Center, Raleigh, NC, USA\n",
        "Found Location."
       ]
      },
      {
       "output_type": "stream",
       "stream": "stdout",
       "text": [
        "\n",
        "Getting Location of Westin Resort & Casino, Aruba, Aruba, Aruba\n",
        "\n",
        "Westin Resort & Casino, Aruba, Aruba, Aruba"
       ]
      },
      {
       "output_type": "stream",
       "stream": "stdout",
       "text": [
        "\n",
        "not found! Tryin:\n",
        "Aruba, Aruba\n",
        "Found Location."
       ]
      },
      {
       "output_type": "stream",
       "stream": "stdout",
       "text": [
        "\n",
        "Getting Location of Westin Resort & Casino, Aruba, Aruba, Aruba\n",
        "Google API Query Limit reached. Waiting... (maybe you should renew your IP)"
       ]
      },
      {
       "output_type": "stream",
       "stream": "stdout",
       "text": [
        "\n",
        "\n",
        "Westin Resort & Casino, Aruba, Aruba, Aruba"
       ]
      },
      {
       "output_type": "stream",
       "stream": "stdout",
       "text": [
        "\n",
        "not found! Tryin:\n",
        "Aruba, Aruba\n",
        "Found Location."
       ]
      },
      {
       "output_type": "stream",
       "stream": "stdout",
       "text": [
        "\n",
        "Getting Location of Hotel Nikko Tianjin Tianjin 300384 CN, Tianjin, China\n",
        "Found Location."
       ]
      },
      {
       "output_type": "stream",
       "stream": "stdout",
       "text": [
        "\n",
        "Getting Location of Waikoloa Hilton Village 69-425 Waikoloa Beach Drive Waikoloa, Waikoloa, HI, USA\n",
        "Found Location."
       ]
      },
      {
       "output_type": "stream",
       "stream": "stdout",
       "text": [
        "\n",
        "Getting Location of International Conference Hotel Nanjing Nanjing CN, Nanjing, China\n",
        "Found Location."
       ]
      },
      {
       "output_type": "stream",
       "stream": "stdout",
       "text": [
        "\n",
        "Getting Location of Capsis Astoria Hotel 11 Eleftherias square Heraklion, Crete, Heraklion, Crete, Greece\n",
        "Found Location."
       ]
      },
      {
       "output_type": "stream",
       "stream": "stdout",
       "text": [
        "\n",
        "Getting Location of Gaylord National Resort & Convention Center 201 Waterfront S, , MD, USA\n",
        "\n",
        "Gaylord National Resort & Convention Center 201 Waterfront S, , MD, USA"
       ]
      },
      {
       "output_type": "stream",
       "stream": "stdout",
       "text": [
        "\n",
        "not found! Tryin:\n",
        ", MD, USA\n",
        "Found Location."
       ]
      },
      {
       "output_type": "stream",
       "stream": "stdout",
       "text": [
        "\n",
        "Getting Location of Ryerson University Toronto ON, Toronto, ON, Canada\n",
        "Found Location."
       ]
      },
      {
       "output_type": "stream",
       "stream": "stdout",
       "text": [
        "\n",
        "Getting Location of Manchester Metropolitan University School of Engineering Che, Manchester, United Kingdom\n",
        "Found Location."
       ]
      },
      {
       "output_type": "stream",
       "stream": "stdout",
       "text": [
        "\n",
        "Getting Location of J. N. Tata Auditorium, National Science Symposium Complex Si, Bangalore, India\n",
        "Found Location."
       ]
      },
      {
       "output_type": "stream",
       "stream": "stdout",
       "text": [
        "\n",
        "Getting Location of No.794 Huanghe Road,Shahekou, Dalian, China\n",
        "Found Location."
       ]
      },
      {
       "output_type": "stream",
       "stream": "stdout",
       "text": [
        "\n",
        "Getting Location of Aros Congress Centre SE, Vasteras, Sweden\n",
        "Found Location."
       ]
      },
      {
       "output_type": "stream",
       "stream": "stdout",
       "text": [
        "\n",
        "Getting Location of Delta Montreal 475, Avenue President Montreal QC HSA 1J7 CA, Montreal, QC, Canada\n",
        "Found Location."
       ]
      },
      {
       "output_type": "stream",
       "stream": "stdout",
       "text": [
        "\n",
        "Getting Location of TBD Chengdu CN, Chengdu, China\n",
        "Found Location."
       ]
      },
      {
       "output_type": "stream",
       "stream": "stdout",
       "text": [
        "\n",
        "Getting Location of Vienna University of Technology Karlsplatz 13 Vienna 1040 AT, Vienna, Austria\n",
        "Found Location."
       ]
      },
      {
       "output_type": "stream",
       "stream": "stdout",
       "text": [
        "\n",
        "Getting Location of Marriott Rive Gauche, Paris, France\n",
        "\n",
        "Marriott Rive Gauche, Paris, France"
       ]
      },
      {
       "output_type": "stream",
       "stream": "stdout",
       "text": [
        "\n",
        "not found! Tryin:\n",
        "Paris, France\n",
        "Found Location."
       ]
      },
      {
       "output_type": "stream",
       "stream": "stdout",
       "text": [
        "\n",
        "Getting Location of Quebec City Convention Centre, Quebec City, QC, Canada\n",
        "Found Location."
       ]
      },
      {
       "output_type": "stream",
       "stream": "stdout",
       "text": [
        "\n",
        "Getting Location of Hotel Grand Pacific 463 Belleville St. Victoria BC V8V1X3 CA, Victoria, BC, Canada\n",
        "Google API Query Limit reached. Waiting... (maybe you should renew your IP)"
       ]
      },
      {
       "output_type": "stream",
       "stream": "stdout",
       "text": [
        "\n",
        "Found Location."
       ]
      },
      {
       "output_type": "stream",
       "stream": "stdout",
       "text": [
        "\n",
        "Getting Location of TBC TBC Lanzhou TBC CN, Lanzhou, China\n",
        "Found Location."
       ]
      },
      {
       "output_type": "stream",
       "stream": "stdout",
       "text": [
        "\n",
        "Getting Location of TBD TBD TBD TBD TBD TBD, Lanzhou, China\n",
        "Found Location."
       ]
      },
      {
       "output_type": "stream",
       "stream": "stdout",
       "text": [
        "\n",
        "Getting Location of Loughborough University Loughborough LE11 3TU GB, Loughborough, United Kingdom\n",
        "Found Location."
       ]
      },
      {
       "output_type": "stream",
       "stream": "stdout",
       "text": [
        "\n",
        "Getting Location of TBD Shanghai CN, Shanghai, China\n",
        "Found Location."
       ]
      },
      {
       "output_type": "stream",
       "stream": "stdout",
       "text": [
        "\n",
        "Getting Location of Calman Learning Centre Durham, Durham, United Kingdom\n",
        "Found Location."
       ]
      },
      {
       "output_type": "stream",
       "stream": "stdout",
       "text": [
        "\n",
        "Getting Location of Palacio de Congresos y Exposiciones de Castilla y Leon Cues, Salamanca, Spain\n",
        "Found Location."
       ]
      },
      {
       "output_type": "stream",
       "stream": "stdout",
       "text": [
        "\n",
        "Getting Location of Vienna University of Technology Gusshausstrasse 27-29 Vienna, Vienna, Austria\n",
        "Found Location."
       ]
      },
      {
       "output_type": "stream",
       "stream": "stdout",
       "text": [
        "\n",
        "Getting Location of Beijing International Convention Center, Beijing, China\n",
        "Found Location."
       ]
      },
      {
       "output_type": "stream",
       "stream": "stdout",
       "text": [
        "\n",
        "Getting Location of Memphis Cook County Convention Center, Memphis, TN, USA\n",
        "Found Location."
       ]
      },
      {
       "output_type": "stream",
       "stream": "stdout",
       "text": [
        "\n",
        "Getting Location of Beijing International Convention Center 8 Beichen East Road, Beijing, China\n",
        "Found Location."
       ]
      },
      {
       "output_type": "stream",
       "stream": "stdout",
       "text": [
        "\n",
        "Getting Location of Beijing International Convention Center 8 Beichen East Road, Beijing, China\n",
        "Found Location."
       ]
      },
      {
       "output_type": "stream",
       "stream": "stdout",
       "text": [
        "\n",
        "Getting Location of Beijing International Convention Center 8 Beichen East Road, Beijing, China\n",
        "Found Location."
       ]
      },
      {
       "output_type": "stream",
       "stream": "stdout",
       "text": [
        "\n",
        "Getting Location of Bohai University No. 19, Keji, Jinzhou, China\n",
        "Found Location."
       ]
      },
      {
       "output_type": "stream",
       "stream": "stdout",
       "text": [
        "\n",
        "Getting Location of Marriott Vancouver Pinnacle Hotel and the Renaissance Vancou, Vancouver, BC, Canada\n",
        "Found Location."
       ]
      },
      {
       "output_type": "stream",
       "stream": "stdout",
       "text": [
        "\n",
        "Getting Location of Shanghai Jiao Tong University, Shanghai, China\n",
        "Found Location."
       ]
      },
      {
       "output_type": "stream",
       "stream": "stdout",
       "text": [
        "\n",
        "Getting Location of Holiday Inn St. Petersburg Moskovskye Vorota 97A Moskovsky P, Saint Petersburg, Russia\n",
        "Found Location."
       ]
      },
      {
       "output_type": "stream",
       "stream": "stdout",
       "text": [
        "\n",
        "Getting Location of Marina Bay Sands 10 Bayfront Avenue 018956 SG, , Singapore\n",
        "Found Location."
       ]
      },
      {
       "output_type": "stream",
       "stream": "stdout",
       "text": [
        "\n",
        "Getting Location of Grand hotel Toplice Cesta svobode 12 Bled 4260 SI, Bled, Slovenia\n",
        "Found Location."
       ]
      },
      {
       "output_type": "stream",
       "stream": "stdout",
       "text": [
        "\n",
        "Getting Location of University Town, NUS National, Singapore, Singapore\n",
        "Google API Query Limit reached. Waiting... (maybe you should renew your IP)"
       ]
      },
      {
       "output_type": "stream",
       "stream": "stdout",
       "text": [
        "\n",
        "Found Location."
       ]
      },
      {
       "output_type": "stream",
       "stream": "stdout",
       "text": [
        "\n",
        "Getting Location of Sofitel San Francisco Bay 223, San Francisco, CA, USA\n",
        "Found Location."
       ]
      },
      {
       "output_type": "stream",
       "stream": "stdout",
       "text": [
        "\n",
        "Getting Location of Jupiters TBD Gold Coast 4217 AU, Gold Coast, Australia\n",
        "Found Location."
       ]
      },
      {
       "output_type": "stream",
       "stream": "stdout",
       "text": [
        "\n",
        "Getting Location of Hawaii Convention Center, Honolulu, HI, USA\n",
        "Found Location."
       ]
      },
      {
       "output_type": "stream",
       "stream": "stdout",
       "text": [
        "\n",
        "Getting Location of China Hall of Science and Technology No.3 Fuxing Road ,Haid, Beijing, China\n",
        "Found Location."
       ]
      },
      {
       "output_type": "stream",
       "stream": "stdout",
       "text": [
        "\n",
        "Getting Location of Tsinghua University Beijing CN, Beijing, China\n",
        "Found Location."
       ]
      },
      {
       "output_type": "stream",
       "stream": "stdout",
       "text": [
        "\n",
        "Getting Location of Holiday Inn Fairborn/Dayton Conference Center 2800 President, Dayton, OH, USA\n",
        "Found Location."
       ]
      },
      {
       "output_type": "stream",
       "stream": "stdout",
       "text": [
        "\n",
        "Getting Location of Westin Waltham Boston Waltham, Waltham (Boston), MA, USA\n",
        "Found Location."
       ]
      },
      {
       "output_type": "stream",
       "stream": "stdout",
       "text": [
        "\n",
        "Getting Location of NUI Galway Engineering Building NUI Galway University Road G, Galway, Ireland\n",
        "Found Location."
       ]
      },
      {
       "output_type": "stream",
       "stream": "stdout",
       "text": [
        "\n",
        "Getting Location of Georgia Tech Hotel and Conference Center 800 Spring St. NW A, Atlanta, GA, USA\n",
        "Found Location."
       ]
      },
      {
       "output_type": "stream",
       "stream": "stdout",
       "text": [
        "\n",
        "Getting Location of Univeristy of Catania Viale A. Doria 6 Catania 95125 IT, Catania, Italy\n",
        "Found Location."
       ]
      },
      {
       "output_type": "stream",
       "stream": "stdout",
       "text": [
        "\n",
        "Getting Location of Brunow Palace Lwowek Slaski PL, Brunow, Poland\n",
        "\n",
        "Brunow Palace Lwowek Slaski PL, Brunow, Poland"
       ]
      },
      {
       "output_type": "stream",
       "stream": "stdout",
       "text": [
        "\n",
        "not found! Tryin:\n",
        "Brunow, Poland\n",
        "Found Location."
       ]
      },
      {
       "output_type": "stream",
       "stream": "stdout",
       "text": [
        "\n",
        "Getting Location of Grand Hotel la Chiusa di Chietri S.S. 172 dei Trulli Km. 29,, Alberobello, Italy\n",
        "Found Location."
       ]
      },
      {
       "output_type": "stream",
       "stream": "stdout",
       "text": [
        "\n",
        "Getting Location of Hotel Hesperia Finisterre Paseo del Parrote, 2-4  A Coru\u00f1a, A Coru\u00f1a, Spain\n",
        "Found Location."
       ]
      },
      {
       "output_type": "stream",
       "stream": "stdout",
       "text": [
        "\n",
        "Getting Location of Atlanta Marriott Buckhead Hotel & Conference Center 3405 Le, Atlanta, GA, USA\n",
        "Found Location."
       ]
      },
      {
       "output_type": "stream",
       "stream": "stdout",
       "text": [
        "\n",
        "Getting Location of ETSI I y T. University of Cantabria University of Cantabria, Santander, Spain\n",
        "Found Location."
       ]
      },
      {
       "output_type": "stream",
       "stream": "stdout",
       "text": [
        "\n",
        "Getting Location of Columbus Convention Center, Columbus, OH, USA\n",
        "Google API Query Limit reached. Waiting... (maybe you should renew your IP)"
       ]
      },
      {
       "output_type": "stream",
       "stream": "stdout",
       "text": [
        "\n",
        "Found Location."
       ]
      },
      {
       "output_type": "stream",
       "stream": "stdout",
       "text": [
        "\n",
        "Getting Location of National Chung Hsing University Taichung TW, Taichung, Taiwan\n",
        "Found Location."
       ]
      },
      {
       "output_type": "stream",
       "stream": "stdout",
       "text": [
        "\n",
        "Getting Location of Chengdu CN, Chengdu, China\n",
        "Found Location."
       ]
      },
      {
       "output_type": "stream",
       "stream": "stdout",
       "text": [
        "\n",
        "Getting Location of Evergreen Laurel Hotel Taichung TW, Taichung, Taiwan\n",
        "Found Location."
       ]
      },
      {
       "output_type": "stream",
       "stream": "stdout",
       "text": [
        "\n",
        "Getting Location of Lviv Polytechnic National University S. Bandera St., 12 7901, Lviv, Ukraine\n",
        "Found Location."
       ]
      },
      {
       "output_type": "stream",
       "stream": "stdout",
       "text": [
        "\n",
        "Getting Location of La Salle - Universitat Ramon Llull C/Sant Joan de La Salle 4, Barcelona, Spain\n",
        "Found Location."
       ]
      },
      {
       "output_type": "stream",
       "stream": "stdout",
       "text": [
        "\n",
        "Getting Location of HYATT REGENCY NEWPORT BEACH 1107 Jamboree Rd Newport Beach C, Newport Beach, CA, USA\n",
        "Found Location."
       ]
      },
      {
       "output_type": "stream",
       "stream": "stdout",
       "text": [
        "\n",
        "Getting Location of Lviv Polytechnic National University S. Bandery St., 12 Lviv, Lviv, Ukraine\n",
        "Found Location."
       ]
      },
      {
       "output_type": "stream",
       "stream": "stdout",
       "text": [
        "\n",
        "Getting Location of Adoba Hotel Dearborn Detroit 600 Town Center Drive Dearborn, Dearborn, MI, USA\n",
        "Found Location."
       ]
      },
      {
       "output_type": "stream",
       "stream": "stdout",
       "text": [
        "\n",
        "Getting Location of Harvard University Northwest Labs 52 Oxford Street Cambridge, Cambridge, MA, USA\n",
        "Found Location."
       ]
      },
      {
       "output_type": "stream",
       "stream": "stdout",
       "text": [
        "\n",
        "Getting Location of Hilton Waikoloa Village, Waikoloa, HI, USA\n",
        "\n",
        "Hilton Waikoloa Village, Waikoloa, HI, USA"
       ]
      },
      {
       "output_type": "stream",
       "stream": "stdout",
       "text": [
        "\n",
        "not found! Tryin:\n",
        "Waikoloa, HI, USA\n",
        "Found Location."
       ]
      },
      {
       "output_type": "stream",
       "stream": "stdout",
       "text": [
        "\n",
        "Getting Location of Hilton Minneapolis 1001 Marquette Avenue Minneapolis MN 5540, Minneapolis, MN, USA\n",
        "Found Location."
       ]
      },
      {
       "output_type": "stream",
       "stream": "stdout",
       "text": [
        "\n",
        "Getting Location of Marriott O'Hare 8535 West Higgins Road Chicago IL 60631 US, Chicago, IL, USA\n",
        "Found Location."
       ]
      },
      {
       "output_type": "stream",
       "stream": "stdout",
       "text": [
        "\n",
        "Getting Location of Aqva Hotel & SPA Parkali 4 Rakvere 44308 EE, Rakvere, Estonia\n",
        "Found Location."
       ]
      },
      {
       "output_type": "stream",
       "stream": "stdout",
       "text": [
        "\n",
        "Getting Location of ISCTE-IUL Avenida For\u00e7as Arma das Lisboa 1649-026 PT, Lisbon, Portugal\n",
        "Found Location."
       ]
      },
      {
       "output_type": "stream",
       "stream": "stdout",
       "text": [
        "\n",
        "Getting Location of Hilton Hawaiian Village, Honolulu, HI, USA\n",
        "Found Location."
       ]
      },
      {
       "output_type": "stream",
       "stream": "stdout",
       "text": [
        "\n",
        "Getting Location of Peppermill Resort Spa and Casino 2707 S Virginia St Reno Ren, Las Vegas, NV, USA\n",
        "Google API Query Limit reached. Waiting... (maybe you should renew your IP)"
       ]
      },
      {
       "output_type": "stream",
       "stream": "stdout",
       "text": [
        "\n",
        "Found Location."
       ]
      },
      {
       "output_type": "stream",
       "stream": "stdout",
       "text": [
        "\n",
        "Getting Location of Hilton Hawaiian Village, Honolulu, HI, USA\n",
        "Found Location."
       ]
      },
      {
       "output_type": "stream",
       "stream": "stdout",
       "text": [
        "\n",
        "Getting Location of Hilton Hotel 488 George Street Sydney 2000 AU, Sydney, Australia\n",
        "Found Location."
       ]
      },
      {
       "output_type": "stream",
       "stream": "stdout",
       "text": [
        "\n",
        "Getting Location of Evergreen Laurel Hotel 6 Taichung Kang Road, Sec., 2 Taichu, Taichung, Taiwan\n",
        "Found Location."
       ]
      },
      {
       "output_type": "stream",
       "stream": "stdout",
       "text": [
        "\n",
        "Getting Location of AU, Sydney, Australia\n",
        "Found Location."
       ]
      },
      {
       "output_type": "stream",
       "stream": "stdout",
       "text": [
        "\n",
        "Getting Location of Hotel Andaluz 125 2nd St NW Albuquerque NM 87102 US, Albuquerque, NM, USA\n",
        "Found Location."
       ]
      },
      {
       "output_type": "stream",
       "stream": "stdout",
       "text": [
        "\n",
        "Getting Location of Zhijiang Hotel No.188-200 Moganshan Road, Gongshu District H, Hangzhou, China\n",
        "Found Location."
       ]
      },
      {
       "output_type": "stream",
       "stream": "stdout",
       "text": [
        "\n",
        "Getting Location of TBD MI US, Ypsilanti, MI, USA\n",
        "Found Location."
       ]
      },
      {
       "output_type": "stream",
       "stream": "stdout",
       "text": [
        "\n",
        "Getting Location of Hilton Hawaiian Village Waikiki Honolulu HI US, Honolulu, HI, USA\n",
        "Found Location."
       ]
      },
      {
       "output_type": "stream",
       "stream": "stdout",
       "text": [
        "\n",
        "Getting Location of Colorado Convention Center, Denver, CO, USA\n",
        "Found Location."
       ]
      },
      {
       "output_type": "stream",
       "stream": "stdout",
       "text": [
        "\n",
        "Getting Location of TBD TBD Philadelphia PA 15024, Philadelphia, PA, USA\n",
        "Found Location."
       ]
      },
      {
       "output_type": "stream",
       "stream": "stdout",
       "text": [
        "\n",
        "Getting Location of Rancho Bernardo Inn, San Diego, CA, USA\n",
        "\n",
        "Rancho Bernardo Inn, San Diego, CA, USA"
       ]
      },
      {
       "output_type": "stream",
       "stream": "stdout",
       "text": [
        "\n",
        "not found! Tryin:\n",
        "San Diego, CA, USA\n",
        "Found Location."
       ]
      },
      {
       "output_type": "stream",
       "stream": "stdout",
       "text": [
        "\n",
        "Getting Location of Hong Kong Convention and Exhibition Centre(HKCEC) 1 Expo Dri, Hong Kong, Hong Kong\n",
        "Found Location."
       ]
      },
      {
       "output_type": "stream",
       "stream": "stdout",
       "text": [
        "\n",
        "Getting Location of Hilton Portland and Executive, Portland, OR, USA\n",
        "Found Location."
       ]
      },
      {
       "output_type": "stream",
       "stream": "stdout",
       "text": [
        "\n",
        "Getting Location of The Bonch-Bruevich Saint-Petersburg State University of Tele, Saint Petersburg, Russia\n",
        "Found Location."
       ]
      },
      {
       "output_type": "stream",
       "stream": "stdout",
       "text": [
        "\n",
        "Getting Location of Trondheim, NO, Trondheim, Norway\n",
        "Found Location."
       ]
      },
      {
       "output_type": "stream",
       "stream": "stdout",
       "text": [
        "\n",
        "Getting Location of Institute of Electrodynamics of National Academy of Science, Kyiv, Ukraine\n",
        "Found Location."
       ]
      },
      {
       "output_type": "stream",
       "stream": "stdout",
       "text": [
        "\n",
        "Getting Location of Johannes Kepler University LinzBildungshaus Sankt Magdalena, Linz, Austria\n",
        "Google API Query Limit reached. Waiting... (maybe you should renew your IP)"
       ]
      },
      {
       "output_type": "stream",
       "stream": "stdout",
       "text": [
        "\n",
        "Found Location."
       ]
      },
      {
       "output_type": "stream",
       "stream": "stdout",
       "text": [
        "\n",
        "Getting Location of Hotel Santemar Calle Joaquin Costas 28 Santander 39005 ES, Santander, Spain\n",
        "Found Location."
       ]
      },
      {
       "output_type": "stream",
       "stream": "stdout",
       "text": [
        "\n",
        "Getting Location of Moscone Center, San Francisco, CA, USA\n",
        "Found Location."
       ]
      },
      {
       "output_type": "stream",
       "stream": "stdout",
       "text": [
        "\n",
        "Getting Location of Hyderabad International Convention Centre Cyberabad Post Off, Hyderabad, India\n",
        "Found Location."
       ]
      },
      {
       "output_type": "stream",
       "stream": "stdout",
       "text": [
        "\n",
        "Getting Location of Cultural Center of Askeri Muze (Military Museum) Cumhuriyet, Istanbul, Turkey\n",
        "Found Location."
       ]
      },
      {
       "output_type": "stream",
       "stream": "stdout",
       "text": [
        "\n",
        "Getting Location of La Fonda HotelSanta Fe Convention Center 201 W. Marcy St. Sa, Santa Fe, NM, USA\n",
        "Found Location."
       ]
      },
      {
       "output_type": "stream",
       "stream": "stdout",
       "text": [
        "\n",
        "Getting Location of Melbourne Convention and Exhibition Centre 1 Convention Cent, Melbourne, Australia\n",
        "Found Location."
       ]
      },
      {
       "output_type": "stream",
       "stream": "stdout",
       "text": [
        "\n",
        "Getting Location of Tampa Convention Center, Tampa, FL, USA\n",
        "Found Location."
       ]
      },
      {
       "output_type": "stream",
       "stream": "stdout",
       "text": [
        "\n",
        "Getting Location of Hotel Las Areanas Balneario Resort ES, Valencia, Spain\n",
        "Found Location."
       ]
      },
      {
       "output_type": "stream",
       "stream": "stdout",
       "text": [
        "\n",
        "Getting Location of Hong Kong Convention and Exhibition Center, Hong Kong, China\n",
        "Found Location."
       ]
      },
      {
       "output_type": "stream",
       "stream": "stdout",
       "text": [
        "\n",
        "Getting Location of Hilton Waikoloa Village, Waikoloa, HI, USA\n",
        "\n",
        "Hilton Waikoloa Village, Waikoloa, HI, USA"
       ]
      },
      {
       "output_type": "stream",
       "stream": "stdout",
       "text": [
        "\n",
        "not found! Tryin:\n",
        "Waikoloa, HI, USA\n",
        "Found Location."
       ]
      },
      {
       "output_type": "stream",
       "stream": "stdout",
       "text": [
        "\n",
        "Getting Location of National Military Palace Constantin Mile Street, No .1 Bucha, Bucharest, Romania\n",
        "Found Location."
       ]
      },
      {
       "output_type": "stream",
       "stream": "stdout",
       "text": [
        "\n",
        "Getting Location of University of Sannio Piazza Guerrazzi, 1 BENEVENTO 82100 IT, BENEVENTO, Italy\n",
        "Found Location."
       ]
      },
      {
       "output_type": "stream",
       "stream": "stdout",
       "text": [
        "\n",
        "Getting Location of Royal Mirage Hotel Royal Mirage Hotel. Avenue de la Menara,, Marrakech, Morocco\n",
        "Found Location."
       ]
      },
      {
       "output_type": "stream",
       "stream": "stdout",
       "text": [
        "\n",
        "Getting Location of AMD- Austin Lone Star Campus 7171 Southwest Parkway Austin T, Austin, TX, USA\n",
        "Found Location."
       ]
      },
      {
       "output_type": "stream",
       "stream": "stdout",
       "text": [
        "\n",
        "Getting Location of , Cracow, Poland\n",
        "Found Location."
       ]
      },
      {
       "output_type": "stream",
       "stream": "stdout",
       "text": [
        "\n",
        "Getting Location of Wellness Hotel Horal Velke Karlovice Leskove 583 Velke Karlo, Velke Karlovice, Czech Republic\n",
        "Google API Query Limit reached. Waiting... (maybe you should renew your IP)"
       ]
      },
      {
       "output_type": "stream",
       "stream": "stdout",
       "text": [
        "\n",
        "Found Location."
       ]
      },
      {
       "output_type": "stream",
       "stream": "stdout",
       "text": [
        "\n",
        "Getting Location of Odessa UA, Odessa, Ukraine\n",
        "Found Location."
       ]
      },
      {
       "output_type": "stream",
       "stream": "stdout",
       "text": [
        "\n",
        "Getting Location of Walt Disney World Swan & Dolphin Hotel Orlando FL US, Orlando, FL, USA\n",
        "Found Location."
       ]
      },
      {
       "output_type": "stream",
       "stream": "stdout",
       "text": [
        "\n",
        "Getting Location of Mount Sinai Medical Center One Gustave L. Levy Pl New York N, New York, NY, USA\n",
        "Found Location."
       ]
      },
      {
       "output_type": "stream",
       "stream": "stdout",
       "text": [
        "\n",
        "Getting Location of Omni Shoreham Hotel 2500 Calvert Street NW Washington DC 200, Washington, DC, USA\n",
        "Found Location."
       ]
      },
      {
       "output_type": "stream",
       "stream": "stdout",
       "text": [
        "\n",
        "Getting Location of SOKOS HOTEL VIRU TALLINN EE, TALLINN, Estonia\n",
        "Found Location."
       ]
      },
      {
       "output_type": "stream",
       "stream": "stdout",
       "text": [
        "\n",
        "Getting Location of Walt Disney Swan & Dolphin, Orlando, FL, USA\n",
        "Found Location."
       ]
      },
      {
       "output_type": "stream",
       "stream": "stdout",
       "text": [
        "\n",
        "Getting Location of Wyndham Grand Orlando Resort Bonnet Creek Orlando FL 32821 U, Orlando, FL, USA\n",
        "\n",
        "Wyndham Grand Orlando Resort Bonnet Creek Orlando FL 32821 U, Orlando, FL, USA"
       ]
      },
      {
       "output_type": "stream",
       "stream": "stdout",
       "text": [
        "\n",
        "not found! Tryin:\n",
        "Orlando, FL, USA\n",
        "Found Location."
       ]
      },
      {
       "output_type": "stream",
       "stream": "stdout",
       "text": [
        "\n",
        "Getting Location of Hyatt Regency Chicago 151 E Wacker Dr Chicago IL 60601 US, Chicago, IL, USA\n",
        "Found Location."
       ]
      },
      {
       "output_type": "stream",
       "stream": "stdout",
       "text": [
        "\n",
        "Getting Location of Concern CSRI Elektropribor, JSC, Saint Petersburg, Russia\n",
        "Found Location."
       ]
      },
      {
       "output_type": "stream",
       "stream": "stdout",
       "text": [
        "\n",
        "Getting Location of Nara Prefectural New Public Hall 101 Kasugano-machi Nara 630, Nara, Japan\n",
        "Found Location."
       ]
      },
      {
       "output_type": "stream",
       "stream": "stdout",
       "text": [
        "\n",
        "Getting Location of University Fedral Bahia R. Augusto Viana, s/n - Canela Salv, Salvador, Bahia, Brazil\n",
        "Found Location."
       ]
      },
      {
       "output_type": "stream",
       "stream": "stdout",
       "text": [
        "\n",
        "Getting Location of Heinz-Nixdorf Forum F\u00fcrstenal lee 7 Paderborn 33102 DE, Paderborn, Germany\n",
        "Found Location."
       ]
      },
      {
       "output_type": "stream",
       "stream": "stdout",
       "text": [
        "\n",
        "Getting Location of Hilton La Jolla Torrey Pines 10950 North Torrey Pines Road L, San Diego, CA, USA\n",
        "Found Location."
       ]
      },
      {
       "output_type": "stream",
       "stream": "stdout",
       "text": [
        "\n",
        "Getting Location of Marriott Wardman Park, Washington, DC, USA\n",
        "\n",
        "Marriott Wardman Park, Washington, DC, USA"
       ]
      },
      {
       "output_type": "stream",
       "stream": "stdout",
       "text": [
        "\n",
        "not found! Tryin:\n",
        "Washington, DC, USA\n",
        "Found Location."
       ]
      },
      {
       "output_type": "stream",
       "stream": "stdout",
       "text": [
        "\n",
        "Getting Location of L'Imperial Palace Allee de l'Imperial Annecy 74000 FR, Annecy, France\n",
        "Google API Query Limit reached. Waiting... (maybe you should renew your IP)"
       ]
      },
      {
       "output_type": "stream",
       "stream": "stdout",
       "text": [
        "\n",
        "Found Location."
       ]
      },
      {
       "output_type": "stream",
       "stream": "stdout",
       "text": [
        "\n",
        "Getting Location of University Politehnica of Bucharest Splaiul Independentei 31, Bucharest, Romania\n",
        "Found Location."
       ]
      },
      {
       "output_type": "stream",
       "stream": "stdout",
       "text": [
        "\n",
        "Getting Location of Marriott, Curacao Resort John, Willemstad, Curacao\n",
        "Found Location."
       ]
      },
      {
       "output_type": "stream",
       "stream": "stdout",
       "text": [
        "\n",
        "Getting Location of Chicago Marriott O'Hare 8535 West Higgins Road Chicago IL 60, Chicago, IL, USA\n",
        "Found Location."
       ]
      },
      {
       "output_type": "stream",
       "stream": "stdout",
       "text": [
        "\n",
        "Getting Location of Cheile Gradistei Resort Moeciu de Sus Bran RO, Cheile Gradistei, Romania\n",
        "\n",
        "Cheile Gradistei Resort Moeciu de Sus Bran RO, Cheile Gradistei, Romania"
       ]
      },
      {
       "output_type": "stream",
       "stream": "stdout",
       "text": [
        "\n",
        "not found! Tryin:\n",
        "Cheile Gradistei, Romania\n",
        "Found Location."
       ]
      },
      {
       "output_type": "stream",
       "stream": "stdout",
       "text": [
        "\n",
        "Getting Location of University of Athens Panepistimiopolis, Ilissia Athens 15784, Athens, Greece\n",
        "Found Location."
       ]
      },
      {
       "output_type": "stream",
       "stream": "stdout",
       "text": [
        "\n",
        "Getting Location of Hilton Hawaiian Village 2005 Kalia Road Honolulu HI 96815 US, Honolulu, HI, USA\n",
        "Found Location."
       ]
      },
      {
       "output_type": "stream",
       "stream": "stdout",
       "text": [
        "\n",
        "Getting Location of University of Nevada, Reno Reno NV 89557 US, Reno, NV, USA\n",
        "Found Location."
       ]
      },
      {
       "output_type": "stream",
       "stream": "stdout",
       "text": [
        "\n",
        "Getting Location of National Tsing Hua University, Hsinchu, Taiwan\n",
        "Found Location."
       ]
      },
      {
       "output_type": "stream",
       "stream": "stdout",
       "text": [
        "\n",
        "Getting Location of DoubleTree by HiltonSan Jose 2050 Gateway Place San Hose CA, San Jose, CA, USA\n",
        "Found Location."
       ]
      },
      {
       "output_type": "stream",
       "stream": "stdout",
       "text": [
        "\n",
        "Getting Location of Worthington Renaissance Forth, Fort Worth, TX, USA\n",
        "Found Location."
       ]
      },
      {
       "output_type": "stream",
       "stream": "stdout",
       "text": [
        "\n",
        "Getting Location of TBD TBD Kuala Lumpur TBD MY, Kuala Lumpur, Malaysia\n",
        "Found Location."
       ]
      },
      {
       "output_type": "stream",
       "stream": "stdout",
       "text": [
        "\n",
        "Getting Location of Grand Hyatt Taipei 2, SongShou Road Taipei 11051 TW, Taipei, Taiwan\n",
        "Found Location."
       ]
      },
      {
       "output_type": "stream",
       "stream": "stdout",
       "text": [
        "\n",
        "Getting Location of Cincinnati Marriott at Riverfront/Northern Kentucky Conventi, Cincinnati, OH, USA\n",
        "Found Location."
       ]
      },
      {
       "output_type": "stream",
       "stream": "stdout",
       "text": [
        "\n",
        "Getting Location of Arizona Grand Resort 8000 S. Arizona Grand Parkway Phoenix A, Phoenix, AZ, USA\n",
        "Found Location."
       ]
      },
      {
       "output_type": "stream",
       "stream": "stdout",
       "text": [
        "\n",
        "Getting Location of University of Bremen Bibliothekstr. 1 Bremen 28359 DE, Bremen, Germany\n",
        "Found Location."
       ]
      },
      {
       "output_type": "stream",
       "stream": "stdout",
       "text": [
        "\n",
        "Getting Location of SE, Stockholm, Sweden\n",
        "Found Location."
       ]
      },
      {
       "output_type": "stream",
       "stream": "stdout",
       "text": [
        "\n",
        "Getting Location of Regent Taipei No. 3, Ln. 39, Sec. 2 ZhongShan N. Rd. Taipei, Taipei, Taiwan\n",
        "Found Location."
       ]
      },
      {
       "output_type": "stream",
       "stream": "stdout",
       "text": [
        "\n",
        "Getting Location of the Nines Hotel 525 Southwest, Portland, OR, USA\n",
        "Google API Query Limit reached. Waiting... (maybe you should renew your IP)"
       ]
      },
      {
       "output_type": "stream",
       "stream": "stdout",
       "text": [
        "\n",
        "Found Location."
       ]
      },
      {
       "output_type": "stream",
       "stream": "stdout",
       "text": [
        "\n",
        "Getting Location of Worthington Renaissance Fort Worth Hotel, Fort Worth, TX, USA\n",
        "Found Location."
       ]
      },
      {
       "output_type": "stream",
       "stream": "stdout",
       "text": [
        "\n",
        "Getting Location of Westward Look Wyndham 245 E. Ina Road Tucson AZ 85704 US, Tucson, AZ, USA\n",
        "Found Location."
       ]
      },
      {
       "output_type": "stream",
       "stream": "stdout",
       "text": [
        "\n",
        "Getting Location of Conrad Hilton Seoul KR, Seoul, Korea (South)\n",
        "\n",
        "Conrad Hilton Seoul KR, Seoul, Korea (South)"
       ]
      },
      {
       "output_type": "stream",
       "stream": "stdout",
       "text": [
        "\n",
        "not found! Tryin:\n",
        "Seoul, Korea (South)\n",
        "Found Location."
       ]
      },
      {
       "output_type": "stream",
       "stream": "stdout",
       "text": [
        "\n",
        "Getting Location of International Conference Center Hiroshima 1-5 Nakajima-cho N, Hiroshima, Japan\n",
        "Found Location."
       ]
      },
      {
       "output_type": "stream",
       "stream": "stdout",
       "text": [
        "\n",
        "Getting Location of Fairmont Hotel, San Jose, CA, USA\n",
        "\n",
        "Fairmont Hotel, San Jose, CA, USA"
       ]
      },
      {
       "output_type": "stream",
       "stream": "stdout",
       "text": [
        "\n",
        "not found! Tryin:\n",
        "San Jose, CA, USA\n",
        "Found Location."
       ]
      },
      {
       "output_type": "stream",
       "stream": "stdout",
       "text": [
        "\n",
        "Getting Location of Mingya Hotel Shanghai 500 Gushan Road Pudong District Shang, Shanghai, China\n",
        "Found Location."
       ]
      },
      {
       "output_type": "stream",
       "stream": "stdout",
       "text": [
        "\n",
        "Getting Location of The International Exchange Center Tianjin University of Scie, Tianjin, China\n",
        "Found Location."
       ]
      },
      {
       "output_type": "stream",
       "stream": "stdout",
       "text": [
        "\n",
        "Getting Location of Crowne Plaza Providence- Warwick 801 Greenwich Ave Warwick W, Providence/Warwick, RI, USA\n",
        "Found Location."
       ]
      },
      {
       "output_type": "stream",
       "stream": "stdout",
       "text": [
        "\n",
        "Getting Location of Sima Thani Hotel Nakhon Ratchasima 30000 TH, Nakhon Ratchasima, Thailand\n",
        "Found Location."
       ]
      },
      {
       "output_type": "stream",
       "stream": "stdout",
       "text": [
        "\n",
        "Getting Location of Traditions at the Glen Resort, Johnson City, NY, USA\n",
        "Found Location."
       ]
      },
      {
       "output_type": "stream",
       "stream": "stdout",
       "text": [
        "\n",
        "Getting Location of Aula Foscolo, University of Pavia Strada Nuova, 65 Pavia 27, Pavia, Italy\n",
        "Found Location."
       ]
      },
      {
       "output_type": "stream",
       "stream": "stdout",
       "text": [
        "\n",
        "Getting Location of Hitosubashi Hall National Center of Sciences Chiyoda Tokyo T, Tokyo, Japan\n",
        "Found Location."
       ]
      },
      {
       "output_type": "stream",
       "stream": "stdout",
       "text": [
        "\n",
        "Getting Location of Hotel Croatia Frankopanska ulica Cavtat 20210 HR, Dubrovnik, Croatia\n",
        "Found Location."
       ]
      },
      {
       "output_type": "stream",
       "stream": "stdout",
       "text": [
        "\n",
        "Getting Location of Valamar Lacroma Dubrovnik Hotel Iva Dulcica 34 Dubrovnik 200, Dubrovnik, Croatia\n",
        "Found Location."
       ]
      },
      {
       "output_type": "stream",
       "stream": "stdout",
       "text": [
        "\n",
        "Getting Location of The Penn Stater Conference Center Hotel 215 Innovation Boule, University Park, PA, USA\n",
        "Found Location."
       ]
      },
      {
       "output_type": "stream",
       "stream": "stdout",
       "text": [
        "\n",
        "Getting Location of TBD TBD Potsdam TBD DE, Potsdam, Germany\n",
        "Google API Query Limit reached. Waiting... (maybe you should renew your IP)"
       ]
      },
      {
       "output_type": "stream",
       "stream": "stdout",
       "text": [
        "\n",
        "Found Location."
       ]
      },
      {
       "output_type": "stream",
       "stream": "stdout",
       "text": [
        "\n",
        "Getting Location of Radisson Montevideo - Victoria Plaza Hotel Plaza Independenc, Montevideo, Uruguay\n",
        "Found Location."
       ]
      },
      {
       "output_type": "stream",
       "stream": "stdout",
       "text": [
        "\n",
        "Getting Location of TBD Boston MA US, Boston, MA, USA\n",
        "Found Location."
       ]
      },
      {
       "output_type": "stream",
       "stream": "stdout",
       "text": [
        "\n",
        "Getting Location of Shanghai Jiao Tong University, Shangai, China\n",
        "Found Location."
       ]
      },
      {
       "output_type": "stream",
       "stream": "stdout",
       "text": [
        "\n",
        "Getting Location of Ramada Plaza Jeju Hotel 66 Topdong-ro Jeju City 690-032 KR, Jeju Island, Korea (South)\n",
        "\n",
        "Ramada Plaza Jeju Hotel 66 Topdong-ro Jeju City 690-032 KR, Jeju Island, Korea (South)"
       ]
      },
      {
       "output_type": "stream",
       "stream": "stdout",
       "text": [
        "\n",
        "not found! Tryin:\n",
        "Jeju Island, Korea (South)\n",
        "Found Location."
       ]
      },
      {
       "output_type": "stream",
       "stream": "stdout",
       "text": [
        "\n",
        "Getting Location of Cedar Rapids Marriott Hotel 1200 Collins Road NE Cedar Rapid, Cedar Rapids, IA, USA\n",
        "Found Location."
       ]
      },
      {
       "output_type": "stream",
       "stream": "stdout",
       "text": [
        "\n",
        "Getting Location of Ryerson University 350 Victoria Street Toronto ON M5B 2K3 C, Toronto, ON, Canada\n",
        "Found Location."
       ]
      },
      {
       "output_type": "stream",
       "stream": "stdout",
       "text": [
        "\n",
        "Getting Location of University of Ottawa Ottawa ON CA, Ottawa, ON, Canada\n",
        "Found Location."
       ]
      },
      {
       "output_type": "stream",
       "stream": "stdout",
       "text": [
        "\n",
        "Getting Location of IAS (Institut A\u00e9ronautique et Spatial) 23 Avenue \u00c9douard, Toulouse, France\n",
        "Found Location."
       ]
      },
      {
       "output_type": "stream",
       "stream": "stdout",
       "text": [
        "\n",
        "Getting Location of DoubleTree by Hilton, San Jose, CA, USA\n",
        "Found Location."
       ]
      },
      {
       "output_type": "stream",
       "stream": "stdout",
       "text": [
        "\n",
        "Getting Location of Hyatt Regency Monterey Hotel & Spa 1 Old Golf Course Rd. Mon, Monterey, CA, USA\n",
        "Found Location."
       ]
      },
      {
       "output_type": "stream",
       "stream": "stdout",
       "text": [
        "\n",
        "Getting Location of Park Inn by Radisson Krakow Hotel, Krakow, Poland\n",
        "Found Location."
       ]
      },
      {
       "output_type": "stream",
       "stream": "stdout",
       "text": [
        "\n",
        "Getting Location of TBD, Dresden, Germany\n",
        "Found Location."
       ]
      },
      {
       "output_type": "stream",
       "stream": "stdout",
       "text": [
        "\n",
        "Getting Location of Firenze Fiera - Congress and Exhibition Center, Florence, Italy\n",
        "Found Location."
       ]
      },
      {
       "output_type": "stream",
       "stream": "stdout",
       "text": [
        "\n",
        "Getting Location of Eldorado Hotel & Spa, Santa Fe, NM, USA\n",
        "Found Location."
       ]
      },
      {
       "output_type": "stream",
       "stream": "stdout",
       "text": [
        "\n",
        "Getting Location of Westin San Francisco Market Street 50 Third Street San Franc, San Francisco, CA, USA\n",
        "Found Location."
       ]
      },
      {
       "output_type": "stream",
       "stream": "stdout",
       "text": [
        "\n",
        "Getting Location of Cambridge MA US, Cambridge, MA, USA\n",
        "Google API Query Limit reached. Waiting... (maybe you should renew your IP)"
       ]
      },
      {
       "output_type": "stream",
       "stream": "stdout",
       "text": [
        "\n",
        "Found Location."
       ]
      },
      {
       "output_type": "stream",
       "stream": "stdout",
       "text": [
        "\n",
        "Getting Location of University of Washington Huskey Union Building 4001 NE Steve, Seattle, WA, USA\n",
        "Found Location."
       ]
      },
      {
       "output_type": "stream",
       "stream": "stdout",
       "text": [
        "\n",
        "Getting Location of Renaissance Beijing Capital Hotel, Beijing, China\n",
        "Found Location."
       ]
      },
      {
       "output_type": "stream",
       "stream": "stdout",
       "text": [
        "\n",
        "Getting Location of Lebanese University Campus of Hadath Beirut Beirut LB, Beirut, Lebanon\n",
        "Found Location."
       ]
      },
      {
       "output_type": "stream",
       "stream": "stdout",
       "text": [
        "\n",
        "Getting Location of The Ambassador Hotel 188 Chung Hwa Road, Section 2 Hsinchu 3, Hsinchu, Taiwan\n",
        "Found Location."
       ]
      },
      {
       "output_type": "stream",
       "stream": "stdout",
       "text": [
        "\n",
        "Getting Location of The Ambassador Hotel 188 Chung Hwa Road, Section 2 Hsinchu, Hsinchu, Taiwan\n",
        "Found Location."
       ]
      },
      {
       "output_type": "stream",
       "stream": "stdout",
       "text": [
        "\n",
        "Getting Location of Duy T\u00e2n University (Trng i hc Duy T\u00e2n), Danan, Da Nang, Vietnam\n",
        "Found Location."
       ]
      },
      {
       "output_type": "stream",
       "stream": "stdout",
       "text": [
        "\n",
        "Getting Location of Westin Harbour Castle, Toronto, ON, Canada\n",
        "\n",
        "Westin Harbour Castle, Toronto, ON, Canada"
       ]
      },
      {
       "output_type": "stream",
       "stream": "stdout",
       "text": [
        "\n",
        "not found! Tryin:\n",
        "Toronto, ON, Canada\n",
        "Found Location."
       ]
      },
      {
       "output_type": "stream",
       "stream": "stdout",
       "text": [
        "\n",
        "Getting Location of Kempinski Hotel ShenzhenKempinski Hotel Shenzhen Hai De San, Shenzhen, China\n",
        "Found Location."
       ]
      },
      {
       "output_type": "stream",
       "stream": "stdout",
       "text": [
        "\n",
        "Getting Location of Sapporo JP, Sapporo, Japan\n",
        "Found Location."
       ]
      },
      {
       "output_type": "stream",
       "stream": "stdout",
       "text": [
        "\n",
        "Getting Location of National Taiwan University of, Taipei, Taiwan\n",
        "Found Location."
       ]
      },
      {
       "output_type": "stream",
       "stream": "stdout",
       "text": [
        "\n",
        "Getting Location of National University of Science and Technology (NUST) School, Islamabad, Pakistan\n",
        "Found Location."
       ]
      },
      {
       "output_type": "stream",
       "stream": "stdout",
       "text": [
        "\n",
        "Getting Location of Portola Hotel, Monterey, CA, USA\n",
        "Found Location."
       ]
      },
      {
       "output_type": "stream",
       "stream": "stdout",
       "text": [
        "\n",
        "Getting Location of TBD SG, Singapore, Singapore\n",
        "Found Location."
       ]
      },
      {
       "output_type": "stream",
       "stream": "stdout",
       "text": [
        "\n",
        "Getting Location of Student Union Building Boise State University Boise ID US, Boise, ID, USA\n",
        "Found Location."
       ]
      },
      {
       "output_type": "stream",
       "stream": "stdout",
       "text": [
        "\n",
        "Getting Location of TBD DE, Berlin, Germany\n",
        "Google API Query Limit reached. Waiting... (maybe you should renew your IP)"
       ]
      },
      {
       "output_type": "stream",
       "stream": "stdout",
       "text": [
        "\n",
        "Found Location."
       ]
      },
      {
       "output_type": "stream",
       "stream": "stdout",
       "text": [
        "\n",
        "Getting Location of , Tallinn, Estonia\n",
        "Found Location."
       ]
      },
      {
       "output_type": "stream",
       "stream": "stdout",
       "text": [
        "\n",
        "Getting Location of McCormick Place, Chicago, IL, USA\n",
        "Found Location."
       ]
      },
      {
       "output_type": "stream",
       "stream": "stdout",
       "text": [
        "\n",
        "Getting Location of TBD TBD TBD TBD TBD Kuala Lumpur MY, Kuala Lumpur, Malaysia\n",
        "Found Location."
       ]
      },
      {
       "output_type": "stream",
       "stream": "stdout",
       "text": [
        "\n",
        "Getting Location of Crown Plaza Hotel Hamra Street Beirut LB, Beirut, Lebanon\n",
        "Found Location."
       ]
      },
      {
       "output_type": "stream",
       "stream": "stdout",
       "text": [
        "\n",
        "Getting Location of Silverado Resort and Spa 1600, Napa, CA, USA\n",
        "Found Location."
       ]
      },
      {
       "output_type": "stream",
       "stream": "stdout",
       "text": [
        "\n",
        "Getting Location of Hyatt Regency Waikiki Beach Resort and Spa Waikiki Beach HI, Waikiki Beach, HI, USA\n",
        "Found Location."
       ]
      },
      {
       "output_type": "stream",
       "stream": "stdout",
       "text": [
        "\n",
        "Getting Location of GRAND HYATT TAMPA BAY 2900 Bayport Drive Tampa FL 33607 US, Tampa, FL, USA\n",
        "Found Location."
       ]
      },
      {
       "output_type": "stream",
       "stream": "stdout",
       "text": [
        "\n",
        "Getting Location of Gaylord National Resort and Conference Center, National Harbor, MD, USA\n",
        "Found Location."
       ]
      },
      {
       "output_type": "stream",
       "stream": "stdout",
       "text": [
        "\n",
        "Getting Location of AGH University of Science and, Krakow, Poland\n",
        "Found Location."
       ]
      },
      {
       "output_type": "stream",
       "stream": "stdout",
       "text": [
        "\n",
        "Getting Location of Chung Yuan Christian University 200, Chung Pei Rd, Chung Li, Chung Li, Taiwan\n",
        "\n",
        "Chung Yuan Christian University 200, Chung Pei Rd, Chung Li, Chung Li, Taiwan"
       ]
      },
      {
       "output_type": "stream",
       "stream": "stdout",
       "text": [
        "\n",
        "not found! Tryin:\n",
        "Chung Li, Taiwan\n",
        "Found Location."
       ]
      },
      {
       "output_type": "stream",
       "stream": "stdout",
       "text": [
        "\n",
        "Getting Location of Washington, DC DC US, Washington, DC, DC, USA\n",
        "Found Location."
       ]
      },
      {
       "output_type": "stream",
       "stream": "stdout",
       "text": [
        "\n",
        "Getting Location of Orange County Convention Center 9990 International Drive Orl, Orlando, FL, USA\n",
        "Found Location."
       ]
      },
      {
       "output_type": "stream",
       "stream": "stdout",
       "text": [
        "\n",
        "Getting Location of Midland Hotel Peter Street Manchester M60 2DS GB, Manchester, United Kingdom\n",
        "Found Location."
       ]
      },
      {
       "output_type": "stream",
       "stream": "stdout",
       "text": [
        "\n",
        "Getting Location of TBD, Taipei, Taiwan\n",
        "Found Location."
       ]
      },
      {
       "output_type": "stream",
       "stream": "stdout",
       "text": [
        "\n",
        "Getting Location of VIBE Hotel North Sydney 88 Alfred St Milsons Point Sydney N, Sydney, Australia\n",
        "Found Location."
       ]
      },
      {
       "output_type": "stream",
       "stream": "stdout",
       "text": [
        "\n",
        "Getting Location of Hard Rock Hotel, Penang, Malaysia\n",
        "\n",
        "Hard Rock Hotel, Penang, Malaysia"
       ]
      },
      {
       "output_type": "stream",
       "stream": "stdout",
       "text": [
        "\n",
        "not found! Tryin:\n",
        "Penang, Malaysia\n",
        "Found Location."
       ]
      },
      {
       "output_type": "stream",
       "stream": "stdout",
       "text": [
        "\n",
        "Getting Location of Istanbul Congress Center, Istanbul, Turkey\n",
        "Found Location."
       ]
      },
      {
       "output_type": "stream",
       "stream": "stdout",
       "text": [
        "\n",
        "Getting Location of Westin Washington Dulles 2520, Herndon, VA, USA\n",
        "Google API Query Limit reached. Waiting... (maybe you should renew your IP)"
       ]
      },
      {
       "output_type": "stream",
       "stream": "stdout",
       "text": [
        "\n",
        "Found Location."
       ]
      },
      {
       "output_type": "stream",
       "stream": "stdout",
       "text": [
        "\n",
        "Getting Location of SHERATON MIAMI AIRPORT HOTEL & EXECUTIVE MEETING CENTER 3900, Miami, FL, USA\n",
        "Found Location."
       ]
      },
      {
       "output_type": "stream",
       "stream": "stdout",
       "text": [
        "\n",
        "Getting Location of World Forum Churchillplein 10, The Hague, Netherlands\n",
        "Found Location."
       ]
      },
      {
       "output_type": "stream",
       "stream": "stdout",
       "text": [
        "\n",
        "Getting Location of Omni Corpus Christi Hotel 900, Corpus Christi, TX, USA\n",
        "Found Location."
       ]
      },
      {
       "output_type": "stream",
       "stream": "stdout",
       "text": [
        "\n",
        "Getting Location of Hotel Kohinoor Continental Sakinaka, Near International Saha, Mumbai, India\n",
        "Found Location."
       ]
      },
      {
       "output_type": "stream",
       "stream": "stdout",
       "text": [
        "\n",
        "Getting Location of Military Museum and Cultural Center Harbiye Istanbul TR, Istanbul, Turkey\n",
        "Found Location."
       ]
      },
      {
       "output_type": "stream",
       "stream": "stdout",
       "text": [
        "\n",
        "Getting Location of Digital Library Conference Hall. Department of Electronics a, Chennai, India\n",
        "Found Location."
       ]
      },
      {
       "output_type": "stream",
       "stream": "stdout",
       "text": [
        "\n",
        "Getting Location of Omni Corpus Christi Hotel 900, Corpus Christi, TX, USA\n",
        "Found Location."
       ]
      },
      {
       "output_type": "stream",
       "stream": "stdout",
       "text": [
        "\n",
        "Getting Location of TBD TBD Leuven TBD BE, Leuven, Belgium\n",
        "Found Location."
       ]
      },
      {
       "output_type": "stream",
       "stream": "stdout",
       "text": [
        "\n",
        "Getting Location of Novotel Cannes Montfleury Cannes FR, Cannes, France\n",
        "Found Location."
       ]
      },
      {
       "output_type": "stream",
       "stream": "stdout",
       "text": [
        "\n",
        "Getting Location of Hilton McLean Tyson's COrner 7920 Jones Branch Dr. McLean VA, Tyson's Corner, VA, USA\n",
        "Found Location."
       ]
      },
      {
       "output_type": "stream",
       "stream": "stdout",
       "text": [
        "\n",
        "Getting Location of Fairmont Chateau Laurier 1 Rideau St Ottawa ON K1N 8S7 CA, Ottawa, ON, Canada\n",
        "Found Location."
       ]
      },
      {
       "output_type": "stream",
       "stream": "stdout",
       "text": [
        "\n",
        "Getting Location of Imperial College London South, London, United Kingdom\n",
        "Found Location."
       ]
      },
      {
       "output_type": "stream",
       "stream": "stdout",
       "text": [
        "\n",
        "Getting Location of Holiday Inn Chicago Mart Plaza Hotel 350 West Mart Center Dr, Chicago, IL, USA\n",
        "Found Location."
       ]
      },
      {
       "output_type": "stream",
       "stream": "stdout",
       "text": [
        "\n",
        "Getting Location of Tivoli Hotel & Congress Center Arni Magnussons Gade 2 Copenh, Copenhagen, Denmark\n",
        "Found Location."
       ]
      },
      {
       "output_type": "stream",
       "stream": "stdout",
       "text": [
        "\n",
        "Getting Location of IntercontinentalMarriott Downtown 540 North Michigan Avenue, Chicago, IL, USA\n",
        "Found Location."
       ]
      },
      {
       "output_type": "stream",
       "stream": "stdout",
       "text": [
        "\n",
        "Getting Location of University of Strathclyde 204, Glasgow, United Kingdom\n",
        "Found Location."
       ]
      },
      {
       "output_type": "stream",
       "stream": "stdout",
       "text": [
        "\n",
        "Getting Location of Zayed University Dubai AE, Dubai, United Arab Emirates\n",
        "Google API Query Limit reached. Waiting... (maybe you should renew your IP)"
       ]
      },
      {
       "output_type": "stream",
       "stream": "stdout",
       "text": [
        "\n",
        "Found Location."
       ]
      },
      {
       "output_type": "stream",
       "stream": "stdout",
       "text": [
        "\n",
        "Getting Location of Westin Long Beach 333 East Ocean Boulevard Long Beach CA 908, Long Beach, CA, USA\n",
        "Found Location."
       ]
      },
      {
       "output_type": "stream",
       "stream": "stdout",
       "text": [
        "\n",
        "Getting Location of Graves 601 Hotel Minneapolis 601 N 1st Ave  Minneapolis MN, Minneapolis, MN, USA\n",
        "Found Location."
       ]
      },
      {
       "output_type": "stream",
       "stream": "stdout",
       "text": [
        "\n",
        "Getting Location of Bank of America Merrill Lynch Canary Wharf, London, United Kingdom\n",
        "Found Location."
       ]
      },
      {
       "output_type": "stream",
       "stream": "stdout",
       "text": [
        "\n",
        "Getting Location of Charit\u00e9 Berlin Charit\u00e9 Campu s Virchow-Klinikum Augustenb, Berlin, Germany\n",
        "Found Location."
       ]
      },
      {
       "output_type": "stream",
       "stream": "stdout",
       "text": [
        "\n",
        "Getting Location of Snowbird Ski and Summer Resort P.O. Box 929000 Snowbird UT 8, Snowbird, UT, USA\n",
        "Found Location."
       ]
      },
      {
       "output_type": "stream",
       "stream": "stdout",
       "text": [
        "\n",
        "Getting Location of TBD TBD hammamet TBD TN, Hammamet, Tunisia\n",
        "Found Location."
       ]
      },
      {
       "output_type": "stream",
       "stream": "stdout",
       "text": [
        "\n",
        "Getting Location of ISECS Route Menzel Chaker Km 0.5 Sfax B.P. n\u00b0 868 TN, Sfax, Tunisia\n",
        "Found Location."
       ]
      },
      {
       "output_type": "stream",
       "stream": "stdout",
       "text": [
        "\n",
        "Getting Location of TBD Udine 33100 IT, Udine, Italy\n",
        "Found Location."
       ]
      },
      {
       "output_type": "stream",
       "stream": "stdout",
       "text": [
        "\n",
        "Getting Location of Bayview Hotel Langkawi Jalan Pandak Mayah 1 07000 Kuah Langk, Langkawi, Malaysia\n",
        "Found Location."
       ]
      },
      {
       "output_type": "stream",
       "stream": "stdout",
       "text": [
        "\n",
        "Getting Location of Thermal Hotel Aquincum ZRT 1036 Budapest Arpad Fejdelem Utja, Budapest, Hungary\n",
        "Found Location."
       ]
      },
      {
       "output_type": "stream",
       "stream": "stdout",
       "text": [
        "\n",
        "Getting Location of California Institue of Technology 263 S Chester Ave Pasadena, Pasadena, CA, USA\n",
        "Found Location."
       ]
      },
      {
       "output_type": "stream",
       "stream": "stdout",
       "text": [
        "\n",
        "Getting Location of Sheraton Steamboat Springs Colorado 2200 Village Inn Court S, Steamboat Springs, CO, USA\n",
        "Found Location."
       ]
      },
      {
       "output_type": "stream",
       "stream": "stdout",
       "text": [
        "\n",
        "Getting Location of Convention center in X'ian TBD X'ian TBD CN, X'ian, China\n",
        "Found Location."
       ]
      },
      {
       "output_type": "stream",
       "stream": "stdout",
       "text": [
        "\n",
        "Getting Location of TBD TBD TBD TBD TBD TBD CA TBD US, , CA, USA\n",
        "Found Location."
       ]
      },
      {
       "output_type": "stream",
       "stream": "stdout",
       "text": [
        "\n",
        "Getting Location of Hyatt Regency Jacksonville Riverfront Jacksonville FL 32202, Jacksonville, FL, USA\n",
        "Found Location."
       ]
      },
      {
       "output_type": "stream",
       "stream": "stdout",
       "text": [
        "\n",
        "Getting Location of Noorul Islam Centre for Higher Education Department of Elect, Nagercoil, India\n",
        "Google API Query Limit reached. Waiting... (maybe you should renew your IP)"
       ]
      },
      {
       "output_type": "stream",
       "stream": "stdout",
       "text": [
        "\n",
        "Found Location."
       ]
      },
      {
       "output_type": "stream",
       "stream": "stdout",
       "text": [
        "\n",
        "Getting Location of TBD TBD TBD TBD TBD Pattaya City TH, Pattaya City, Thailand\n",
        "Found Location."
       ]
      },
      {
       "output_type": "stream",
       "stream": "stdout",
       "text": [
        "\n",
        "Getting Location of Montien Hotel Pattaya 369 Moo, Pattaya, Thailand\n",
        "Found Location."
       ]
      },
      {
       "output_type": "stream",
       "stream": "stdout",
       "text": [
        "\n",
        "Getting Location of Princeton University Friend Center Princeton NJ 08544 US, Princeton, NJ, USA\n",
        "Found Location."
       ]
      },
      {
       "output_type": "stream",
       "stream": "stdout",
       "text": [
        "\n",
        "Getting Location of SANA Metropolitan Hotel Rua Soeiro Pereira Gomes - Parcela 2, Coimbra, Portugal\n",
        "Found Location."
       ]
      },
      {
       "output_type": "stream",
       "stream": "stdout",
       "text": [
        "\n",
        "Getting Location of Fort Worth Convention Center, Fort Worth, TX, USA\n",
        "\n",
        "Fort Worth Convention Center, Fort Worth, TX, USA"
       ]
      },
      {
       "output_type": "stream",
       "stream": "stdout",
       "text": [
        "\n",
        "not found! Tryin:\n",
        "Fort Worth, TX, USA\n",
        "Found Location."
       ]
      },
      {
       "output_type": "stream",
       "stream": "stdout",
       "text": [
        "\n",
        "Getting Location of Keio University 4-1-1 Hiyoshi, Kohoku Yokohama 223-8521 JP, Yokohama, Japan\n",
        "Found Location."
       ]
      },
      {
       "output_type": "stream",
       "stream": "stdout",
       "text": [
        "\n",
        "Getting Location of The College of New Jersey 2000 Pennington, Road Ewing NJ 086, Ewing, NJ, USA\n",
        "Found Location."
       ]
      },
      {
       "output_type": "stream",
       "stream": "stdout",
       "text": [
        "\n",
        "Getting Location of Amrita School of Engineering #26 & 27, Kasavanahalli, Carmel, Bangalore, India\n",
        "Found Location."
       ]
      },
      {
       "output_type": "stream",
       "stream": "stdout",
       "text": [
        "\n",
        "Getting Location of Marriott Hotel, Lexington, KY, USA\n",
        "Found Location."
       ]
      },
      {
       "output_type": "stream",
       "stream": "stdout",
       "text": [
        "\n",
        "Getting Location of Doubletree Hotel 2050 Gateway, San Jose, CA, USA\n",
        "Found Location."
       ]
      },
      {
       "output_type": "stream",
       "stream": "stdout",
       "text": [
        "\n",
        "Getting Location of Friend Center Olden and William Streets Princeton NJ 08540 U, Princeton, NJ, USA\n",
        "Found Location."
       ]
      },
      {
       "output_type": "stream",
       "stream": "stdout",
       "text": [
        "\n",
        "Getting Location of Hotel Green Park Sri Venkateswara College of Engineering P B, Chennai, India\n",
        "Found Location."
       ]
      },
      {
       "output_type": "stream",
       "stream": "stdout",
       "text": [
        "\n",
        "Getting Location of COEX 159 Samsung-dong Gangnam-gu Seoul 135-731 KR, Seoul, Korea (South)\n",
        "\n",
        "COEX 159 Samsung-dong Gangnam-gu Seoul 135-731 KR, Seoul, Korea (South)"
       ]
      },
      {
       "output_type": "stream",
       "stream": "stdout",
       "text": [
        "\n",
        "not found! Tryin:\n",
        "Seoul, Korea (South)\n",
        "Found Location."
       ]
      },
      {
       "output_type": "stream",
       "stream": "stdout",
       "text": [
        "\n",
        "Getting Location of University Institute of Engineering & Tehnology Panjab Unive, Chandigarh, India\n",
        "Found Location."
       ]
      },
      {
       "output_type": "stream",
       "stream": "stdout",
       "text": [
        "\n",
        "Getting Location of KARUNYA UNIVERSITY,DEPARTMENT, Coimbatore, India\n",
        "Found Location."
       ]
      },
      {
       "output_type": "stream",
       "stream": "stdout",
       "text": [
        "\n",
        "Getting Location of Bharati Vidyapeeth's Institute of Computer Applications and, New Delhi, India\n",
        "Google API Query Limit reached. Waiting... (maybe you should renew your IP)"
       ]
      },
      {
       "output_type": "stream",
       "stream": "stdout",
       "text": [
        "\n",
        "Found Location."
       ]
      },
      {
       "output_type": "stream",
       "stream": "stdout",
       "text": [
        "\n",
        "Getting Location of Raiosha Hiyoshi Campus Keio University 4-1-1 Hiyoshi Kohoku-, Yokohama, Japan\n",
        "Found Location."
       ]
      },
      {
       "output_type": "stream",
       "stream": "stdout",
       "text": [
        "\n",
        "Getting Location of Four Seasons by Sheraton Darling Harbour Sydney NSW2000 AU, Sydney, Australia\n",
        "Found Location."
       ]
      },
      {
       "output_type": "stream",
       "stream": "stdout",
       "text": [
        "\n",
        "Getting Location of Hyatt Regency Hotel/Telus Convention Centre, Calgary, AB, Canada\n",
        "Found Location."
       ]
      },
      {
       "output_type": "stream",
       "stream": "stdout",
       "text": [
        "\n",
        "Getting Location of David Intercontinental Hotel 12 Kaufman St. Tel-Aviv 61501 I, Tel Aviv, Israel\n",
        "Found Location."
       ]
      },
      {
       "output_type": "stream",
       "stream": "stdout",
       "text": [
        "\n",
        "Getting Location of Riverwalk Plaza Hotel & Suites 100 Villita Street at Dwyer/M, San Antonio, TX, USA\n",
        "Found Location."
       ]
      },
      {
       "output_type": "stream",
       "stream": "stdout",
       "text": [
        "\n",
        "Getting Location of ESEO Angers 10 Boulevard Jeanneteau - CS 90717 Angers Cedex, Angers, France\n",
        "Found Location."
       ]
      },
      {
       "output_type": "stream",
       "stream": "stdout",
       "text": [
        "\n",
        "Getting Location of Maulana Azad National Institute of Technology Bhopal 462003, Bhopal, India\n",
        "Found Location."
       ]
      },
      {
       "output_type": "stream",
       "stream": "stdout",
       "text": [
        "\n",
        "Getting Location of GLA University 17 KM Stone, NH#2, Mathura-Delhi Road,  Po, Mathura, India\n",
        "Found Location."
       ]
      },
      {
       "output_type": "stream",
       "stream": "stdout",
       "text": [
        "\n",
        "Getting Location of Big Sky Resort Conference Center P.O. Box 160001 1 Lone Moun, Big Sky, MT, USA\n",
        "Found Location."
       ]
      },
      {
       "output_type": "stream",
       "stream": "stdout",
       "text": [
        "\n",
        "Getting Location of Indian Institute of Technology Kanpur Uttar Pradesh Kanpur 2, Kanpur, Uttar Pradesh, India\n",
        "Found Location."
       ]
      },
      {
       "output_type": "stream",
       "stream": "stdout",
       "text": [
        "\n",
        "Getting Location of Indian Institute of Technology Kharagpur Kharagpur, West Ben, Kharagpur, West Bengal, India\n",
        "Found Location."
       ]
      },
      {
       "output_type": "stream",
       "stream": "stdout",
       "text": [
        "\n",
        "Getting Location of S.A.ENGINEERING COLLEGE POONAMALLEE-AVADI ROAD THIRUVERKADU, Chennai, India\n",
        "Found Location."
       ]
      },
      {
       "output_type": "stream",
       "stream": "stdout",
       "text": [
        "\n",
        "Getting Location of Technische Universitat Munchen Arcisstrasse 21 Munich 80333, Munich, Germany\n",
        "Found Location."
       ]
      },
      {
       "output_type": "stream",
       "stream": "stdout",
       "text": [
        "\n",
        "Getting Location of Universidad de las Am\u00e9ricas P uebla Auditorium Ex Hacienda, Cholula, Puebla., Mexico\n",
        "Found Location."
       ]
      },
      {
       "output_type": "stream",
       "stream": "stdout",
       "text": [
        "\n",
        "Getting Location of Polytechnic of Porto - School, Porto, Portugal\n",
        "Found Location."
       ]
      },
      {
       "output_type": "stream",
       "stream": "stdout",
       "text": [
        "\n",
        "Getting Location of Maritim Hotel N\u00fcrnberg Frauen torgarben 11 N\u00fcrnberg 90443, Nuremberg, Germany\n",
        "Found Location."
       ]
      },
      {
       "output_type": "stream",
       "stream": "stdout",
       "text": [
        "\n",
        "Getting Location of Surf & Sand Resort 1555 South, Laguna Beach, CA, USA\n",
        "Google API Query Limit reached. Waiting... (maybe you should renew your IP)"
       ]
      },
      {
       "output_type": "stream",
       "stream": "stdout",
       "text": [
        "\n",
        "Found Location."
       ]
      },
      {
       "output_type": "stream",
       "stream": "stdout",
       "text": [
        "\n",
        "Getting Location of TBD TBD Houston TX TBD US, Houston, TX, USA\n",
        "Found Location."
       ]
      },
      {
       "output_type": "stream",
       "stream": "stdout",
       "text": [
        "\n",
        "Getting Location of ITM University Gurgaon 122017, Gurgaon, New Delhi, India\n",
        "Found Location."
       ]
      },
      {
       "output_type": "stream",
       "stream": "stdout",
       "text": [
        "\n",
        "Getting Location of Dept. of ECE, ASET, Amity University Sector 125 Noida Noida, Noida, Delhi-NCR, India\n",
        "Found Location."
       ]
      },
      {
       "output_type": "stream",
       "stream": "stdout",
       "text": [
        "\n",
        "Getting Location of Rydges Lakeland Resort 38/54 Lake Esplanade Queenstown 9300, Queenstown, New Zealand\n",
        "Found Location."
       ]
      },
      {
       "output_type": "stream",
       "stream": "stdout",
       "text": [
        "\n",
        "Getting Location of Grand Hyatt 1000 H Street, NW, Washington, DC, USA\n",
        "Found Location."
       ]
      },
      {
       "output_type": "stream",
       "stream": "stdout",
       "text": [
        "\n",
        "Getting Location of Texas A&M University at Qatar, Doha, Qatar\n",
        "Found Location."
       ]
      },
      {
       "output_type": "stream",
       "stream": "stdout",
       "text": [
        "\n",
        "Getting Location of High 1 Resort High1-gil Sabuk-eup Jeongsun-kun Gangwon provi, Gangwon Province, Korea (South)\n",
        "\n",
        "High 1 Resort High1-gil Sabuk-eup Jeongsun-kun Gangwon provi, Gangwon Province, Korea (South)"
       ]
      },
      {
       "output_type": "stream",
       "stream": "stdout",
       "text": [
        "\n",
        "not found! Tryin:\n",
        "Gangwon Province, Korea (South)\n",
        "Found Location."
       ]
      },
      {
       "output_type": "stream",
       "stream": "stdout",
       "text": [
        "\n",
        "Getting Location of Amrita University Carmelaram, Bangalore, India\n",
        "Found Location."
       ]
      },
      {
       "output_type": "stream",
       "stream": "stdout",
       "text": [
        "\n",
        "Getting Location of Phoenix Park 1095 Myunon-ri, Pyeong Chang, Korea (South)\n",
        "Found Location."
       ]
      },
      {
       "output_type": "stream",
       "stream": "stdout",
       "text": [
        "\n",
        "Getting Location of TBD FL US, Orlando, FL, USA\n",
        "Found Location."
       ]
      },
      {
       "output_type": "stream",
       "stream": "stdout",
       "text": [
        "\n",
        "Getting Location of TBD TBD TBD TBD TBD Orlando FL TBD US, Orlando, FL, USA\n",
        "Found Location."
       ]
      },
      {
       "output_type": "stream",
       "stream": "stdout",
       "text": [
        "\n",
        "Getting Location of Karpagam College Engineering Department of Electronics and C, Coimbatore, India\n",
        "Found Location."
       ]
      },
      {
       "output_type": "stream",
       "stream": "stdout",
       "text": [
        "\n",
        "Getting Location of Escola d'Enginyeria de Telecomunicaci\u00f3 i Aeroespacial de Ca, Castelldefels-Barcelona, Spain\n",
        "Found Location."
       ]
      },
      {
       "output_type": "stream",
       "stream": "stdout",
       "text": [
        "\n",
        "Getting Location of Phuket TH, Phuket, Thailand\n",
        "Found Location."
       ]
      },
      {
       "output_type": "stream",
       "stream": "stdout",
       "text": [
        "\n",
        "Getting Location of San Francisco Marriott, San Francisco, CA, USA\n",
        "\n",
        "San Francisco Marriott, San Francisco, CA, USA"
       ]
      },
      {
       "output_type": "stream",
       "stream": "stdout",
       "text": [
        "\n",
        "not found! Tryin:\n",
        "San Francisco, CA, USA\n",
        "Found Location."
       ]
      },
      {
       "output_type": "stream",
       "stream": "stdout",
       "text": [
        "\n",
        "Getting Location of Krishna Institute of Engineering and Technology NH-58 Delhi, Ghaziabad, India\n",
        "Google API Query Limit reached. Waiting... (maybe you should renew your IP)"
       ]
      },
      {
       "output_type": "stream",
       "stream": "stdout",
       "text": [
        "\n",
        "Found Location."
       ]
      },
      {
       "output_type": "stream",
       "stream": "stdout",
       "text": [
        "\n",
        "Getting Location of Manav Rachna International Univerisiity Faridabad- Surajkund, Faridabad, NCR, India\n",
        "\n",
        "Manav Rachna International Univerisiity Faridabad- Surajkund, Faridabad, NCR, India"
       ]
      },
      {
       "output_type": "stream",
       "stream": "stdout",
       "text": [
        "\n",
        "not found! Tryin:\n",
        "Faridabad, NCR, India\n",
        "Found Location."
       ]
      },
      {
       "output_type": "stream",
       "stream": "stdout",
       "text": [
        "\n",
        "Getting Location of IRIB Int'l. Conference Center. (IICC) IRIB Int'l. Conference, Tehran, Iran\n",
        "Found Location."
       ]
      },
      {
       "output_type": "stream",
       "stream": "stdout",
       "text": [
        "\n",
        "Getting Location of Secretariat of the Iranian Conference on Intelligent Systems, Bam, Iran\n",
        "Found Location."
       ]
      },
      {
       "output_type": "stream",
       "stream": "stdout",
       "text": [
        "\n",
        "Getting Location of The Sheraton San Diego Hotel & Marina, San Diego, CA, USA\n",
        "Found Location."
       ]
      },
      {
       "output_type": "stream",
       "stream": "stdout",
       "text": [
        "\n",
        "Getting Location of Hilton Hawaiian Village - Waikiki Beach Resort 2005 Kalia ro, Honolulu, HI, USA\n",
        "Found Location."
       ]
      },
      {
       "output_type": "stream",
       "stream": "stdout",
       "text": [
        "\n",
        "Getting Location of St.Petersburg Electrotechnical University \"LETI\" 5 Prof.Popo, St.Petersburg, Russia\n",
        "Found Location."
       ]
      },
      {
       "output_type": "stream",
       "stream": "stdout",
       "text": [
        "\n",
        "Getting Location of Maquarie University Balaclava, Sydney, Australia\n",
        "Found Location."
       ]
      },
      {
       "output_type": "stream",
       "stream": "stdout",
       "text": [
        "\n",
        "Getting Location of Adelaide Convention Centre North Terrace,  South Australia, Adelaide, Australia\n",
        "Found Location."
       ]
      },
      {
       "output_type": "stream",
       "stream": "stdout",
       "text": [
        "\n",
        "Getting Location of Academy of Technology, G.T. Road (Adisaptagram), P.O. AEDCON, Hooghly, West Bengal, India\n",
        "Found Location."
       ]
      },
      {
       "output_type": "stream",
       "stream": "stdout",
       "text": [
        "\n",
        "Getting Location of Technology Campus, University, Calcuttta, India\n",
        "Found Location."
       ]
      },
      {
       "output_type": "stream",
       "stream": "stdout",
       "text": [
        "\n",
        "Getting Location of Faculty of Informatics, Burapha University Chonburi 20131 TH, Chonburi, Thailand\n",
        "Found Location."
       ]
      },
      {
       "output_type": "stream",
       "stream": "stdout",
       "text": [
        "\n",
        "Getting Location of Broadmoor Hotel, Colorado Springs, CO, USA\n",
        "Found Location."
       ]
      },
      {
       "output_type": "stream",
       "stream": "stdout",
       "text": [
        "\n",
        "Getting Location of Hyatt Regency San Francisco, San Francisco, CA, USA\n",
        "\n",
        "Hyatt Regency San Francisco, San Francisco, CA, USA"
       ]
      },
      {
       "output_type": "stream",
       "stream": "stdout",
       "text": [
        "\n",
        "not found! Tryin:\n",
        "San Francisco, CA, USA\n",
        "Found Location."
       ]
      },
      {
       "output_type": "stream",
       "stream": "stdout",
       "text": [
        "\n",
        "Getting Location of Kathir College of Engineering, Coimbatore, India\n",
        "Found Location."
       ]
      },
      {
       "output_type": "stream",
       "stream": "stdout",
       "text": [
        "\n",
        "Getting Location of Manipal Institute of Technology MANIPAL - 576104 MANIPAL 576, Manipal, India\n",
        "Google API Query Limit reached. Waiting... (maybe you should renew your IP)"
       ]
      },
      {
       "output_type": "stream",
       "stream": "stdout",
       "text": [
        "\n",
        "Found Location."
       ]
      },
      {
       "output_type": "stream",
       "stream": "stdout",
       "text": [
        "\n",
        "Getting Location of El Mouradi Club Port el Kantaoui Sousse TN, Sousse, Tunisia\n",
        "\n",
        "El Mouradi Club Port el Kantaoui Sousse TN, Sousse, Tunisia"
       ]
      },
      {
       "output_type": "stream",
       "stream": "stdout",
       "text": [
        "\n",
        "not found! Tryin:\n",
        "Sousse, Tunisia\n",
        "Found Location."
       ]
      },
      {
       "output_type": "stream",
       "stream": "stdout",
       "text": [
        "\n",
        "Getting Location of Suntec Singapore Convention &, Singapore, Singapore\n",
        "Found Location."
       ]
      },
      {
       "output_type": "stream",
       "stream": "stdout",
       "text": [
        "\n",
        "Getting Location of Marriott Newport Beach, Newport Beach, CA, USA\n",
        "\n",
        "Marriott Newport Beach, Newport Beach, CA, USA"
       ]
      },
      {
       "output_type": "stream",
       "stream": "stdout",
       "text": [
        "\n",
        "not found! Tryin:\n",
        "Newport Beach, CA, USA\n",
        "Found Location."
       ]
      },
      {
       "output_type": "stream",
       "stream": "stdout",
       "text": [
        "\n",
        "Getting Location of Marriott Newport Beach, Newport Beach, CA, USA\n",
        "\n",
        "Marriott Newport Beach, Newport Beach, CA, USA"
       ]
      },
      {
       "output_type": "stream",
       "stream": "stdout",
       "text": [
        "\n",
        "not found! Tryin:\n",
        "Newport Beach, CA, USA\n",
        "Found Location."
       ]
      },
      {
       "output_type": "stream",
       "stream": "stdout",
       "text": [
        "\n",
        "Getting Location of Marriott Newport Beach, Newport Beach, CA, USA\n",
        "\n",
        "Marriott Newport Beach, Newport Beach, CA, USA"
       ]
      },
      {
       "output_type": "stream",
       "stream": "stdout",
       "text": [
        "\n",
        "not found! Tryin:\n",
        "Newport Beach, CA, USA\n",
        "Found Location."
       ]
      },
      {
       "output_type": "stream",
       "stream": "stdout",
       "text": [
        "\n",
        "Getting Location of Marriott Newport Beach, Newport Beach, CA, USA\n",
        "\n",
        "Marriott Newport Beach, Newport Beach, CA, USA"
       ]
      },
      {
       "output_type": "stream",
       "stream": "stdout",
       "text": [
        "\n",
        "not found! Tryin:\n",
        "Newport Beach, CA, USA\n",
        "Found Location."
       ]
      },
      {
       "output_type": "stream",
       "stream": "stdout",
       "text": [
        "\n",
        "Getting Location of Marriott Newport Beach 900 Newport Center Drive \u00b7 Newport B, Newport Beach, CA, USA\n",
        "Found Location."
       ]
      },
      {
       "output_type": "stream",
       "stream": "stdout",
       "text": [
        "\n",
        "Getting Location of El Mouradi Palace Sousse TN, Sousse, Tunisia\n",
        "\n",
        "El Mouradi Palace Sousse TN, Sousse, Tunisia"
       ]
      },
      {
       "output_type": "stream",
       "stream": "stdout",
       "text": [
        "\n",
        "not found! Tryin:\n",
        "Sousse, Tunisia\n",
        "Found Location."
       ]
      },
      {
       "output_type": "stream",
       "stream": "stdout",
       "text": [
        "\n",
        "Getting Location of Chatrium Hotel Riverside Bangkok TH, Bangkok, Thailand\n",
        "\n",
        "Chatrium Hotel Riverside Bangkok TH, Bangkok, Thailand"
       ]
      },
      {
       "output_type": "stream",
       "stream": "stdout",
       "text": [
        "\n",
        "not found! Tryin:\n",
        "Bangkok, Thailand\n",
        "Found Location."
       ]
      },
      {
       "output_type": "stream",
       "stream": "stdout",
       "text": [
        "\n",
        "Getting Location of Islamabad Islamabad 44000 PK, Islamabad, Pakistan\n",
        "Found Location."
       ]
      },
      {
       "output_type": "stream",
       "stream": "stdout",
       "text": [
        "\n",
        "Getting Location of Planet Hollywood, Las Vegas, NV, USA\n",
        "Found Location."
       ]
      },
      {
       "output_type": "stream",
       "stream": "stdout",
       "text": [
        "\n",
        "Getting Location of Las Vegas Convention Center 3150 Paradise Road Las Vegas NV, Las Vegas, NV, USA\n",
        "Found Location."
       ]
      },
      {
       "output_type": "stream",
       "stream": "stdout",
       "text": [
        "\n",
        "Getting Location of P E S Institute of Technology- South Campus 1 KM before Elec, Bangalore, India\n",
        "Google API Query Limit reached. Waiting... (maybe you should renew your IP)"
       ]
      },
      {
       "output_type": "stream",
       "stream": "stdout",
       "text": [
        "\n",
        "Found Location."
       ]
      },
      {
       "output_type": "stream",
       "stream": "stdout",
       "text": [
        "\n",
        "Getting Location of Karpagam College of Engineering Othakkalmandapam Post Myleri, Coimbatore, India\n",
        "Found Location."
       ]
      },
      {
       "output_type": "stream",
       "stream": "stdout",
       "text": [
        "\n",
        "Getting Location of Dept. of Electronics & Electrical Communication Engineering, Kharagpur, India\n",
        "Found Location."
       ]
      },
      {
       "output_type": "stream",
       "stream": "stdout",
       "text": [
        "\n",
        "Getting Location of City Residency Gandhi More, Durgapur Durgapur 713209 IN, Durgapur, India\n",
        "Found Location."
       ]
      },
      {
       "output_type": "stream",
       "stream": "stdout",
       "text": [
        "\n",
        "Getting Location of United International University (UIU) House 80, Road 8/A Dha, Dhaka, Bangladesh\n",
        "Found Location."
       ]
      },
      {
       "output_type": "stream",
       "stream": "stdout",
       "text": [
        "\n",
        "Getting Location of Shri Ramdeobaba College of Engineering and Management Ramdeo, Nagpur, Maharashtra, India\n",
        "Found Location."
       ]
      },
      {
       "output_type": "stream",
       "stream": "stdout",
       "text": [
        "\n",
        "Getting Location of Vellore Institute of Technology School of Electrical Enginee, Vellore, India\n",
        "Found Location."
       ]
      },
      {
       "output_type": "stream",
       "stream": "stdout",
       "text": [
        "\n",
        "Getting Location of Newport Beachside Hotel and Resort 16701 Collins Avenue Miam, Miami Beach, FL, USA\n",
        "Found Location."
       ]
      },
      {
       "output_type": "stream",
       "stream": "stdout",
       "text": [
        "\n",
        "Getting Location of Singapore Management University SG, , Singapore\n",
        "Found Location."
       ]
      },
      {
       "output_type": "stream",
       "stream": "stdout",
       "text": [
        "\n",
        "Getting Location of Indian Institute of Science Bangalore 560012 IN, Bangalore, India\n",
        "Found Location."
       ]
      },
      {
       "output_type": "stream",
       "stream": "stdout",
       "text": [
        "\n",
        "Getting Location of Aloft Kuala Lumpur Sentral No, Kuala Lumpur, Malaysia\n",
        "Found Location."
       ]
      },
      {
       "output_type": "stream",
       "stream": "stdout",
       "text": [
        "\n",
        "Getting Location of Hilton Waikoloa Waikoloa HI US, Waikoloa, HI, USA\n",
        "Found Location."
       ]
      },
      {
       "output_type": "stream",
       "stream": "stdout",
       "text": [
        "\n",
        "Getting Location of IIT Bombay Mumbai IN, Mumbai, India\n",
        "Found Location."
       ]
      },
      {
       "output_type": "stream",
       "stream": "stdout",
       "text": [
        "\n",
        "Getting Location of Sana Lisbon Hotel PT, Lisbon, Portugal\n",
        "Found Location."
       ]
      },
      {
       "output_type": "stream",
       "stream": "stdout",
       "text": [
        "\n",
        "Getting Location of Sri Shakthi Institute of Engineering and Technolgy L&T Bypas, Coimbatore, India\n",
        "Found Location."
       ]
      },
      {
       "output_type": "stream",
       "stream": "stdout",
       "text": [
        "\n",
        "Done.\n"
       ]
      }
     ],
     "prompt_number": 4
    },
    {
     "cell_type": "code",
     "collapsed": false,
     "input": [],
     "language": "python",
     "metadata": {},
     "outputs": [],
     "prompt_number": 4
    },
    {
     "cell_type": "heading",
     "level": 2,
     "metadata": {},
     "source": [
      "Clean Data and create KML"
     ]
    },
    {
     "cell_type": "code",
     "collapsed": false,
     "input": [
      "kml = simplekml.Kml()\n",
      "# Konferenzen l\u00f6schen, f\u00fcr die kein Ort gefunden wurden\n",
      "lon=[]\n",
      "lat=[]\n",
      "print('Creating .kml file.')\n",
      "for i in range(len(confs)):\n",
      "    if confs[i][3] == 0.0:\n",
      "        pass\n",
      "    else:\n",
      "        # KML\n",
      "        pnt=kml.newpoint(name=confs[i][0], coords=[(confs[i][3],confs[i][2])])\n",
      "        desct = 'from ' + confs[i][1]\n",
      "        desct += '\\nin ' + confs[i][4]\n",
      "        desct += '\\n\\nInfos: ' + confs[i][5]\n",
      "        pnt.description = desct\n",
      "        \n",
      "        # List for Map\n",
      "        lon.append(confs[i][3])\n",
      "        lat.append(confs[i][2])\n",
      "\n",
      "kml.save(\"iEEE-Conferences.kml\")\n",
      "print('Done.')\n",
      "print('%s of %s conference venues without place.' % (len(confs)-len(lat),len(confs)))\n",
      "if (len(confs)-len(lat)) == 0:\n",
      "    print 'Perfect.'\n",
      "elif (len(confs)-len(lat)) > 5:\n",
      "    print 'Maybe you should check your Data'"
     ],
     "language": "python",
     "metadata": {},
     "outputs": [
      {
       "output_type": "stream",
       "stream": "stdout",
       "text": [
        "Creating .kml file.\n",
        "Done."
       ]
      },
      {
       "output_type": "stream",
       "stream": "stdout",
       "text": [
        "\n",
        "0 of 441 conference venues without place.\n",
        "Perfect.\n"
       ]
      }
     ],
     "prompt_number": 5
    },
    {
     "cell_type": "heading",
     "level": 2,
     "metadata": {},
     "source": [
      "Render the Map"
     ]
    },
    {
     "cell_type": "heading",
     "level": 3,
     "metadata": {},
     "source": [
      "World"
     ]
    },
    {
     "cell_type": "code",
     "collapsed": false,
     "input": [
      "# Thanks to this great tutorial:\n",
      "# http://peak5390.wordpress.com/2012/12/08/mapping-global-earthquake-activity-a-matplotlib-basemap-tutorial/\n",
      "\n",
      "map = Basemap(projection='robin', resolution = 'l', area_thresh = 1000.0,\n",
      "              lat_0=0, lon_0=0)\n",
      "map.drawcoastlines()\n",
      "map.drawcountries()\n",
      "#map.fillcontinents(color = 'gray')\n",
      "map.bluemarble()\n",
      "map.drawmapboundary()\n",
      "map.drawmeridians(np.arange(0, 360, 30))\n",
      "map.drawparallels(np.arange(-90, 90, 30))\n",
      "\n",
      "x,y = map(lon, lat)\n",
      "map.plot(x, y, 'ro', markersize=6)\n",
      "plt.title('iEEE Conferences 2014 Worldmap')\n",
      "plt.savefig('iEEE-Conferences-2014-Worldmap.png', bbox_inches='tight', dpi=300)\n",
      "#plt.show()"
     ],
     "language": "python",
     "metadata": {},
     "outputs": [],
     "prompt_number": 6
    },
    {
     "cell_type": "heading",
     "level": 3,
     "metadata": {},
     "source": [
      "Europe"
     ]
    },
    {
     "cell_type": "code",
     "collapsed": false,
     "input": [
      "m = Basemap(llcrnrlon=-14.0,llcrnrlat=32.0,urcrnrlon=44.4,urcrnrlat=55.3,\n",
      "            resolution='i',projection='stere',lon_0=10.0,lat_0=54.7)\n",
      "\n",
      "m.drawcoastlines()\n",
      "m.fillcontinents(color='gray')\n",
      "# draw parallels and meridians.\n",
      "#m.drawparallels(np.arange(-40,61.,2.))\n",
      "#m.drawmeridians(np.arange(0.,43.,2.))\n",
      "m.drawmapboundary()\n",
      "m.drawcountries()\n",
      "\n",
      "x,y = m(lon, lat)\n",
      "m.plot(x, y, 'ro', markersize=6)\n",
      "\n",
      "\n",
      "plt.title(\"European iEEE Conferences 2014\")\n",
      "plt.savefig('iEEE-Conferences-2014-Europe.png', bbox_inches='tight', dpi=300)\n",
      "\n",
      "#plt.show()"
     ],
     "language": "python",
     "metadata": {},
     "outputs": [],
     "prompt_number": 7
    },
    {
     "cell_type": "heading",
     "level": 3,
     "metadata": {},
     "source": [
      "USA"
     ]
    },
    {
     "cell_type": "code",
     "collapsed": false,
     "input": [
      "mus = Basemap(llcrnrlon=-125.0,llcrnrlat=20.0,urcrnrlon=-60.0,urcrnrlat=51.4,\n",
      "            resolution='i',projection='stere',lon_0=-95.0,lat_0=35.0)\n",
      "\n",
      "mus.drawcoastlines()\n",
      "mus.fillcontinents(color='gray')\n",
      "# draw parallels and meridians.\n",
      "#m.drawparallels(np.arange(-40,61.,2.))\n",
      "#m.drawmeridians(np.arange(0.,43.,2.))\n",
      "mus.drawmapboundary()\n",
      "mus.drawcountries()\n",
      "mus.drawstates()\n",
      "\n",
      "x,y = mus(lon, lat)\n",
      "mus.plot(x, y, 'ro', markersize=6)\n",
      "\n",
      "\n",
      "plt.title(\"US iEEE Conferences 2014\")\n",
      "plt.savefig('iEEE-Conferences-2014-USA.png', bbox_inches='tight', dpi=300)\n",
      "\n",
      "#plt.show()"
     ],
     "language": "python",
     "metadata": {},
     "outputs": [],
     "prompt_number": 8
    },
    {
     "cell_type": "code",
     "collapsed": false,
     "input": [
      "plt.close()"
     ],
     "language": "python",
     "metadata": {},
     "outputs": [],
     "prompt_number": 9
    },
    {
     "cell_type": "code",
     "collapsed": false,
     "input": [
      "print('Done.')"
     ],
     "language": "python",
     "metadata": {},
     "outputs": [
      {
       "output_type": "stream",
       "stream": "stdout",
       "text": [
        "Done.\n"
       ]
      }
     ],
     "prompt_number": 10
    }
   ],
   "metadata": {}
  }
 ]
}