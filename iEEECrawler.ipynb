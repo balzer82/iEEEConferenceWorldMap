{
 "metadata": {
  "name": ""
 },
 "nbformat": 3,
 "nbformat_minor": 0,
 "worksheets": [
  {
   "cells": [
    {
     "cell_type": "heading",
     "level": 1,
     "metadata": {},
     "source": [
      "iEEE Conference World Map"
     ]
    },
    {
     "cell_type": "code",
     "collapsed": false,
     "input": [
      "from mpl_toolkits.basemap import Basemap\n",
      "import matplotlib.pyplot as plt\n",
      "import requests\n",
      "from bs4 import BeautifulSoup\n",
      "import numpy as np\n",
      "import time\n",
      "import simplekml"
     ],
     "language": "python",
     "metadata": {},
     "outputs": [],
     "prompt_number": 1
    },
    {
     "cell_type": "heading",
     "level": 2,
     "metadata": {},
     "source": [
      "Convert Addressto LatLon"
     ]
    },
    {
     "cell_type": "code",
     "collapsed": false,
     "input": [
      "def address2coord(ven, addr):\n",
      "    \n",
      "    result = None\n",
      "    address = ven + ', ' + addr\n",
      "    \n",
      "    if 'TBD' in addr:\n",
      "        print 'No location determined yet.'\n",
      "        return (u'0.0', u'0.0')\n",
      "    \n",
      "    while result is None:\n",
      "        try:\n",
      "            url = 'http://maps.googleapis.com/maps/api/geocode/xml'\n",
      "            payload = {'address': unicode(address), 'sensor': 'true'}\n",
      "            \n",
      "            try:\n",
      "                response = requests.get(url, params=payload)\n",
      "            except Exception, e:\n",
      "                print e.message\n",
      "                return Error(2, \"Google\", \"Google nicht erreichbar.\")\n",
      "        \n",
      "            if response.status_code != 200:\n",
      "                print \"Can't connect to Google! (status code: \" + response.status_code + \")\"    \n",
      "                return Error(response.status_code, \"Google\", \"Google Server nicht erreichbar\")\n",
      "            \n",
      "            if type(response.content) is unicode:\n",
      "                soup = BeautifulSoup(response.content.encode('utf8'))\n",
      "            else:\n",
      "                soup = BeautifulSoup(response.content)\n",
      "\n",
      "            #print response.content\n",
      "\n",
      "            if soup.find('status').string == 'OK':\n",
      "                print('Found Location.')\n",
      "                result = True\n",
      "                return (soup.find('lat').string , soup.find('lng').string)\n",
      "            elif soup.find('status').string == 'OVER_QUERY_LIMIT':\n",
      "                print 'Google API Query Limit reached. Waiting... (maybe you should renew your IP)'\n",
      "                time.sleep(5)\n",
      "            elif soup.find('status').string == 'ZERO_RESULTS':\n",
      "                print '\\n' + unicode(address)\n",
      "                print \"not found! Tryin:\"\n",
      "                # nur noch Stadt nehmen, nicht mehr Hotel usw..\n",
      "                address=addr\n",
      "                print address\n",
      "            else:\n",
      "                print '\\n' + unicode(address) + '\\n'\n",
      "                print response.url\n",
      "                print \"not found! Giving up...\"\n",
      "                result = True\n",
      "                return (u'0.0', u'0.0')\n",
      "\n",
      "        except:\n",
      "            pass"
     ],
     "language": "python",
     "metadata": {},
     "outputs": [],
     "prompt_number": 2
    },
    {
     "cell_type": "heading",
     "level": 2,
     "metadata": {},
     "source": [
      "Crawl the conference search"
     ]
    },
    {
     "cell_type": "code",
     "collapsed": false,
     "input": [
      "# Daten von iEEE Webseite holen\n",
      "url='http://www.ieee.org/conferences_events/conferences/search/index.html'\n",
      "\n",
      "# Suchmaske\n",
      "payload = {'KEYWORDS': '', \\\n",
      "           'CONF_SRCH_RDO': 'conf_date', \\\n",
      "           'RANGE_FROM_DATE': '2014-01-01', \\\n",
      "           'RANGE_TO_DATE': '2014-12-31', \\\n",
      "           'REGION': 'ALL', \\\n",
      "           'COUNTRY': 'ALL', \\\n",
      "           'STATE': 'ALL', \\\n",
      "           'CITY': 'ALL', \\\n",
      "           'SPONSOR': 'ALL', \\\n",
      "           'RowsPerPage': '20000', \\\n",
      "           'PageLinkNum': '1', \\\n",
      "           'ActivePage': '1', \\\n",
      "           'SORTORDER': 'desc', \\\n",
      "           'SORTFIELD': 'start_date'}\n",
      "\n",
      "# Fire the request\n",
      "try:\n",
      "    print('Requesting IEEE Conference Search...')\n",
      "    data = requests.get(url, params=payload)\n",
      "    print('Done.')\n",
      "except Exception, e:\n",
      "    print e.message\n",
      "if data.status_code != 200:\n",
      "    print \"Can't connect to iEEE! (status code: \" + response.status_code + \")\"        "
     ],
     "language": "python",
     "metadata": {},
     "outputs": [
      {
       "output_type": "stream",
       "stream": "stdout",
       "text": [
        "Requesting IEEE Conference Search...\n",
        "Done."
       ]
      },
      {
       "output_type": "stream",
       "stream": "stdout",
       "text": [
        "\n"
       ]
      }
     ],
     "prompt_number": 3
    },
    {
     "cell_type": "heading",
     "level": 2,
     "metadata": {},
     "source": [
      "Extract the Data"
     ]
    },
    {
     "cell_type": "code",
     "collapsed": false,
     "input": [
      "# Crawl the Data\n",
      "soup = BeautifulSoup(data.text)\n",
      "confs={}\n",
      "confname=[]\n",
      "confdate=[]\n",
      "confloc =[]\n",
      "conflat =[]\n",
      "conflon =[]\n",
      "confurl =[]\n",
      "print('Extracting the data from IEEE website')\n",
      "for conference in soup.body.find_all('tr', attrs={'class' : ['even','odd']}):\n",
      "    for idx,infos in enumerate(conference.find_all('td', attrs={'class' : 'pad10'})):\n",
      "        # Tabelle durchgehen\n",
      "        # Erste Spalte: Konferenzname\n",
      "        if idx==0:\n",
      "            confname.append(infos.a.text.strip())\n",
      "        # Zweite Spalte: Konferenzdatum\n",
      "        elif idx==1:\n",
      "            confdate.append(infos.a.text.strip())\n",
      "        # Dritte Spalte: Infoseite und Ort\n",
      "        elif idx==2:\n",
      "            confurl.append('https://www.ieee.org' + infos.a['href'])\n",
      "            confloc.append(infos.a.text.strip())\n",
      "            \n",
      "            for br in infos.a.findAll('br'):\n",
      "                if br.nextSibling == None or '':\n",
      "                    break\n",
      "                elif br.previousSibling == None or '':\n",
      "                    break\n",
      "                elif br.previousSibling == None:\n",
      "                    addr = br.nextSibling.strip()\n",
      "                    ven = ''\n",
      "                else:\n",
      "                    addr = br.nextSibling.strip()\n",
      "                    ven = br.previousSibling.strip()\n",
      "                    \n",
      "\n",
      "            print('Getting Location of ' + ven + ', ' + addr)\n",
      "            location = ven + ', ' + addr\n",
      "            lat,lon = address2coord(ven, addr)\n",
      "            conflat.append(float(lat))\n",
      "            conflon.append(float(lon))\n",
      "        else:\n",
      "            print(u'Unklar, was das f\u00fcr Daten sind.')\n",
      "\n",
      "\n",
      "confs = zip(confname,confdate,conflat,conflon,confloc,confurl)\n",
      "print('Done.')\n",
      "# Print the Table           \n",
      "#for i in range(len(confname)):\n",
      "#    print('%s findet am %s in %s statt.\\n' % (confname[i], confdate[i], confloc[i]))"
     ],
     "language": "python",
     "metadata": {},
     "outputs": [
      {
       "output_type": "stream",
       "stream": "stdout",
       "text": [
        "Extracting the data from IEEE website\n",
        "Getting Location of COIMBATORE, COIMBATORE, India"
       ]
      },
      {
       "output_type": "stream",
       "stream": "stdout",
       "text": [
        "\n",
        "Found Location."
       ]
      },
      {
       "output_type": "stream",
       "stream": "stdout",
       "text": [
        "\n",
        "Getting Location of GT Road, Lahore, Punjab., Lahore, Pakistan\n",
        "Found Location."
       ]
      },
      {
       "output_type": "stream",
       "stream": "stdout",
       "text": [
        "\n",
        "Getting Location of J.W. Marriott Hotel, Los Angeles, CA, USA\n",
        "Found Location."
       ]
      },
      {
       "output_type": "stream",
       "stream": "stdout",
       "text": [
        "\n",
        "Getting Location of 100 Hoang Quoc Viet, Cau Giay, Vietnam\n",
        "Found Location."
       ]
      },
      {
       "output_type": "stream",
       "stream": "stdout",
       "text": [
        "\n",
        "Getting Location of Grange Road, Cambridge, United Kingdom\n",
        "Found Location."
       ]
      },
      {
       "output_type": "stream",
       "stream": "stdout",
       "text": [
        "\n",
        "Getting Location of 86 Brattle Street, Cambridge, MA, USA\n",
        "Found Location."
       ]
      },
      {
       "output_type": "stream",
       "stream": "stdout",
       "text": [
        "\n",
        "Getting Location of 3999 Mission Boulevard, San Diego, CA, USA\n",
        "Found Location."
       ]
      },
      {
       "output_type": "stream",
       "stream": "stdout",
       "text": [
        "\n",
        "Getting Location of Hotel, Singapore\n",
        "Found Location."
       ]
      },
      {
       "output_type": "stream",
       "stream": "stdout",
       "text": [
        "\n",
        "Getting Location of 8101 World Center Drive, Orlando, FL, USA\n",
        "Found Location."
       ]
      },
      {
       "output_type": "stream",
       "stream": "stdout",
       "text": [
        "\n",
        "Getting Location of 57-091 Kamehameha Hwy, Kahuku, HI, USA\n",
        "Found Location."
       ]
      },
      {
       "output_type": "stream",
       "stream": "stdout",
       "text": [
        "\n",
        "Getting Location of Department of Biomedical Engineering, Kuala Lumpur, Malaysia\n",
        "Found Location."
       ]
      },
      {
       "output_type": "stream",
       "stream": "stdout",
       "text": [
        "\n",
        "Getting Location of Hilton Austin Hotel, Austin, TX, USA\n",
        "Found Location."
       ]
      },
      {
       "output_type": "stream",
       "stream": "stdout",
       "text": [
        "\n",
        "Getting Location of 4130 Lake Tahoe Blvd., South Lake Tahoe, CA, USA\n",
        "Found Location."
       ]
      },
      {
       "output_type": "stream",
       "stream": "stdout",
       "text": [
        "\n",
        "Getting Location of 265 Peachtree Street, NE, Atlanta, GA, USA\n",
        "Found Location."
       ]
      },
      {
       "output_type": "stream",
       "stream": "stdout",
       "text": [
        "\n",
        "Getting Location of 255 Cheng-Kung 1st Road, Kaohsiung, Taiwan\n",
        "Found Location."
       ]
      },
      {
       "output_type": "stream",
       "stream": "stdout",
       "text": [
        "\n",
        "Getting Location of 900 Walnut St., Boulder, CO, USA\n",
        "Found Location."
       ]
      },
      {
       "output_type": "stream",
       "stream": "stdout",
       "text": [
        "\n",
        "Getting Location of 6300 Ocean Drive, Corpus Christ, TX, USA\n",
        "Found Location."
       ]
      },
      {
       "output_type": "stream",
       "stream": "stdout",
       "text": [
        "\n",
        "Getting Location of Pune-411 001, Pune, India\n",
        "Found Location."
       ]
      },
      {
       "output_type": "stream",
       "stream": "stdout",
       "text": [
        "\n",
        "Getting Location of Calle del Capitan Haya, 43, Madrid, Spain\n",
        "Found Location."
       ]
      },
      {
       "output_type": "stream",
       "stream": "stdout",
       "text": [
        "\n",
        "Getting Location of 60, Chemin des Sables, Antibes Juan-les-Pins , France\n",
        "Found Location."
       ]
      },
      {
       "output_type": "stream",
       "stream": "stdout",
       "text": [
        "\n",
        "Getting Location of Ernest N. Morial Convention Center, New Orleans, LA, USA\n",
        "\n",
        "Ernest N. Morial Convention Center, New Orleans, LA, USA"
       ]
      },
      {
       "output_type": "stream",
       "stream": "stdout",
       "text": [
        "\n",
        "not found! Tryin:\n",
        "New Orleans, LA, USA\n",
        "Found Location."
       ]
      },
      {
       "output_type": "stream",
       "stream": "stdout",
       "text": [
        "\n",
        "Getting Location of 320 4th Avenue S.W., Calgary, AB, Canada\n",
        "Found Location."
       ]
      },
      {
       "output_type": "stream",
       "stream": "stdout",
       "text": [
        "\n",
        "Getting Location of Hyatt Regency Atlanta, Atlanta, GA, USA\n",
        "\n",
        "Hyatt Regency Atlanta, Atlanta, GA, USA"
       ]
      },
      {
       "output_type": "stream",
       "stream": "stdout",
       "text": [
        "\n",
        "not found! Tryin:\n",
        "Atlanta, GA, USA\n",
        "Found Location."
       ]
      },
      {
       "output_type": "stream",
       "stream": "stdout",
       "text": [
        "\n",
        "Getting Location of 30, avenue Corentin-Cariou, Paris, France\n",
        "Found Location."
       ]
      },
      {
       "output_type": "stream",
       "stream": "stdout",
       "text": [
        "\n",
        "Getting Location of Washington State Convention Center, Seattle, WA, USA\n",
        "Found Location."
       ]
      },
      {
       "output_type": "stream",
       "stream": "stdout",
       "text": [
        "\n",
        "Getting Location of 3-4-1, Ozuka-higashi, Asaminami-ku, Hiroshima, Japan\n",
        "Found Location."
       ]
      },
      {
       "output_type": "stream",
       "stream": "stdout",
       "text": [
        "\n",
        "Getting Location of 1297 Algonquin Road, Schaumburg, IL, USA\n",
        "Found Location."
       ]
      },
      {
       "output_type": "stream",
       "stream": "stdout",
       "text": [
        "\n",
        "Getting Location of Hilton Molino Stucky, Venice, Italy\n",
        "Found Location."
       ]
      },
      {
       "output_type": "stream",
       "stream": "stdout",
       "text": [
        "\n",
        "Getting Location of Hilton Hawaiian Village, Honolulu, HI, USA\n",
        "Found Location."
       ]
      },
      {
       "output_type": "stream",
       "stream": "stdout",
       "text": [
        "\n",
        "Getting Location of 1 Elizabeth Street, Hobart, Australia\n",
        "Found Location."
       ]
      },
      {
       "output_type": "stream",
       "stream": "stdout",
       "text": [
        "\n",
        "Getting Location of AV. CORTES VALENCIANAS, N\u00ba 60, VALENCIA, Spain\n",
        "Found Location."
       ]
      },
      {
       "output_type": "stream",
       "stream": "stdout",
       "text": [
        "\n",
        "Getting Location of 345 Stockton Street, San Francisco, CA, USA\n",
        "Found Location."
       ]
      },
      {
       "output_type": "stream",
       "stream": "stdout",
       "text": [
        "\n",
        "Getting Location of 400 olive street, Dallas, TX, USA\n",
        "Found Location."
       ]
      },
      {
       "output_type": "stream",
       "stream": "stdout",
       "text": [
        "\n",
        "Getting Location of CNIT La Defense, Paris, France\n",
        "Found Location."
       ]
      },
      {
       "output_type": "stream",
       "stream": "stdout",
       "text": [
        "\n",
        "Getting Location of China, Guilin, China\n",
        "Found Location."
       ]
      },
      {
       "output_type": "stream",
       "stream": "stdout",
       "text": [
        "\n",
        "Getting Location of 3845 Veterans Memorial Hwy, Ronkonkoma, NY, USA\n",
        "Found Location."
       ]
      },
      {
       "output_type": "stream",
       "stream": "stdout",
       "text": [
        "\n",
        "Getting Location of Hyatt Regency, Bethesda, MD, USA\n",
        "\n",
        "Hyatt Regency, Bethesda, MD, USA"
       ]
      },
      {
       "output_type": "stream",
       "stream": "stdout",
       "text": [
        "\n",
        "not found! Tryin:\n",
        "Bethesda, MD, USA\n",
        "Found Location."
       ]
      },
      {
       "output_type": "stream",
       "stream": "stdout",
       "text": [
        "\n",
        "Getting Location of Hokkaido, Japan\n",
        "Found Location."
       ]
      },
      {
       "output_type": "stream",
       "stream": "stdout",
       "text": [
        "\n",
        "Getting Location of South Wharf, Victoria, Australia\n",
        "Found Location."
       ]
      },
      {
       "output_type": "stream",
       "stream": "stdout",
       "text": [
        "\n",
        "Getting Location of unknown, Portland, OR, USA\n",
        "Found Location."
       ]
      },
      {
       "output_type": "stream",
       "stream": "stdout",
       "text": [
        "\n",
        "Getting Location of Hangzhou 2 Pinghai Road (Pinghai Lu), Hangzhou, China\n",
        "Found Location."
       ]
      },
      {
       "output_type": "stream",
       "stream": "stdout",
       "text": [
        "\n",
        "Getting Location of 30 Avenue Corentin Cariou, Paris, France\n",
        "Found Location."
       ]
      },
      {
       "output_type": "stream",
       "stream": "stdout",
       "text": [
        "\n",
        "Getting Location of 17 Boulevard Saint Jacques, Paris, France\n",
        "Google API Query Limit reached. Waiting... (maybe you should renew your IP)"
       ]
      },
      {
       "output_type": "stream",
       "stream": "stdout",
       "text": [
        "\n",
        "Found Location."
       ]
      },
      {
       "output_type": "stream",
       "stream": "stdout",
       "text": [
        "\n",
        "Getting Location of 30 Avenue Corentin Cariou, Paris, France\n",
        "Found Location."
       ]
      },
      {
       "output_type": "stream",
       "stream": "stdout",
       "text": [
        "\n",
        "Getting Location of TBD, NJ, USA\n",
        "Found Location."
       ]
      },
      {
       "output_type": "stream",
       "stream": "stdout",
       "text": [
        "\n",
        "Getting Location of Melia Castilla Hotel and Convention Center, Madrid, Spain\n",
        "Found Location."
       ]
      },
      {
       "output_type": "stream",
       "stream": "stdout",
       "text": [
        "\n",
        "Getting Location of CE 0 821 (Centre Est) - Station 1, Lausanne, Switzerland\n",
        "Found Location."
       ]
      },
      {
       "output_type": "stream",
       "stream": "stdout",
       "text": [
        "\n",
        "Getting Location of TBD, San Jose, CA, USA\n",
        "Found Location."
       ]
      },
      {
       "output_type": "stream",
       "stream": "stdout",
       "text": [
        "\n",
        "Getting Location of 800 Convention Place, Seattle, WA, USA\n",
        "Found Location."
       ]
      },
      {
       "output_type": "stream",
       "stream": "stdout",
       "text": [
        "\n",
        "Getting Location of Shiraishiku, Sapporo-shi,, Hokkaido, Japan\n",
        "Found Location."
       ]
      },
      {
       "output_type": "stream",
       "stream": "stdout",
       "text": [
        "\n",
        "Getting Location of University Road, Belfast, United Kingdom\n",
        "Found Location."
       ]
      },
      {
       "output_type": "stream",
       "stream": "stdout",
       "text": [
        "\n",
        "Getting Location of University of Tetuan, Morocco\n",
        "Found Location."
       ]
      },
      {
       "output_type": "stream",
       "stream": "stdout",
       "text": [
        "\n",
        "Getting Location of Milwaukee,, Milwaukee, WI, USA\n",
        "Found Location."
       ]
      },
      {
       "output_type": "stream",
       "stream": "stdout",
       "text": [
        "\n",
        "Getting Location of 3777 La Jolla Village Drive, La Jolla, CA, USA\n",
        "Found Location."
       ]
      },
      {
       "output_type": "stream",
       "stream": "stdout",
       "text": [
        "\n",
        "Getting Location of 1200 Montreal Rd., Ottawa, ON, Canada\n",
        "Found Location."
       ]
      },
      {
       "output_type": "stream",
       "stream": "stdout",
       "text": [
        "\n",
        "Getting Location of http://www.novotel.com/gb/home/index.shtml, Seoul, Korea (South)\n",
        "\n",
        "http://www.novotel.com/gb/home/index.shtml, Seoul, Korea (South)"
       ]
      },
      {
       "output_type": "stream",
       "stream": "stdout",
       "text": [
        "\n",
        "not found! Tryin:\n",
        "Seoul, Korea (South)\n",
        "Found Location."
       ]
      },
      {
       "output_type": "stream",
       "stream": "stdout",
       "text": [
        "\n",
        "Getting Location of 200 South Alamo, San Antonio, TX, USA\n",
        "Found Location."
       ]
      },
      {
       "output_type": "stream",
       "stream": "stdout",
       "text": [
        "\n",
        "Getting Location of 40 rue du Pelvous, Paris, France\n",
        "Found Location."
       ]
      },
      {
       "output_type": "stream",
       "stream": "stdout",
       "text": [
        "\n",
        "Getting Location of 8, Carol I, Str, Sinaia, Romania\n",
        "Found Location."
       ]
      },
      {
       "output_type": "stream",
       "stream": "stdout",
       "text": [
        "\n",
        "Getting Location of Via Aurelia Antica, 415, Rome, Italy\n",
        "Found Location."
       ]
      },
      {
       "output_type": "stream",
       "stream": "stdout",
       "text": [
        "\n",
        "Getting Location of 5000 Forbes Avenue, Pittsburgh, PA, USA\n",
        "Google API Query Limit reached. Waiting... (maybe you should renew your IP)"
       ]
      },
      {
       "output_type": "stream",
       "stream": "stdout",
       "text": [
        "\n",
        "Found Location."
       ]
      },
      {
       "output_type": "stream",
       "stream": "stdout",
       "text": [
        "\n",
        "Getting Location of Lille Grand Palais, Lille, France\n",
        "Found Location."
       ]
      },
      {
       "output_type": "stream",
       "stream": "stdout",
       "text": [
        "\n",
        "Getting Location of No.400, Panyu Road, Changning Disctrict, Shanghai, China\n",
        "Found Location."
       ]
      },
      {
       "output_type": "stream",
       "stream": "stdout",
       "text": [
        "\n",
        "Getting Location of P.O. Box 34195, Education City, Qatar\n",
        "Found Location."
       ]
      },
      {
       "output_type": "stream",
       "stream": "stdout",
       "text": [
        "\n",
        "Getting Location of Hyatt Regency La Jolla, San Diego, CA, USA\n",
        "\n",
        "Hyatt Regency La Jolla, San Diego, CA, USA"
       ]
      },
      {
       "output_type": "stream",
       "stream": "stdout",
       "text": [
        "\n",
        "not found! Tryin:\n",
        "San Diego, CA, USA\n",
        "Found Location."
       ]
      },
      {
       "output_type": "stream",
       "stream": "stdout",
       "text": [
        "\n",
        "Getting Location of Hyatt Regency La Jolla, San Diego, CA, USA\n",
        "\n",
        "Hyatt Regency La Jolla, San Diego, CA, USA"
       ]
      },
      {
       "output_type": "stream",
       "stream": "stdout",
       "text": [
        "\n",
        "not found! Tryin:\n",
        "San Diego, CA, USA\n",
        "Found Location."
       ]
      },
      {
       "output_type": "stream",
       "stream": "stdout",
       "text": [
        "\n",
        "Getting Location of 2 Poydras Street, New Orleans, LA, USA\n",
        "Found Location."
       ]
      },
      {
       "output_type": "stream",
       "stream": "stdout",
       "text": [
        "\n",
        "Getting Location of Antibes Congress Center, Antibes-Juan Les Pins, France\n",
        "Found Location."
       ]
      },
      {
       "output_type": "stream",
       "stream": "stdout",
       "text": [
        "\n",
        "Getting Location of 515 Madison St, Seattle, WA, USA\n",
        "Found Location."
       ]
      },
      {
       "output_type": "stream",
       "stream": "stdout",
       "text": [
        "\n",
        "Getting Location of 28, rue M\u00fcnster, Luxembourg, Luxembourg\n",
        "Found Location."
       ]
      },
      {
       "output_type": "stream",
       "stream": "stdout",
       "text": [
        "\n",
        "Getting Location of 120 Alumni Dr, Oxford , MS, USA\n",
        "\n",
        "120 Alumni Dr, Oxford , MS, USA"
       ]
      },
      {
       "output_type": "stream",
       "stream": "stdout",
       "text": [
        "\n",
        "not found! Tryin:\n",
        "Oxford , MS, USA\n",
        "Found Location."
       ]
      },
      {
       "output_type": "stream",
       "stream": "stdout",
       "text": [
        "\n",
        "Getting Location of E-14, Rooms 638,648 and 674, Cambridge, MA, USA\n",
        "Found Location."
       ]
      },
      {
       "output_type": "stream",
       "stream": "stdout",
       "text": [
        "\n",
        "Getting Location of 1 Old Bayshore Highway, Millbrae, CA, USA\n",
        "Found Location."
       ]
      },
      {
       "output_type": "stream",
       "stream": "stdout",
       "text": [
        "\n",
        "Getting Location of TBD, San Diego, CA, USA\n",
        "Found Location."
       ]
      },
      {
       "output_type": "stream",
       "stream": "stdout",
       "text": [
        "\n",
        "Getting Location of 1088 Burrard Street, Vancouver, BC, Canada\n",
        "Found Location."
       ]
      },
      {
       "output_type": "stream",
       "stream": "stdout",
       "text": [
        "\n",
        "Getting Location of unknown at this time, Spain\n",
        "Found Location."
       ]
      },
      {
       "output_type": "stream",
       "stream": "stdout",
       "text": [
        "\n",
        "Getting Location of Gulf Boulevard, Clearwater Beach, FL 33767, Tampa, FL, USA\n",
        "Found Location."
       ]
      },
      {
       "output_type": "stream",
       "stream": "stdout",
       "text": [
        "\n",
        "Getting Location of 721 Government Street, Victoria, BC, Canada\n",
        "Found Location."
       ]
      },
      {
       "output_type": "stream",
       "stream": "stdout",
       "text": [
        "\n",
        "Getting Location of TBD, Vancouver, BC, Canada\n",
        "Found Location."
       ]
      },
      {
       "output_type": "stream",
       "stream": "stdout",
       "text": [
        "\n",
        "Getting Location of U. Politencica de Valenciad, Valencia, Spain\n",
        "Found Location."
       ]
      },
      {
       "output_type": "stream",
       "stream": "stdout",
       "text": [
        "\n",
        "Getting Location of 2000 2nd Street, Coronado, CA, USA\n",
        "Found Location."
       ]
      },
      {
       "output_type": "stream",
       "stream": "stdout",
       "text": [
        "\n",
        "Getting Location of Polytechnical str., 77., Saratov, Russia\n",
        "Found Location."
       ]
      },
      {
       "output_type": "stream",
       "stream": "stdout",
       "text": [
        "\n",
        "Getting Location of TBD, Austin, TX, USA\n",
        "Found Location."
       ]
      },
      {
       "output_type": "stream",
       "stream": "stdout",
       "text": [
        "\n",
        "Getting Location of Greater Noida, Delhi, India\n",
        "Found Location."
       ]
      },
      {
       "output_type": "stream",
       "stream": "stdout",
       "text": [
        "\n",
        "Getting Location of TBD, Singapore, Singapore\n",
        "Found Location."
       ]
      },
      {
       "output_type": "stream",
       "stream": "stdout",
       "text": [
        "\n",
        "Getting Location of The University of Aizu, Aizu-Wakamatsu, Fukushima-Ken, Aizu-Wakamatsu, Japan\n",
        "Found Location."
       ]
      },
      {
       "output_type": "stream",
       "stream": "stdout",
       "text": [
        "\n",
        "Getting Location of 500 East 4th Street, Austin, TX, USA\n",
        "Found Location."
       ]
      },
      {
       "output_type": "stream",
       "stream": "stdout",
       "text": [
        "\n",
        "Getting Location of c/ Jos\u00e9 Guti\u00e9rrez Abascal, 2, Madrid, Spain\n",
        "Found Location."
       ]
      },
      {
       "output_type": "stream",
       "stream": "stdout",
       "text": [
        "\n",
        "Getting Location of La croisette CS 30051, CANNES, France\n",
        "Found Location."
       ]
      },
      {
       "output_type": "stream",
       "stream": "stdout",
       "text": [
        "\n",
        "Getting Location of No.185 Street Zhongyang, Nangang District, Harbin, China, Harbin, China\n",
        "Found Location."
       ]
      },
      {
       "output_type": "stream",
       "stream": "stdout",
       "text": [
        "\n",
        "Getting Location of http://www.ramadaplazaantalya.com, Antalya, Turkey\n",
        "Found Location."
       ]
      },
      {
       "output_type": "stream",
       "stream": "stdout",
       "text": [
        "\n",
        "Getting Location of St. Louis Convention Center, St. Louis, MO, USA\n",
        "Found Location."
       ]
      },
      {
       "output_type": "stream",
       "stream": "stdout",
       "text": [
        "\n",
        "Getting Location of Largo Angelicum 1, Rome, Italy\n",
        "Found Location."
       ]
      },
      {
       "output_type": "stream",
       "stream": "stdout",
       "text": [
        "\n",
        "Getting Location of St. John's Convention Centre, St. John's, NL, Canada\n",
        "Found Location."
       ]
      },
      {
       "output_type": "stream",
       "stream": "stdout",
       "text": [
        "\n",
        "Getting Location of Pittsburgh Convention Center, Pittsburgh, PA, USA\n",
        "Found Location."
       ]
      },
      {
       "output_type": "stream",
       "stream": "stdout",
       "text": [
        "\n",
        "Getting Location of DoubleTree Hotel, San Jose, CA, USA\n",
        "Found Location."
       ]
      },
      {
       "output_type": "stream",
       "stream": "stdout",
       "text": [
        "\n",
        "Getting Location of Palmer House Hilton, Chicago, IL, USA\n",
        "\n",
        "Palmer House Hilton, Chicago, IL, USA"
       ]
      },
      {
       "output_type": "stream",
       "stream": "stdout",
       "text": [
        "\n",
        "not found! Tryin:\n",
        "Chicago, IL, USA\n",
        "Found Location."
       ]
      },
      {
       "output_type": "stream",
       "stream": "stdout",
       "text": [
        "\n",
        "Getting Location of Speedway Blvd, Tucson, AZ, USA\n",
        "Found Location."
       ]
      },
      {
       "output_type": "stream",
       "stream": "stdout",
       "text": [
        "\n",
        "Getting Location of The Westin Bayshore, Vancouver, BC, Canada\n",
        "\n",
        "The Westin Bayshore, Vancouver, BC, Canada"
       ]
      },
      {
       "output_type": "stream",
       "stream": "stdout",
       "text": [
        "\n",
        "not found! Tryin:\n",
        "Vancouver, BC, Canada\n",
        "Found Location."
       ]
      },
      {
       "output_type": "stream",
       "stream": "stdout",
       "text": [
        "\n",
        "Getting Location of Fraunhoferstr. 5, Darmstadt, Germany\n",
        "Found Location."
       ]
      },
      {
       "output_type": "stream",
       "stream": "stdout",
       "text": [
        "\n",
        "Getting Location of Via Corridoni, 3, Senigallia, Italy\n",
        "Google API Query Limit reached. Waiting... (maybe you should renew your IP)"
       ]
      },
      {
       "output_type": "stream",
       "stream": "stdout",
       "text": [
        "\n",
        "Found Location."
       ]
      },
      {
       "output_type": "stream",
       "stream": "stdout",
       "text": [
        "\n",
        "Getting Location of Via Corridoni, 3, Senigallia, Italy\n",
        "Found Location."
       ]
      },
      {
       "output_type": "stream",
       "stream": "stdout",
       "text": [
        "\n",
        "Getting Location of FEL, Pilsen, Czech Republic\n",
        "Found Location."
       ]
      },
      {
       "output_type": "stream",
       "stream": "stdout",
       "text": [
        "\n",
        "Getting Location of Naka-ku, Yokohama, Japan\n",
        "Found Location."
       ]
      },
      {
       "output_type": "stream",
       "stream": "stdout",
       "text": [
        "\n",
        "Getting Location of 70 Third Avenue, Waltham, MA, USA\n",
        "Found Location."
       ]
      },
      {
       "output_type": "stream",
       "stream": "stdout",
       "text": [
        "\n",
        "Getting Location of San Francisco Marriott Hotel, San Francisco, CA, USA\n",
        "Found Location."
       ]
      },
      {
       "output_type": "stream",
       "stream": "stdout",
       "text": [
        "\n",
        "Getting Location of TBD, London, United Kingdom\n",
        "Found Location."
       ]
      },
      {
       "output_type": "stream",
       "stream": "stdout",
       "text": [
        "\n",
        "Getting Location of H\u00e4meenpuisto 28, Tampere, Finland\n",
        "Found Location."
       ]
      },
      {
       "output_type": "stream",
       "stream": "stdout",
       "text": [
        "\n",
        "Getting Location of ul. Koszykowa 75, Warsaw, Poland\n",
        "Found Location."
       ]
      },
      {
       "output_type": "stream",
       "stream": "stdout",
       "text": [
        "\n",
        "Getting Location of Piazza Umberto I, 1, Bari, Italy\n",
        "Found Location."
       ]
      },
      {
       "output_type": "stream",
       "stream": "stdout",
       "text": [
        "\n",
        "Getting Location of 720 South Michigan Avenue, Chicago, IL, USA\n",
        "Found Location."
       ]
      },
      {
       "output_type": "stream",
       "stream": "stdout",
       "text": [
        "\n",
        "Getting Location of 720 South Michigan Avenue, Chicago, IL, USA\n",
        "Found Location."
       ]
      },
      {
       "output_type": "stream",
       "stream": "stdout",
       "text": [
        "\n",
        "Getting Location of Arcisstr. 21, Munich, Germany\n",
        "Found Location."
       ]
      },
      {
       "output_type": "stream",
       "stream": "stdout",
       "text": [
        "\n",
        "Getting Location of Promenada Gwiazd 1, Miedzyzdroje, Poland\n",
        "Found Location."
       ]
      },
      {
       "output_type": "stream",
       "stream": "stdout",
       "text": [
        "\n",
        "Getting Location of 1001 16th Street NW, Washington DC, DC, USA\n",
        "Found Location."
       ]
      },
      {
       "output_type": "stream",
       "stream": "stdout",
       "text": [
        "\n",
        "Getting Location of M\u00e4ssans gata, Gothenburg, Sweden\n",
        "Found Location."
       ]
      },
      {
       "output_type": "stream",
       "stream": "stdout",
       "text": [
        "\n",
        "Getting Location of 90 rue Saint-Martin, Paris, France\n",
        "Found Location."
       ]
      },
      {
       "output_type": "stream",
       "stream": "stdout",
       "text": [
        "\n",
        "Getting Location of Beijing International Conference Center, Beijing, China\n",
        "Found Location."
       ]
      },
      {
       "output_type": "stream",
       "stream": "stdout",
       "text": [
        "\n",
        "Getting Location of No 1 Sutera Harbour Boulevard, Kota Kinabalu, Malaysia\n",
        "Google API Query Limit reached. Waiting... (maybe you should renew your IP)"
       ]
      },
      {
       "output_type": "stream",
       "stream": "stdout",
       "text": [
        "\n",
        "Found Location."
       ]
      },
      {
       "output_type": "stream",
       "stream": "stdout",
       "text": [
        "\n",
        "Getting Location of USTC, Hefei, China\n",
        "Found Location."
       ]
      },
      {
       "output_type": "stream",
       "stream": "stdout",
       "text": [
        "\n",
        "Getting Location of 17, bd Jourdan, Paris, France\n",
        "Found Location."
       ]
      },
      {
       "output_type": "stream",
       "stream": "stdout",
       "text": [
        "\n",
        "Getting Location of TBD, London, United Kingdom\n",
        "Found Location."
       ]
      },
      {
       "output_type": "stream",
       "stream": "stdout",
       "text": [
        "\n",
        "Getting Location of 08014 Barcelona, Barcelona, Spain\n",
        "Found Location."
       ]
      },
      {
       "output_type": "stream",
       "stream": "stdout",
       "text": [
        "\n",
        "Getting Location of Sheraton Chicago Hotel and Towers, Chicago, IL, USA\n",
        "\n",
        "Sheraton Chicago Hotel and Towers, Chicago, IL, USA"
       ]
      },
      {
       "output_type": "stream",
       "stream": "stdout",
       "text": [
        "\n",
        "not found! Tryin:\n",
        "Chicago, IL, USA\n",
        "Found Location."
       ]
      },
      {
       "output_type": "stream",
       "stream": "stdout",
       "text": [
        "\n",
        "Getting Location of Kochi, Kochi, India\n",
        "Found Location."
       ]
      },
      {
       "output_type": "stream",
       "stream": "stdout",
       "text": [
        "\n",
        "Getting Location of Olpe 2, Dortmund, Germany\n",
        "Found Location."
       ]
      },
      {
       "output_type": "stream",
       "stream": "stdout",
       "text": [
        "\n",
        "Getting Location of Skinnarilankatu 34, Lappeenranta, Finland\n",
        "Found Location."
       ]
      },
      {
       "output_type": "stream",
       "stream": "stdout",
       "text": [
        "\n",
        "Getting Location of Sungbuk-gu, Seoul, Korea (South)\n",
        "\n",
        "Sungbuk-gu, Seoul, Korea (South)"
       ]
      },
      {
       "output_type": "stream",
       "stream": "stdout",
       "text": [
        "\n",
        "not found! Tryin:\n",
        "Seoul, Korea (South)\n",
        "Found Location."
       ]
      },
      {
       "output_type": "stream",
       "stream": "stdout",
       "text": [
        "\n",
        "Getting Location of No 796 Shenhua Road, Hangzhou, China\n",
        "Found Location."
       ]
      },
      {
       "output_type": "stream",
       "stream": "stdout",
       "text": [
        "\n",
        "Getting Location of TBD, Rio de Janeiro, Brazil\n",
        "Found Location."
       ]
      },
      {
       "output_type": "stream",
       "stream": "stdout",
       "text": [
        "\n",
        "Getting Location of Campus Gr\u00e4svik, Karlskrona, Sweden\n",
        "Found Location."
       ]
      },
      {
       "output_type": "stream",
       "stream": "stdout",
       "text": [
        "\n",
        "Getting Location of Technical University of Denmark, Denmark\n",
        "Found Location."
       ]
      },
      {
       "output_type": "stream",
       "stream": "stdout",
       "text": [
        "\n",
        "Getting Location of Avenida Lucio Costa, 2630 - Barra da Tijuca, Rio de Janeiro, Brazil\n",
        "Found Location."
       ]
      },
      {
       "output_type": "stream",
       "stream": "stdout",
       "text": [
        "\n",
        "Getting Location of Avenida Lucio Costa, 2630 - Barra da Tijuca, Rio de Janeiro, Brazil\n",
        "Found Location."
       ]
      },
      {
       "output_type": "stream",
       "stream": "stdout",
       "text": [
        "\n",
        "Getting Location of 2424 Main Mall, Vancouver, BC, Canada\n",
        "Found Location."
       ]
      },
      {
       "output_type": "stream",
       "stream": "stdout",
       "text": [
        "\n",
        "Getting Location of Wanyou Conifer Hotel, Chongqing, China\n",
        "Found Location."
       ]
      },
      {
       "output_type": "stream",
       "stream": "stdout",
       "text": [
        "\n",
        "Getting Location of Vadlamudi, Guntur, Andhra Pradesh, India\n",
        "Found Location."
       ]
      },
      {
       "output_type": "stream",
       "stream": "stdout",
       "text": [
        "\n",
        "Getting Location of 33 Gerrard Street West, Toronto, ON, Canada\n",
        "Google API Query Limit reached. Waiting... (maybe you should renew your IP)"
       ]
      },
      {
       "output_type": "stream",
       "stream": "stdout",
       "text": [
        "\n",
        "Found Location."
       ]
      },
      {
       "output_type": "stream",
       "stream": "stdout",
       "text": [
        "\n",
        "Getting Location of Campus Ring 1, Bremen, Germany\n",
        "Found Location."
       ]
      },
      {
       "output_type": "stream",
       "stream": "stdout",
       "text": [
        "\n",
        "Getting Location of 8 Janiszewskiego Street, Wroc\u0142aw, Poland\n",
        "Found Location."
       ]
      },
      {
       "output_type": "stream",
       "stream": "stdout",
       "text": [
        "\n",
        "Getting Location of Av. Rebou\u00e7as, 600, S\u00e3o Paulo, Brazil\n",
        "Found Location."
       ]
      },
      {
       "output_type": "stream",
       "stream": "stdout",
       "text": [
        "\n",
        "Getting Location of University of Strathclyde, Glasgow, United Kingdom\n",
        "Found Location."
       ]
      },
      {
       "output_type": "stream",
       "stream": "stdout",
       "text": [
        "\n",
        "Getting Location of No.7 Tianchen East Road, Chaoyang District, Beijing, China\n",
        "Found Location."
       ]
      },
      {
       "output_type": "stream",
       "stream": "stdout",
       "text": [
        "\n",
        "Getting Location of 223 Twin Dolphin Drive, Redwood City, CA, USA\n",
        "Found Location."
       ]
      },
      {
       "output_type": "stream",
       "stream": "stdout",
       "text": [
        "\n",
        "Getting Location of Sandton, Johannesburg, South Africa\n",
        "Found Location."
       ]
      },
      {
       "output_type": "stream",
       "stream": "stdout",
       "text": [
        "\n",
        "Getting Location of Rua Prof. Milton Rodrigues, s/n, S\u00e3o Paulo, Brazil\n",
        "Found Location."
       ]
      },
      {
       "output_type": "stream",
       "stream": "stdout",
       "text": [
        "\n",
        "Getting Location of University of California, Berkeley, Berkeley, CA, USA\n",
        "Found Location."
       ]
      },
      {
       "output_type": "stream",
       "stream": "stdout",
       "text": [
        "\n",
        "Getting Location of 3400 N Charles St, Baltimore, MD, USA\n",
        "Found Location."
       ]
      },
      {
       "output_type": "stream",
       "stream": "stdout",
       "text": [
        "\n",
        "Getting Location of Shili Avenue, Jiujiang, China\n",
        "Found Location."
       ]
      },
      {
       "output_type": "stream",
       "stream": "stdout",
       "text": [
        "\n",
        "Getting Location of Cornell University, Ithaca, NY, USA\n",
        "Found Location."
       ]
      },
      {
       "output_type": "stream",
       "stream": "stdout",
       "text": [
        "\n",
        "Getting Location of ARCHBISHOP MAKARIOS III AVENUE, NICOSIA, Nicosia, Cyprus\n",
        "Found Location."
       ]
      },
      {
       "output_type": "stream",
       "stream": "stdout",
       "text": [
        "\n",
        "Getting Location of 0001 Haidian District, Beijing, China\n",
        "Found Location."
       ]
      },
      {
       "output_type": "stream",
       "stream": "stdout",
       "text": [
        "\n",
        "Getting Location of Raleigh Convention Center, Raleigh, NC, USA\n",
        "Found Location."
       ]
      },
      {
       "output_type": "stream",
       "stream": "stdout",
       "text": [
        "\n",
        "Getting Location of Jiading, Shanghai, China\n",
        "Found Location."
       ]
      },
      {
       "output_type": "stream",
       "stream": "stdout",
       "text": [
        "\n",
        "Getting Location of Hotel Nikko Tianjin, Tianjin, China\n",
        "Found Location."
       ]
      },
      {
       "output_type": "stream",
       "stream": "stdout",
       "text": [
        "\n",
        "Getting Location of 77 Palm Beach, Aruba, Aruba\n",
        "Found Location."
       ]
      },
      {
       "output_type": "stream",
       "stream": "stdout",
       "text": [
        "\n",
        "Getting Location of 69-425 Waikoloa Beach Drive, Waikoloa, HI, USA\n",
        "Found Location."
       ]
      },
      {
       "output_type": "stream",
       "stream": "stdout",
       "text": [
        "\n",
        "Getting Location of 77 Palm Beach, Aruba, Aruba\n",
        "Found Location."
       ]
      },
      {
       "output_type": "stream",
       "stream": "stdout",
       "text": [
        "\n",
        "Getting Location of 800 Dongchuan Road, Shangai, China\n",
        "Found Location."
       ]
      },
      {
       "output_type": "stream",
       "stream": "stdout",
       "text": [
        "\n",
        "Getting Location of International Conference Hotel Nanjing, Nanjing, China\n",
        "Found Location."
       ]
      },
      {
       "output_type": "stream",
       "stream": "stdout",
       "text": [
        "\n",
        "Getting Location of 11 Eleftherias square, Heraklion, Crete, Greece\n",
        "Found Location."
       ]
      },
      {
       "output_type": "stream",
       "stream": "stdout",
       "text": [
        "\n",
        "Getting Location of 201 Waterfront Street, National Harbor, MD, USA\n",
        "Found Location."
       ]
      },
      {
       "output_type": "stream",
       "stream": "stdout",
       "text": [
        "\n",
        "Getting Location of TBD, Porto Alegre RS, Brazil\n",
        "Found Location."
       ]
      },
      {
       "output_type": "stream",
       "stream": "stdout",
       "text": [
        "\n",
        "Getting Location of Ryerson University, Toronto, ON, Canada\n",
        "Found Location."
       ]
      },
      {
       "output_type": "stream",
       "stream": "stdout",
       "text": [
        "\n",
        "Getting Location of Chester Street, Manchester, United Kingdom\n",
        "Found Location."
       ]
      },
      {
       "output_type": "stream",
       "stream": "stdout",
       "text": [
        "\n",
        "Getting Location of No.794 Huanghe Road,Shahekou District, Dalian, China\n",
        "Found Location."
       ]
      },
      {
       "output_type": "stream",
       "stream": "stdout",
       "text": [
        "\n",
        "Getting Location of Sir C.V. Raman Avenue, Bangalore, India\n",
        "Found Location."
       ]
      },
      {
       "output_type": "stream",
       "stream": "stdout",
       "text": [
        "\n",
        "Getting Location of Aros Congress Centre, Sweden\n",
        "\n",
        "Aros Congress Centre, Sweden"
       ]
      },
      {
       "output_type": "stream",
       "stream": "stdout",
       "text": [
        "\n",
        "not found! Tryin:\n",
        "Sweden\n",
        "Found Location."
       ]
      },
      {
       "output_type": "stream",
       "stream": "stdout",
       "text": [
        "\n",
        "Getting Location of Marriott Rive Gauche, Paris, France\n",
        "\n",
        "Marriott Rive Gauche, Paris, France"
       ]
      },
      {
       "output_type": "stream",
       "stream": "stdout",
       "text": [
        "\n",
        "not found! Tryin:\n",
        "Paris, France\n",
        "Found Location."
       ]
      },
      {
       "output_type": "stream",
       "stream": "stdout",
       "text": [
        "\n",
        "Getting Location of 475, Avenue President, Montreal, QC, Canada\n",
        "Found Location."
       ]
      },
      {
       "output_type": "stream",
       "stream": "stdout",
       "text": [
        "\n",
        "Getting Location of Karlsplatz 13, Vienna, Austria\n",
        "Found Location."
       ]
      },
      {
       "output_type": "stream",
       "stream": "stdout",
       "text": [
        "\n",
        "Getting Location of TBD, Chengdu, China\n",
        "Found Location."
       ]
      },
      {
       "output_type": "stream",
       "stream": "stdout",
       "text": [
        "\n",
        "Getting Location of 463 Belleville St., Victoria, BC, Canada\n",
        "Found Location."
       ]
      },
      {
       "output_type": "stream",
       "stream": "stdout",
       "text": [
        "\n",
        "Getting Location of Quebec City Convention Centre, Quebec City, QC, Canada\n",
        "Found Location."
       ]
      },
      {
       "output_type": "stream",
       "stream": "stdout",
       "text": [
        "\n",
        "Getting Location of TBD, TBD , China\n",
        "No location determined yet.\n",
        "Getting Location of TBC, Lanzhou, China\n",
        "Found Location."
       ]
      },
      {
       "output_type": "stream",
       "stream": "stdout",
       "text": [
        "\n",
        "Getting Location of Rajasthan, Ajmer, India\n",
        "Found Location."
       ]
      },
      {
       "output_type": "stream",
       "stream": "stdout",
       "text": [
        "\n",
        "Getting Location of Hefei, Anhui, Hefei, China\n",
        "Found Location."
       ]
      },
      {
       "output_type": "stream",
       "stream": "stdout",
       "text": [
        "\n",
        "Getting Location of Haidian District, Beijing, China\n",
        "Found Location."
       ]
      },
      {
       "output_type": "stream",
       "stream": "stdout",
       "text": [
        "\n",
        "Getting Location of Univerzitna 8215/1, Zilina, Slovakia\n",
        "Found Location."
       ]
      },
      {
       "output_type": "stream",
       "stream": "stdout",
       "text": [
        "\n",
        "Getting Location of No.6 South Yanta Road, Xi'an, China, Xi'an, China\n",
        "Found Location."
       ]
      },
      {
       "output_type": "stream",
       "stream": "stdout",
       "text": [
        "\n",
        "Getting Location of Loughborough University, Loughborough, United Kingdom\n",
        "Found Location."
       ]
      },
      {
       "output_type": "stream",
       "stream": "stdout",
       "text": [
        "\n",
        "Getting Location of TBD, Shanghai, China\n",
        "Found Location."
       ]
      },
      {
       "output_type": "stream",
       "stream": "stdout",
       "text": [
        "\n",
        "Getting Location of Dorfstrasse 33, Engelberg, Switzerland\n",
        "Found Location."
       ]
      },
      {
       "output_type": "stream",
       "stream": "stdout",
       "text": [
        "\n",
        "Getting Location of South Road, Durham, United Kingdom\n",
        "Found Location."
       ]
      },
      {
       "output_type": "stream",
       "stream": "stdout",
       "text": [
        "\n",
        "Getting Location of No.1200, North Caoxi Road, Baoshan District, Shanghai,China, Shanghai, China\n",
        "Found Location."
       ]
      },
      {
       "output_type": "stream",
       "stream": "stdout",
       "text": [
        "\n",
        "Getting Location of Cuesta de Oviedo, s/n, Salamanca, Spain\n",
        "Found Location."
       ]
      },
      {
       "output_type": "stream",
       "stream": "stdout",
       "text": [
        "\n",
        "Getting Location of Memphis Cook County Convention Center, Memphis, TN, USA\n",
        "Found Location."
       ]
      },
      {
       "output_type": "stream",
       "stream": "stdout",
       "text": [
        "\n",
        "Getting Location of Chaoyang District, Beijing, China\n",
        "Found Location."
       ]
      },
      {
       "output_type": "stream",
       "stream": "stdout",
       "text": [
        "\n",
        "Getting Location of Chaoyang District, Beijing, China\n",
        "Found Location."
       ]
      },
      {
       "output_type": "stream",
       "stream": "stdout",
       "text": [
        "\n",
        "Getting Location of Beijing International Convention Center, Beijing, China\n",
        "Found Location."
       ]
      },
      {
       "output_type": "stream",
       "stream": "stdout",
       "text": [
        "\n",
        "Getting Location of Chaoyang District, Beijing, China\n",
        "Found Location."
       ]
      },
      {
       "output_type": "stream",
       "stream": "stdout",
       "text": [
        "\n",
        "Getting Location of Gusshausstrasse 27-29, Vienna, Austria\n",
        "Found Location."
       ]
      },
      {
       "output_type": "stream",
       "stream": "stdout",
       "text": [
        "\n",
        "Getting Location of No. 19, Keji Road, Jinzhou, China\n",
        "Found Location."
       ]
      },
      {
       "output_type": "stream",
       "stream": "stdout",
       "text": [
        "\n",
        "Getting Location of Minami-Ku, Kyoto, Japan\n",
        "Found Location."
       ]
      },
      {
       "output_type": "stream",
       "stream": "stdout",
       "text": [
        "\n",
        "Getting Location of Joseph-von-Fraunhofer-Str. 2-4, Dortmund, Germany\n",
        "Google API Query Limit reached. Waiting... (maybe you should renew your IP)"
       ]
      },
      {
       "output_type": "stream",
       "stream": "stdout",
       "text": [
        "\n",
        "Found Location."
       ]
      },
      {
       "output_type": "stream",
       "stream": "stdout",
       "text": [
        "\n",
        "Getting Location of 1128 West Hastings Street, Vancouver, BC, Canada\n",
        "Found Location."
       ]
      },
      {
       "output_type": "stream",
       "stream": "stdout",
       "text": [
        "\n",
        "Getting Location of Shanghai Jiao Tong University, China\n",
        "Found Location."
       ]
      },
      {
       "output_type": "stream",
       "stream": "stdout",
       "text": [
        "\n",
        "Getting Location of Cesta svobode 12, Bled, Slovenia\n",
        "Found Location."
       ]
      },
      {
       "output_type": "stream",
       "stream": "stdout",
       "text": [
        "\n",
        "Getting Location of Stephen Riady Centre, Singapore, Singapore\n",
        "Found Location."
       ]
      },
      {
       "output_type": "stream",
       "stream": "stdout",
       "text": [
        "\n",
        "Getting Location of 10 Bayfront Avenue, Singapore\n",
        "Found Location."
       ]
      },
      {
       "output_type": "stream",
       "stream": "stdout",
       "text": [
        "\n",
        "Getting Location of 223 Twin Dolphin Drive, Redwood City, CA, USA\n",
        "Found Location."
       ]
      },
      {
       "output_type": "stream",
       "stream": "stdout",
       "text": [
        "\n",
        "Getting Location of 97A Moskovsky Prospekt, Saint Petersburg, Russia\n",
        "Found Location."
       ]
      },
      {
       "output_type": "stream",
       "stream": "stdout",
       "text": [
        "\n",
        "Getting Location of TBD, Gold Coast, Australia\n",
        "Found Location."
       ]
      },
      {
       "output_type": "stream",
       "stream": "stdout",
       "text": [
        "\n",
        "Getting Location of Hawaii Convention Center, Honolulu, HI, USA\n",
        "Found Location."
       ]
      },
      {
       "output_type": "stream",
       "stream": "stdout",
       "text": [
        "\n",
        "Getting Location of Hilton Anchorage, Anchorage, AK, USA\n",
        "\n",
        "Hilton Anchorage, Anchorage, AK, USA"
       ]
      },
      {
       "output_type": "stream",
       "stream": "stdout",
       "text": [
        "\n",
        "not found! Tryin:\n",
        "Anchorage, AK, USA\n",
        "Found Location."
       ]
      },
      {
       "output_type": "stream",
       "stream": "stdout",
       "text": [
        "\n",
        "Getting Location of 500 West Third Avenue, Anchorage, AK, USA\n",
        "Found Location."
       ]
      },
      {
       "output_type": "stream",
       "stream": "stdout",
       "text": [
        "\n",
        "Getting Location of Hilton Anchorage, Anchorage, AK, USA\n",
        "\n",
        "Hilton Anchorage, Anchorage, AK, USA"
       ]
      },
      {
       "output_type": "stream",
       "stream": "stdout",
       "text": [
        "\n",
        "not found! Tryin:\n",
        "Anchorage, AK, USA\n",
        "Found Location."
       ]
      },
      {
       "output_type": "stream",
       "stream": "stdout",
       "text": [
        "\n",
        "Getting Location of Hilton Anchorage, Anchorage, AK, USA\n",
        "\n",
        "Hilton Anchorage, Anchorage, AK, USA"
       ]
      },
      {
       "output_type": "stream",
       "stream": "stdout",
       "text": [
        "\n",
        "not found! Tryin:\n",
        "Anchorage, AK, USA\n",
        "Found Location."
       ]
      },
      {
       "output_type": "stream",
       "stream": "stdout",
       "text": [
        "\n",
        "Getting Location of China, Beijing, China\n",
        "Found Location."
       ]
      },
      {
       "output_type": "stream",
       "stream": "stdout",
       "text": [
        "\n",
        "Getting Location of 500 West Third Avenue, Anchorage, AK, USA\n",
        "Found Location."
       ]
      },
      {
       "output_type": "stream",
       "stream": "stdout",
       "text": [
        "\n",
        "Getting Location of 500 West Third Avenue, Anchorage, Anchorage, AK, USA\n",
        "Found Location."
       ]
      },
      {
       "output_type": "stream",
       "stream": "stdout",
       "text": [
        "\n",
        "Getting Location of Niels Jernes Vej 10, Aalborg Oest, Denmark\n",
        "Google API Query Limit reached. Waiting... (maybe you should renew your IP)"
       ]
      },
      {
       "output_type": "stream",
       "stream": "stdout",
       "text": [
        "\n",
        "Found Location."
       ]
      },
      {
       "output_type": "stream",
       "stream": "stdout",
       "text": [
        "\n",
        "Getting Location of Niels Jernes Vej 10, Aalborg Oest, Denmark\n",
        "Found Location."
       ]
      },
      {
       "output_type": "stream",
       "stream": "stdout",
       "text": [
        "\n",
        "Getting Location of La Marsa \u2013 Les C\u00f4tes de Carthage  2013 - Tunis - Tunisie, Tunis La Marsa, Tunisia\n",
        "Found Location."
       ]
      },
      {
       "output_type": "stream",
       "stream": "stdout",
       "text": [
        "\n",
        "Getting Location of Tsinghua University, Beijing, China\n",
        "Found Location."
       ]
      },
      {
       "output_type": "stream",
       "stream": "stdout",
       "text": [
        "\n",
        "Getting Location of Strasbourg Convention and  Exhibition Center, Strasbourg, France\n",
        "Found Location."
       ]
      },
      {
       "output_type": "stream",
       "stream": "stdout",
       "text": [
        "\n",
        "Getting Location of 2800 Presidential Drive, Fairborn, OH, USA\n",
        "Found Location."
       ]
      },
      {
       "output_type": "stream",
       "stream": "stdout",
       "text": [
        "\n",
        "Getting Location of Waltham, Boston, MA, USA\n",
        "Found Location."
       ]
      },
      {
       "output_type": "stream",
       "stream": "stdout",
       "text": [
        "\n",
        "Getting Location of Galway, Galway, Ireland\n",
        "Found Location."
       ]
      },
      {
       "output_type": "stream",
       "stream": "stdout",
       "text": [
        "\n",
        "Getting Location of Brunow Palace, Lwowek Slaski, Poland\n",
        "Found Location."
       ]
      },
      {
       "output_type": "stream",
       "stream": "stdout",
       "text": [
        "\n",
        "Getting Location of S.S. 172 dei Trulli Km. 29,800, Alberobello, Italy\n",
        "Found Location."
       ]
      },
      {
       "output_type": "stream",
       "stream": "stdout",
       "text": [
        "\n",
        "Getting Location of Viale A. Doria 6, Catania, Italy\n",
        "Found Location."
       ]
      },
      {
       "output_type": "stream",
       "stream": "stdout",
       "text": [
        "\n",
        "Getting Location of 800 Spring St. NW, Atlanta, GA, USA\n",
        "Found Location."
       ]
      },
      {
       "output_type": "stream",
       "stream": "stdout",
       "text": [
        "\n",
        "Getting Location of Paseo del Parrote, 2-4, A Coru\u00f1a, Spain\n",
        "Found Location."
       ]
      },
      {
       "output_type": "stream",
       "stream": "stdout",
       "text": [
        "\n",
        "Getting Location of Avda.de los Castros s/n, Santander, Spain\n",
        "Found Location."
       ]
      },
      {
       "output_type": "stream",
       "stream": "stdout",
       "text": [
        "\n",
        "Getting Location of 3405 Lenox Road NE, ATLANTA, GA, USA\n",
        "Found Location."
       ]
      },
      {
       "output_type": "stream",
       "stream": "stdout",
       "text": [
        "\n",
        "Getting Location of 7 Hart House Circle, Toronto, ON, Canada\n",
        "Found Location."
       ]
      },
      {
       "output_type": "stream",
       "stream": "stdout",
       "text": [
        "\n",
        "Getting Location of Columbus Convention Center, Columbus, OH, USA\n",
        "Found Location."
       ]
      },
      {
       "output_type": "stream",
       "stream": "stdout",
       "text": [
        "\n",
        "Getting Location of National Chung Hsing University, Taichung, Taiwan\n",
        "Found Location."
       ]
      },
      {
       "output_type": "stream",
       "stream": "stdout",
       "text": [
        "\n",
        "Getting Location of Evergreen Laurel Hotel, Taichung, Taiwan\n",
        "Found Location."
       ]
      },
      {
       "output_type": "stream",
       "stream": "stdout",
       "text": [
        "\n",
        "Getting Location of Evergreen Laurel Hotel, Taichung, Taiwan\n",
        "Found Location."
       ]
      },
      {
       "output_type": "stream",
       "stream": "stdout",
       "text": [
        "\n",
        "Getting Location of Via M. Mazzella, 70, Ischia, Italy\n",
        "Found Location."
       ]
      },
      {
       "output_type": "stream",
       "stream": "stdout",
       "text": [
        "\n",
        "Getting Location of S. Bandera St., 12, Ukraine\n",
        "Found Location."
       ]
      },
      {
       "output_type": "stream",
       "stream": "stdout",
       "text": [
        "\n",
        "Getting Location of Universit\u00e4tsstr. 65-67, Klagenfurt, Austria\n",
        "Found Location."
       ]
      },
      {
       "output_type": "stream",
       "stream": "stdout",
       "text": [
        "\n",
        "Getting Location of C/Sant Joan de La Salle 42, Barcelona, Spain\n",
        "Found Location."
       ]
      },
      {
       "output_type": "stream",
       "stream": "stdout",
       "text": [
        "\n",
        "Getting Location of 1107 Jamboree Rd, Newport Beach, CA, USA\n",
        "Found Location."
       ]
      },
      {
       "output_type": "stream",
       "stream": "stdout",
       "text": [
        "\n",
        "Getting Location of IIT Madras, Chennai, India\n",
        "Found Location."
       ]
      },
      {
       "output_type": "stream",
       "stream": "stdout",
       "text": [
        "\n",
        "Getting Location of S. Bandery St., 12, Lviv, Ukraine\n",
        "Found Location."
       ]
      },
      {
       "output_type": "stream",
       "stream": "stdout",
       "text": [
        "\n",
        "Getting Location of 52 Oxford Street, Cambridge, MA, USA\n",
        "Found Location."
       ]
      },
      {
       "output_type": "stream",
       "stream": "stdout",
       "text": [
        "\n",
        "Getting Location of 600 Town Center Drive, Dearborn, MI, USA\n",
        "Found Location."
       ]
      },
      {
       "output_type": "stream",
       "stream": "stdout",
       "text": [
        "\n",
        "Getting Location of Hilton Waikoloa Village, Waikoloa, HI, USA\n",
        "\n",
        "Hilton Waikoloa Village, Waikoloa, HI, USA"
       ]
      },
      {
       "output_type": "stream",
       "stream": "stdout",
       "text": [
        "\n",
        "not found! Tryin:\n",
        "Waikoloa, HI, USA\n",
        "Found Location."
       ]
      },
      {
       "output_type": "stream",
       "stream": "stdout",
       "text": [
        "\n",
        "Getting Location of 1001 Marquette Avenue, Minneapolis, MN, USA\n",
        "Found Location."
       ]
      },
      {
       "output_type": "stream",
       "stream": "stdout",
       "text": [
        "\n",
        "Getting Location of 8535 West Higgins Road, Chicago, IL, USA\n",
        "Found Location."
       ]
      },
      {
       "output_type": "stream",
       "stream": "stdout",
       "text": [
        "\n",
        "Getting Location of Hilton Hawaiian Village, Honolulu, HI, USA\n",
        "Found Location."
       ]
      },
      {
       "output_type": "stream",
       "stream": "stdout",
       "text": [
        "\n",
        "Getting Location of Bar Ilan University, Ramat Gan, Israel\n",
        "Found Location."
       ]
      },
      {
       "output_type": "stream",
       "stream": "stdout",
       "text": [
        "\n",
        "Getting Location of San Mart\u00edn 536, Bariloche, Argentina\n",
        "Found Location."
       ]
      },
      {
       "output_type": "stream",
       "stream": "stdout",
       "text": [
        "\n",
        "Getting Location of Avenida For\u00e7as Armadas, Lisboa, Portugal\n",
        "Found Location."
       ]
      },
      {
       "output_type": "stream",
       "stream": "stdout",
       "text": [
        "\n",
        "Getting Location of Parkali 4, Rakvere, Estonia\n",
        "Found Location."
       ]
      },
      {
       "output_type": "stream",
       "stream": "stdout",
       "text": [
        "\n",
        "Getting Location of 125 2nd St NW, Albuquerque, NM, USA\n",
        "Found Location."
       ]
      },
      {
       "output_type": "stream",
       "stream": "stdout",
       "text": [
        "\n",
        "Getting Location of 125 2nd St NW, Albuquerque, NM, USA\n",
        "Found Location."
       ]
      },
      {
       "output_type": "stream",
       "stream": "stdout",
       "text": [
        "\n",
        "Getting Location of 6 Taichung Kang Road, Sec., 2, Taichung , Taiwan\n",
        "Found Location."
       ]
      },
      {
       "output_type": "stream",
       "stream": "stdout",
       "text": [
        "\n",
        "Getting Location of Hilton Hawaiian Village, Honolulu, HI, USA\n",
        "Found Location."
       ]
      },
      {
       "output_type": "stream",
       "stream": "stdout",
       "text": [
        "\n",
        "Getting Location of 2707 S Virginia St Reno, Reno, NV, USA\n",
        "Found Location."
       ]
      },
      {
       "output_type": "stream",
       "stream": "stdout",
       "text": [
        "\n",
        "Getting Location of 488 George Street, Sydney, Australia\n",
        "Found Location."
       ]
      },
      {
       "output_type": "stream",
       "stream": "stdout",
       "text": [
        "\n",
        "Getting Location of No.188-200 Moganshan Road, Gongshu District, Hangzhou, China\n",
        "Found Location."
       ]
      },
      {
       "output_type": "stream",
       "stream": "stdout",
       "text": [
        "\n",
        "Getting Location of Porto Conte, 52, Alghero , Italy\n",
        "Found Location."
       ]
      },
      {
       "output_type": "stream",
       "stream": "stdout",
       "text": [
        "\n",
        "Getting Location of TBD, Philadelphia, PA, USA\n",
        "Found Location."
       ]
      },
      {
       "output_type": "stream",
       "stream": "stdout",
       "text": [
        "\n",
        "Getting Location of TBD, MI, USA\n",
        "Found Location."
       ]
      },
      {
       "output_type": "stream",
       "stream": "stdout",
       "text": [
        "\n",
        "Getting Location of Colorado Convention Center, Denver, CO, USA\n",
        "Found Location."
       ]
      },
      {
       "output_type": "stream",
       "stream": "stdout",
       "text": [
        "\n",
        "Getting Location of Waikiki, Honolulu, HI, USA\n",
        "Found Location."
       ]
      },
      {
       "output_type": "stream",
       "stream": "stdout",
       "text": [
        "\n",
        "Getting Location of Rancho Bernardo Inn, San Diego, CA, USA\n",
        "\n",
        "Rancho Bernardo Inn, San Diego, CA, USA"
       ]
      },
      {
       "output_type": "stream",
       "stream": "stdout",
       "text": [
        "\n",
        "not found! Tryin:\n",
        "San Diego, CA, USA\n",
        "Found Location."
       ]
      },
      {
       "output_type": "stream",
       "stream": "stdout",
       "text": [
        "\n",
        "Getting Location of Marriott Waterside Hotel and Marina, Tampa, FL, USA\n",
        "Found Location."
       ]
      },
      {
       "output_type": "stream",
       "stream": "stdout",
       "text": [
        "\n",
        "Getting Location of Milwaukee School of Engineering, Milwaukee, WI, USA\n",
        "Found Location."
       ]
      },
      {
       "output_type": "stream",
       "stream": "stdout",
       "text": [
        "\n",
        "Getting Location of Hilton Portland and Executive Tower, Portland, OR, USA\n",
        "Found Location."
       ]
      },
      {
       "output_type": "stream",
       "stream": "stdout",
       "text": [
        "\n",
        "Getting Location of 1 Expo Drive, Wanchai, Hong Kong, Hong Kong\n",
        "Found Location."
       ]
      },
      {
       "output_type": "stream",
       "stream": "stdout",
       "text": [
        "\n",
        "Getting Location of Piazza Leonardo da Vinci, 32, Milano, Italy\n",
        "Found Location."
       ]
      },
      {
       "output_type": "stream",
       "stream": "stdout",
       "text": [
        "\n",
        "Getting Location of 61, Moika, 191186,  Saint-Petersburg, RUSSIA, Saint-Petersburg, Russia\n",
        "Found Location."
       ]
      },
      {
       "output_type": "stream",
       "stream": "stdout",
       "text": [
        "\n",
        "Getting Location of Jalan Ampang  50088 Kuala Lumpur, Kuala Lumpur, Malaysia\n",
        "Found Location."
       ]
      },
      {
       "output_type": "stream",
       "stream": "stdout",
       "text": [
        "\n",
        "Getting Location of Schatzweg 177, Linz, Austria\n",
        "Found Location."
       ]
      },
      {
       "output_type": "stream",
       "stream": "stdout",
       "text": [
        "\n",
        "Getting Location of Moscone Center, San Francisco, CA, USA\n",
        "Found Location."
       ]
      },
      {
       "output_type": "stream",
       "stream": "stdout",
       "text": [
        "\n",
        "Getting Location of Moscone Center, San Francisco, CA, USA\n",
        "Found Location."
       ]
      },
      {
       "output_type": "stream",
       "stream": "stdout",
       "text": [
        "\n",
        "Getting Location of Polytekhnichna Str. 16, Kyiv, Ukraine\n",
        "Found Location."
       ]
      },
      {
       "output_type": "stream",
       "stream": "stdout",
       "text": [
        "\n",
        "Getting Location of Polytekhnichna Str. 16, Kyiv, Ukraine\n",
        "Found Location."
       ]
      },
      {
       "output_type": "stream",
       "stream": "stdout",
       "text": [
        "\n",
        "Getting Location of Calle Joaquin Costas 28, Santander, Spain\n",
        "Found Location."
       ]
      },
      {
       "output_type": "stream",
       "stream": "stdout",
       "text": [
        "\n",
        "Getting Location of Cyberabad Post Office, Hyderabad, India\n",
        "Found Location."
       ]
      },
      {
       "output_type": "stream",
       "stream": "stdout",
       "text": [
        "\n",
        "Getting Location of Tampa Convention Center, Tampa, FL, USA\n",
        "Found Location."
       ]
      },
      {
       "output_type": "stream",
       "stream": "stdout",
       "text": [
        "\n",
        "Getting Location of Hilton Waikoloa Village, Waikoloa, HI, USA\n",
        "\n",
        "Hilton Waikoloa Village, Waikoloa, HI, USA"
       ]
      },
      {
       "output_type": "stream",
       "stream": "stdout",
       "text": [
        "\n",
        "not found! Tryin:\n",
        "Waikoloa, HI, USA\n",
        "Found Location."
       ]
      },
      {
       "output_type": "stream",
       "stream": "stdout",
       "text": [
        "\n",
        "Getting Location of 6-1 Bandaijima, Chuo-ku, Niigata City, Japan\n",
        "Found Location."
       ]
      },
      {
       "output_type": "stream",
       "stream": "stdout",
       "text": [
        "\n",
        "Getting Location of 201 W. Marcy St., Santa Fe, NM, USA\n",
        "Found Location."
       ]
      },
      {
       "output_type": "stream",
       "stream": "stdout",
       "text": [
        "\n",
        "Getting Location of Mont - Royal, Montreal, QC, Canada\n",
        "Found Location."
       ]
      },
      {
       "output_type": "stream",
       "stream": "stdout",
       "text": [
        "\n",
        "Getting Location of Cumhuriyet Cad., Harbiye, Istanbul, Turkey\n",
        "Found Location."
       ]
      },
      {
       "output_type": "stream",
       "stream": "stdout",
       "text": [
        "\n",
        "Getting Location of 2 Princess Street, Kingston, ON, Canada\n",
        "Found Location."
       ]
      },
      {
       "output_type": "stream",
       "stream": "stdout",
       "text": [
        "\n",
        "Getting Location of Hotel Las Areanas Balneario Resort, Spain\n",
        "\n",
        "Hotel Las Areanas Balneario Resort, Spain"
       ]
      },
      {
       "output_type": "stream",
       "stream": "stdout",
       "text": [
        "\n",
        "not found! Tryin:\n",
        "Spain\n",
        "Found Location."
       ]
      },
      {
       "output_type": "stream",
       "stream": "stdout",
       "text": [
        "\n",
        "Getting Location of South Wharf, Melbourne VIC, Australia\n",
        "Found Location."
       ]
      },
      {
       "output_type": "stream",
       "stream": "stdout",
       "text": [
        "\n",
        "Getting Location of 333 South Franklin Street, Tampa, FL, USA\n",
        "Found Location."
       ]
      },
      {
       "output_type": "stream",
       "stream": "stdout",
       "text": [
        "\n",
        "Getting Location of Hong Kong Convention and Exhibition Center, Hong Kong, China\n",
        "Found Location."
       ]
      },
      {
       "output_type": "stream",
       "stream": "stdout",
       "text": [
        "\n",
        "Getting Location of Shenzhen Graduate School, Harbin Institute of Technology, Shenzhen City, China, China\n",
        "Found Location."
       ]
      },
      {
       "output_type": "stream",
       "stream": "stdout",
       "text": [
        "\n",
        "Getting Location of Piazza Guerrazzi, 1, BENEVENTO, Italy\n",
        "Found Location."
       ]
      },
      {
       "output_type": "stream",
       "stream": "stdout",
       "text": [
        "\n",
        "Getting Location of Constantin Mile Street, No .1, Bucharest, Romania\n",
        "Found Location."
       ]
      },
      {
       "output_type": "stream",
       "stream": "stdout",
       "text": [
        "\n",
        "Getting Location of Rynek G\u0142\u00f3wny 25, Krak\u00f3w, Poland\n",
        "Found Location."
       ]
      },
      {
       "output_type": "stream",
       "stream": "stdout",
       "text": [
        "\n",
        "Getting Location of Terusan Buah Batu, Bandung, Indonesia\n",
        "Found Location."
       ]
      },
      {
       "output_type": "stream",
       "stream": "stdout",
       "text": [
        "\n",
        "Getting Location of Leskove 583, Velke Karlovice, Czech Republic\n",
        "Found Location."
       ]
      },
      {
       "output_type": "stream",
       "stream": "stdout",
       "text": [
        "\n",
        "Getting Location of 7171 Southwest Parkway, Austin, TX, USA\n",
        "Found Location."
       ]
      },
      {
       "output_type": "stream",
       "stream": "stdout",
       "text": [
        "\n",
        "Getting Location of Royal Mirage Hotel.  Avenue de la Menara, P.O Box 528, Marrakech, Morocco\n",
        "Found Location."
       ]
      },
      {
       "output_type": "stream",
       "stream": "stdout",
       "text": [
        "\n",
        "Getting Location of Walt Disney World Swan & Dolphin Hotel, Orlando, FL, USA\n",
        "Found Location."
       ]
      },
      {
       "output_type": "stream",
       "stream": "stdout",
       "text": [
        "\n",
        "Getting Location of Walt Disney Swan & Dolphin, Orlando, FL, USA\n",
        "Found Location."
       ]
      },
      {
       "output_type": "stream",
       "stream": "stdout",
       "text": [
        "\n",
        "Getting Location of 75 Headquarters Drive, San Jose, CA, USA\n",
        "Found Location."
       ]
      },
      {
       "output_type": "stream",
       "stream": "stdout",
       "text": [
        "\n",
        "Getting Location of 75 Headquarters Drive, San Jose, CA, USA\n",
        "Found Location."
       ]
      },
      {
       "output_type": "stream",
       "stream": "stdout",
       "text": [
        "\n",
        "Getting Location of Bonnet Creek, Orlando, FL, USA\n",
        "Found Location."
       ]
      },
      {
       "output_type": "stream",
       "stream": "stdout",
       "text": [
        "\n",
        "Getting Location of 2500 Calvert Street NW, Washington, DC, USA\n",
        "Found Location."
       ]
      },
      {
       "output_type": "stream",
       "stream": "stdout",
       "text": [
        "\n",
        "Getting Location of One Gustave L. Levy Pl, New York, NY, USA\n",
        "Found Location."
       ]
      },
      {
       "output_type": "stream",
       "stream": "stdout",
       "text": [
        "\n",
        "Getting Location of SOKOS HOTEL VIRU, TALLINN, Estonia\n",
        "Found Location."
       ]
      },
      {
       "output_type": "stream",
       "stream": "stdout",
       "text": [
        "\n",
        "Getting Location of Concern CSRI Elektropribor, JSC, Saint Petersburg, Russia\n",
        "Found Location."
       ]
      },
      {
       "output_type": "stream",
       "stream": "stdout",
       "text": [
        "\n",
        "Getting Location of 101 Kasugano-machi, Nara, Japan\n",
        "Found Location."
       ]
      },
      {
       "output_type": "stream",
       "stream": "stdout",
       "text": [
        "\n",
        "Getting Location of F\u00fcrstenallee 7, Paderborn, Germany\n",
        "Found Location."
       ]
      },
      {
       "output_type": "stream",
       "stream": "stdout",
       "text": [
        "\n",
        "Getting Location of Hong Kong Polytechnic University, Hong Kong\n",
        "Found Location."
       ]
      },
      {
       "output_type": "stream",
       "stream": "stdout",
       "text": [
        "\n",
        "Getting Location of 10950 North Torrey Pines Road, La Jolla, CA, USA\n",
        "Found Location."
       ]
      },
      {
       "output_type": "stream",
       "stream": "stdout",
       "text": [
        "\n",
        "Getting Location of 151 E Wacker Dr, Chicago, IL, USA\n",
        "Found Location."
       ]
      },
      {
       "output_type": "stream",
       "stream": "stdout",
       "text": [
        "\n",
        "Getting Location of R. Augusto Viana, s/n - Canela  Salvador -, Salvador, Brazil\n",
        "Found Location."
       ]
      },
      {
       "output_type": "stream",
       "stream": "stdout",
       "text": [
        "\n",
        "Getting Location of Marriott Wardman Park, Washington, DC, USA\n",
        "\n",
        "Marriott Wardman Park, Washington, DC, USA"
       ]
      },
      {
       "output_type": "stream",
       "stream": "stdout",
       "text": [
        "\n",
        "not found! Tryin:\n",
        "Washington, DC, USA\n",
        "Found Location."
       ]
      },
      {
       "output_type": "stream",
       "stream": "stdout",
       "text": [
        "\n",
        "Getting Location of Fai della Paganella, Trento, Italy\n",
        "Found Location."
       ]
      },
      {
       "output_type": "stream",
       "stream": "stdout",
       "text": [
        "\n",
        "Getting Location of John F Kennedy Boulevard, Willemstad, Curacao\n",
        "Found Location."
       ]
      },
      {
       "output_type": "stream",
       "stream": "stdout",
       "text": [
        "\n",
        "Getting Location of Allee de l'Imperial, Annecy, France\n",
        "Found Location."
       ]
      },
      {
       "output_type": "stream",
       "stream": "stdout",
       "text": [
        "\n",
        "Getting Location of Splaiul Independentei 313, Bucharest, Romania\n",
        "Found Location."
       ]
      },
      {
       "output_type": "stream",
       "stream": "stdout",
       "text": [
        "\n",
        "Getting Location of 8535 West Higgins Road, Chicago, IL, USA\n",
        "Found Location."
       ]
      },
      {
       "output_type": "stream",
       "stream": "stdout",
       "text": [
        "\n",
        "Getting Location of Moeciu de Sus, Bran, Romania\n",
        "Found Location."
       ]
      },
      {
       "output_type": "stream",
       "stream": "stdout",
       "text": [
        "\n",
        "Getting Location of Panepistimiopolis, Ilissia, Athens, Greece\n",
        "Found Location."
       ]
      },
      {
       "output_type": "stream",
       "stream": "stdout",
       "text": [
        "\n",
        "Getting Location of University of Nevada, Reno, Reno, NV, USA\n",
        "Found Location."
       ]
      },
      {
       "output_type": "stream",
       "stream": "stdout",
       "text": [
        "\n",
        "Getting Location of 2005 Kalia Road, Honolulu, HI, USA\n",
        "Found Location."
       ]
      },
      {
       "output_type": "stream",
       "stream": "stdout",
       "text": [
        "\n",
        "Getting Location of No. 101, Section 2, Kuang-Fu Road, Hsinchu, Taiwan\n",
        "Found Location."
       ]
      },
      {
       "output_type": "stream",
       "stream": "stdout",
       "text": [
        "\n",
        "Getting Location of TBD, Kuala Lumpur, Malaysia\n",
        "Found Location."
       ]
      },
      {
       "output_type": "stream",
       "stream": "stdout",
       "text": [
        "\n",
        "Getting Location of Vilamoura, Vilamoura, Portugal\n",
        "Found Location."
       ]
      },
      {
       "output_type": "stream",
       "stream": "stdout",
       "text": [
        "\n",
        "Getting Location of 2050 Gateway Place, San Hose, CA, USA\n",
        "Found Location."
       ]
      },
      {
       "output_type": "stream",
       "stream": "stdout",
       "text": [
        "\n",
        "Getting Location of Worthington Renaissance Forth Worth Hotel, Fort Worth, TX, USA\n",
        "Found Location."
       ]
      },
      {
       "output_type": "stream",
       "stream": "stdout",
       "text": [
        "\n",
        "Getting Location of Cincinnati Marriott at Riverfront/Northern Kentucky Conventi, Cincinnati, OH, USA\n",
        "Found Location."
       ]
      },
      {
       "output_type": "stream",
       "stream": "stdout",
       "text": [
        "\n",
        "Getting Location of 8000 S. Arizona Grand Parkway, Phoenix, AZ, USA\n",
        "Found Location."
       ]
      },
      {
       "output_type": "stream",
       "stream": "stdout",
       "text": [
        "\n",
        "Getting Location of 534 Broadway, Saratoga Springs, NY, USA\n",
        "Found Location."
       ]
      },
      {
       "output_type": "stream",
       "stream": "stdout",
       "text": [
        "\n",
        "Getting Location of 2, SongShou Road, Taipei, Taiwan\n",
        "Found Location."
       ]
      },
      {
       "output_type": "stream",
       "stream": "stdout",
       "text": [
        "\n",
        "Getting Location of 2, SongShou Road, Taipei, Taiwan\n",
        "Found Location."
       ]
      },
      {
       "output_type": "stream",
       "stream": "stdout",
       "text": [
        "\n",
        "Getting Location of Bibliothekstr. 1, Bremen, Germany\n",
        "Found Location."
       ]
      },
      {
       "output_type": "stream",
       "stream": "stdout",
       "text": [
        "\n",
        "Getting Location of Conrad Hilton, Seoul, Korea (South)\n",
        "\n",
        "Conrad Hilton, Seoul, Korea (South)"
       ]
      },
      {
       "output_type": "stream",
       "stream": "stdout",
       "text": [
        "\n",
        "not found! Tryin:\n",
        "Seoul, Korea (South)\n",
        "Found Location."
       ]
      },
      {
       "output_type": "stream",
       "stream": "stdout",
       "text": [
        "\n",
        "Getting Location of Worthington Renaissance Fort Worth Hotel, Fort Worth, TX, USA\n",
        "Found Location."
       ]
      },
      {
       "output_type": "stream",
       "stream": "stdout",
       "text": [
        "\n",
        "Getting Location of Claremont Resort & Spa, Berkeley, CA, USA\n",
        "\n",
        "Claremont Resort & Spa, Berkeley, CA, USA"
       ]
      },
      {
       "output_type": "stream",
       "stream": "stdout",
       "text": [
        "\n",
        "not found! Tryin:\n",
        "Berkeley, CA, USA\n",
        "Found Location."
       ]
      },
      {
       "output_type": "stream",
       "stream": "stdout",
       "text": [
        "\n",
        "Getting Location of Naka-ku, Hiroshima, Japan\n",
        "Found Location."
       ]
      },
      {
       "output_type": "stream",
       "stream": "stdout",
       "text": [
        "\n",
        "Getting Location of 525 Southwest Morrison Street, Portland, OR, USA\n",
        "Found Location."
       ]
      },
      {
       "output_type": "stream",
       "stream": "stdout",
       "text": [
        "\n",
        "Getting Location of ZhongShan N. Rd., Taipei, Taiwan\n",
        "Found Location."
       ]
      },
      {
       "output_type": "stream",
       "stream": "stdout",
       "text": [
        "\n",
        "Getting Location of 245 E. Ina Road, Tucson, AZ, USA\n",
        "Found Location."
       ]
      },
      {
       "output_type": "stream",
       "stream": "stdout",
       "text": [
        "\n",
        "Getting Location of No. 1038 Dagu Nanlu, Hexi District, Tianjin, China 300222, Tianjin, China\n",
        "Found Location."
       ]
      },
      {
       "output_type": "stream",
       "stream": "stdout",
       "text": [
        "\n",
        "Getting Location of Warwick, Warwick, RI, USA\n",
        "Found Location."
       ]
      },
      {
       "output_type": "stream",
       "stream": "stdout",
       "text": [
        "\n",
        "Getting Location of Pudong District, Shanghai, China\n",
        "Found Location."
       ]
      },
      {
       "output_type": "stream",
       "stream": "stdout",
       "text": [
        "\n",
        "Getting Location of 2, Vasile Parvan Blvd., Timisoara, Romania\n",
        "Found Location."
       ]
      },
      {
       "output_type": "stream",
       "stream": "stdout",
       "text": [
        "\n",
        "Getting Location of Crowne Plaza Providence-Warwick Airport, Warwick, RI, USA\n",
        "Found Location."
       ]
      },
      {
       "output_type": "stream",
       "stream": "stdout",
       "text": [
        "\n",
        "Getting Location of Strada Nuova, 65, Pavia, Italy\n",
        "Found Location."
       ]
      },
      {
       "output_type": "stream",
       "stream": "stdout",
       "text": [
        "\n",
        "Getting Location of 4101 Watson Boulevard, Johnson City, NY, USA\n",
        "Found Location."
       ]
      },
      {
       "output_type": "stream",
       "stream": "stdout",
       "text": [
        "\n",
        "Getting Location of Sima Thani Hotel, Nakhon Ratchasima, Thailand\n",
        "Found Location."
       ]
      },
      {
       "output_type": "stream",
       "stream": "stdout",
       "text": [
        "\n",
        "Getting Location of Frankopanska ulica, Cavtat, Croatia\n",
        "Found Location."
       ]
      },
      {
       "output_type": "stream",
       "stream": "stdout",
       "text": [
        "\n",
        "Getting Location of Chiyoda, Tokyo, Japan\n",
        "Found Location."
       ]
      },
      {
       "output_type": "stream",
       "stream": "stdout",
       "text": [
        "\n",
        "Getting Location of TBD, Potsdam, Germany\n",
        "Found Location."
       ]
      },
      {
       "output_type": "stream",
       "stream": "stdout",
       "text": [
        "\n",
        "Getting Location of 615 rue du Jardin Botanique, Villers-l\u00e8s-Nancy, France\n",
        "Found Location."
       ]
      },
      {
       "output_type": "stream",
       "stream": "stdout",
       "text": [
        "\n",
        "Getting Location of Plaza Independencia 759, Montevideo, Uruguay\n",
        "Found Location."
       ]
      },
      {
       "output_type": "stream",
       "stream": "stdout",
       "text": [
        "\n",
        "Getting Location of Iva Dulcica 34, Dubrovnik, Croatia\n",
        "Found Location."
       ]
      },
      {
       "output_type": "stream",
       "stream": "stdout",
       "text": [
        "\n",
        "Getting Location of 215 Innovation Boulevard, State College, PA, USA\n",
        "Found Location."
       ]
      },
      {
       "output_type": "stream",
       "stream": "stdout",
       "text": [
        "\n",
        "Getting Location of TBD, Boston, MA, USA\n",
        "Found Location."
       ]
      },
      {
       "output_type": "stream",
       "stream": "stdout",
       "text": [
        "\n",
        "Getting Location of Onderbergen 1, Ghent, Belgium\n",
        "Found Location."
       ]
      },
      {
       "output_type": "stream",
       "stream": "stdout",
       "text": [
        "\n",
        "Getting Location of Topdong-ro, Jeju City, Korea (South)\n",
        "\n",
        "Topdong-ro, Jeju City, Korea (South)"
       ]
      },
      {
       "output_type": "stream",
       "stream": "stdout",
       "text": [
        "\n",
        "not found! Tryin:\n",
        "Jeju City, Korea (South)\n",
        "Found Location."
       ]
      },
      {
       "output_type": "stream",
       "stream": "stdout",
       "text": [
        "\n",
        "Getting Location of TBD, Mauritius\n",
        "\n",
        "TBD, Mauritius"
       ]
      },
      {
       "output_type": "stream",
       "stream": "stdout",
       "text": [
        "\n",
        "not found! Tryin:\n",
        "Mauritius\n",
        "Found Location."
       ]
      },
      {
       "output_type": "stream",
       "stream": "stdout",
       "text": [
        "\n",
        "Getting Location of 2, av Allal El Fassi , Madinat AL Irfane, Rabat, Morocco\n",
        "Found Location."
       ]
      },
      {
       "output_type": "stream",
       "stream": "stdout",
       "text": [
        "\n",
        "Getting Location of 1200 Collins Road NE, Cedar Rapids, IA, USA\n",
        "Found Location."
       ]
      },
      {
       "output_type": "stream",
       "stream": "stdout",
       "text": [
        "\n",
        "Getting Location of Park Inn by Radisson Krakow Hotel, Krakow, Poland\n",
        "Google API Query Limit reached. Waiting... (maybe you should renew your IP)"
       ]
      },
      {
       "output_type": "stream",
       "stream": "stdout",
       "text": [
        "\n",
        "Found Location."
       ]
      },
      {
       "output_type": "stream",
       "stream": "stdout",
       "text": [
        "\n",
        "Getting Location of VIA AURELIA, 619, Roma, Italy\n",
        "Found Location."
       ]
      },
      {
       "output_type": "stream",
       "stream": "stdout",
       "text": [
        "\n",
        "Getting Location of 1 Old Golf Course Rd., Monterey, CA, USA\n",
        "Found Location."
       ]
      },
      {
       "output_type": "stream",
       "stream": "stdout",
       "text": [
        "\n",
        "Getting Location of 350 Victoria Street, Toronto, ON, Canada\n",
        "Found Location."
       ]
      },
      {
       "output_type": "stream",
       "stream": "stdout",
       "text": [
        "\n",
        "Getting Location of 23 Avenue \u00c9douard Belin, Toulouse, France\n",
        "Found Location."
       ]
      },
      {
       "output_type": "stream",
       "stream": "stdout",
       "text": [
        "\n",
        "Getting Location of University of Ottawa, Ottawa, ON, Canada\n",
        "Found Location."
       ]
      },
      {
       "output_type": "stream",
       "stream": "stdout",
       "text": [
        "\n",
        "Getting Location of DoubleTree by Hilton, San Jose, CA, USA\n",
        "Found Location."
       ]
      },
      {
       "output_type": "stream",
       "stream": "stdout",
       "text": [
        "\n",
        "Getting Location of TBD, Dresden, Germany\n",
        "Found Location."
       ]
      },
      {
       "output_type": "stream",
       "stream": "stdout",
       "text": [
        "\n",
        "Getting Location of Loews Coronado Bay, San Diego, CA, USA\n",
        "Found Location."
       ]
      },
      {
       "output_type": "stream",
       "stream": "stdout",
       "text": [
        "\n",
        "Getting Location of Firenze Fiera - Congress and Exhibition Center, Florence, Italy\n",
        "Found Location."
       ]
      },
      {
       "output_type": "stream",
       "stream": "stdout",
       "text": [
        "\n",
        "Getting Location of NY, Farmingdale, NY, USA\n",
        "Found Location."
       ]
      },
      {
       "output_type": "stream",
       "stream": "stdout",
       "text": [
        "\n",
        "Getting Location of 50 Third Street, San Francisco, CA, USA\n",
        "Found Location."
       ]
      },
      {
       "output_type": "stream",
       "stream": "stdout",
       "text": [
        "\n",
        "Getting Location of 50 Third Street, San Francisco, CA, USA\n",
        "Found Location."
       ]
      },
      {
       "output_type": "stream",
       "stream": "stdout",
       "text": [
        "\n",
        "Getting Location of TBD, Gammarth - Tunis, Tunisia\n",
        "Found Location."
       ]
      },
      {
       "output_type": "stream",
       "stream": "stdout",
       "text": [
        "\n",
        "Getting Location of 4001 NE Stevens Way, Seattle, WA, USA\n",
        "Found Location."
       ]
      },
      {
       "output_type": "stream",
       "stream": "stdout",
       "text": [
        "\n",
        "Getting Location of Renaissance Beijing Capital Hotel, Beijing, China\n",
        "Found Location."
       ]
      },
      {
       "output_type": "stream",
       "stream": "stdout",
       "text": [
        "\n",
        "Getting Location of Beirut, Beirut, Lebanon\n",
        "Found Location."
       ]
      },
      {
       "output_type": "stream",
       "stream": "stdout",
       "text": [
        "\n",
        "Getting Location of Beirut, Beirut, Lebanon\n",
        "Google API Query Limit reached. Waiting... (maybe you should renew your IP)"
       ]
      },
      {
       "output_type": "stream",
       "stream": "stdout",
       "text": [
        "\n",
        "Found Location."
       ]
      },
      {
       "output_type": "stream",
       "stream": "stdout",
       "text": [
        "\n",
        "Getting Location of 188 Chung Hwa Road, Section 2, Hsinchu , Taiwan\n",
        "Found Location."
       ]
      },
      {
       "output_type": "stream",
       "stream": "stdout",
       "text": [
        "\n",
        "Getting Location of 188 Chung Hwa Road, Section 2, Hsinchu, Taiwan\n",
        "Found Location."
       ]
      },
      {
       "output_type": "stream",
       "stream": "stdout",
       "text": [
        "\n",
        "Getting Location of Westin Harbour Castle, Toronto, ON, Canada\n",
        "\n",
        "Westin Harbour Castle, Toronto, ON, Canada"
       ]
      },
      {
       "output_type": "stream",
       "stream": "stdout",
       "text": [
        "\n",
        "not found! Tryin:\n",
        "Toronto, ON, Canada\n",
        "Found Location."
       ]
      },
      {
       "output_type": "stream",
       "stream": "stdout",
       "text": [
        "\n",
        "Getting Location of 184 Nguy\u1ec5n V\u0103n Linh, qu\u1eadn H\u1ea3i Ch\u00e2u, TP \u0110\u00e0 N\u1eb5ng., Da Nang, Vietnam\n",
        "Found Location."
       ]
      },
      {
       "output_type": "stream",
       "stream": "stdout",
       "text": [
        "\n",
        "Getting Location of Westin Harbour Castle, Toronto, ON, Canada\n",
        "\n",
        "Westin Harbour Castle, Toronto, ON, Canada"
       ]
      },
      {
       "output_type": "stream",
       "stream": "stdout",
       "text": [
        "\n",
        "not found! Tryin:\n",
        "Toronto, ON, Canada\n",
        "Found Location."
       ]
      },
      {
       "output_type": "stream",
       "stream": "stdout",
       "text": [
        "\n",
        "Getting Location of Shenzhen, China, 518054, Shenzhen, China\n",
        "Found Location."
       ]
      },
      {
       "output_type": "stream",
       "stream": "stdout",
       "text": [
        "\n",
        "Getting Location of Shenzhen, China, 518054, Shenzhen, China\n",
        "Found Location."
       ]
      },
      {
       "output_type": "stream",
       "stream": "stdout",
       "text": [
        "\n",
        "Getting Location of No. 43, Sec. 4, Keelung Road, Taipei, Taiwan\n",
        "Found Location."
       ]
      },
      {
       "output_type": "stream",
       "stream": "stdout",
       "text": [
        "\n",
        "Getting Location of 1-2 Ohtemachi, Toyama, Japan\n",
        "Found Location."
       ]
      },
      {
       "output_type": "stream",
       "stream": "stdout",
       "text": [
        "\n",
        "Getting Location of Portola Hotel, Monterey, CA, USA\n",
        "Found Location."
       ]
      },
      {
       "output_type": "stream",
       "stream": "stdout",
       "text": [
        "\n",
        "Getting Location of School of Mechanical and Manufacturing Engineering (SMME), National University of Science and Technology (NUST), Sector H-12, Kashmir Highway, Islamabad., Islamabad, Pakistan\n",
        "Found Location."
       ]
      },
      {
       "output_type": "stream",
       "stream": "stdout",
       "text": [
        "\n",
        "Getting Location of TBD, Singapore\n",
        "Found Location."
       ]
      },
      {
       "output_type": "stream",
       "stream": "stdout",
       "text": [
        "\n",
        "Getting Location of New Cairo City - Main Entrance Al Tagamoa Al Khames, Cairo, Egypt\n",
        "Found Location."
       ]
      },
      {
       "output_type": "stream",
       "stream": "stdout",
       "text": [
        "\n",
        "Getting Location of Boise State University, Boise, ID, USA\n",
        "Found Location."
       ]
      },
      {
       "output_type": "stream",
       "stream": "stdout",
       "text": [
        "\n",
        "Getting Location of Landsberger Allee 106, Berlin, Germany\n",
        "Found Location."
       ]
      },
      {
       "output_type": "stream",
       "stream": "stdout",
       "text": [
        "\n",
        "Getting Location of Polytekhnichna Str. 16, off. 413, Kyiv, Ukraine\n",
        "Found Location."
       ]
      },
      {
       "output_type": "stream",
       "stream": "stdout",
       "text": [
        "\n",
        "Getting Location of TBD, Germany\n",
        "\n",
        "TBD, Germany"
       ]
      },
      {
       "output_type": "stream",
       "stream": "stdout",
       "text": [
        "\n",
        "not found! Tryin:\n",
        "Germany\n",
        "Found Location."
       ]
      },
      {
       "output_type": "stream",
       "stream": "stdout",
       "text": [
        "\n",
        "Getting Location of 15 Middlesex Canal park Drive, Woburn, MA, USA\n",
        "Found Location."
       ]
      },
      {
       "output_type": "stream",
       "stream": "stdout",
       "text": [
        "\n",
        "Getting Location of McCormick Place, Chicago, IL, USA\n",
        "Found Location."
       ]
      },
      {
       "output_type": "stream",
       "stream": "stdout",
       "text": [
        "\n",
        "Getting Location of Rue Abou El Abbes Sebti,, Marrakech, Morocco\n",
        "Found Location."
       ]
      },
      {
       "output_type": "stream",
       "stream": "stdout",
       "text": [
        "\n",
        "Getting Location of TBD, Kuala Lumpur, Malaysia\n",
        "Google API Query Limit reached. Waiting... (maybe you should renew your IP)"
       ]
      },
      {
       "output_type": "stream",
       "stream": "stdout",
       "text": [
        "\n",
        "Found Location."
       ]
      },
      {
       "output_type": "stream",
       "stream": "stdout",
       "text": [
        "\n",
        "Getting Location of Tallinn, Tallinn, Estonia\n",
        "Found Location."
       ]
      },
      {
       "output_type": "stream",
       "stream": "stdout",
       "text": [
        "\n",
        "Getting Location of Hyatt Regency Waikiki Beach Resort and Spa, Waikiki Beach, HI, USA\n",
        "Found Location."
       ]
      },
      {
       "output_type": "stream",
       "stream": "stdout",
       "text": [
        "\n",
        "Getting Location of 2900 Bayport Drive, Tampa, FL, USA\n",
        "Found Location."
       ]
      },
      {
       "output_type": "stream",
       "stream": "stdout",
       "text": [
        "\n",
        "Getting Location of Hamra Street, Beirut, Lebanon\n",
        "Found Location."
       ]
      },
      {
       "output_type": "stream",
       "stream": "stdout",
       "text": [
        "\n",
        "Getting Location of 1600 Atlas Peak Road, Napa, CA, USA\n",
        "Found Location."
       ]
      },
      {
       "output_type": "stream",
       "stream": "stdout",
       "text": [
        "\n",
        "Getting Location of Gaylord National Resort and Conference Center, National Harbor, MD, USA\n",
        "Found Location."
       ]
      },
      {
       "output_type": "stream",
       "stream": "stdout",
       "text": [
        "\n",
        "Getting Location of AGH University of Science and technology, Poland\n",
        "Found Location."
       ]
      },
      {
       "output_type": "stream",
       "stream": "stdout",
       "text": [
        "\n",
        "Getting Location of 200, Chung Pei Rd,, Chung Li, Taiwan\n",
        "\n",
        "200, Chung Pei Rd,, Chung Li, Taiwan"
       ]
      },
      {
       "output_type": "stream",
       "stream": "stdout",
       "text": [
        "\n",
        "not found! Tryin:\n",
        "Chung Li, Taiwan\n",
        "Found Location."
       ]
      },
      {
       "output_type": "stream",
       "stream": "stdout",
       "text": [
        "\n",
        "Getting Location of 200, Chung Pei Rd,, Chung Li, Taiwan\n",
        "\n",
        "200, Chung Pei Rd,, Chung Li, Taiwan"
       ]
      },
      {
       "output_type": "stream",
       "stream": "stdout",
       "text": [
        "\n",
        "not found! Tryin:\n",
        "Chung Li, Taiwan\n",
        "Found Location."
       ]
      },
      {
       "output_type": "stream",
       "stream": "stdout",
       "text": [
        "\n",
        "Getting Location of 9990 International Drive, Orlando, FL, USA\n",
        "Found Location."
       ]
      },
      {
       "output_type": "stream",
       "stream": "stdout",
       "text": [
        "\n",
        "Getting Location of Peter Street, Manchester, United Kingdom\n",
        "Found Location."
       ]
      },
      {
       "output_type": "stream",
       "stream": "stdout",
       "text": [
        "\n",
        "Getting Location of Milsons Point, Sydney, Australia\n",
        "Found Location."
       ]
      },
      {
       "output_type": "stream",
       "stream": "stdout",
       "text": [
        "\n",
        "Getting Location of Shamla Hills, Bhopal, India\n",
        "Found Location."
       ]
      },
      {
       "output_type": "stream",
       "stream": "stdout",
       "text": [
        "\n",
        "Getting Location of Hard Rock Hotel, Penang, Malaysia\n",
        "\n",
        "Hard Rock Hotel, Penang, Malaysia"
       ]
      },
      {
       "output_type": "stream",
       "stream": "stdout",
       "text": [
        "\n",
        "not found! Tryin:\n",
        "Penang, Malaysia\n",
        "Found Location."
       ]
      },
      {
       "output_type": "stream",
       "stream": "stdout",
       "text": [
        "\n",
        "Getting Location of TBD, Taipei, Taiwan\n",
        "Found Location."
       ]
      },
      {
       "output_type": "stream",
       "stream": "stdout",
       "text": [
        "\n",
        "Getting Location of 2520 Wasser Terrace, Herndon, VA, USA\n",
        "Found Location."
       ]
      },
      {
       "output_type": "stream",
       "stream": "stdout",
       "text": [
        "\n",
        "Getting Location of 3900 NW 21st Street, Miami, FL, USA\n",
        "Found Location."
       ]
      },
      {
       "output_type": "stream",
       "stream": "stdout",
       "text": [
        "\n",
        "Getting Location of Istanbul Congress Center, Istanbul, Turkey\n",
        "Google API Query Limit reached. Waiting... (maybe you should renew your IP)"
       ]
      },
      {
       "output_type": "stream",
       "stream": "stdout",
       "text": [
        "\n",
        "Found Location."
       ]
      },
      {
       "output_type": "stream",
       "stream": "stdout",
       "text": [
        "\n",
        "Getting Location of Istanbul Congress Center, Istanbul, Turkey\n",
        "Found Location."
       ]
      },
      {
       "output_type": "stream",
       "stream": "stdout",
       "text": [
        "\n",
        "Getting Location of JW Den Haag, The Hague, Netherlands\n",
        "Found Location."
       ]
      },
      {
       "output_type": "stream",
       "stream": "stdout",
       "text": [
        "\n",
        "Getting Location of 900 North Shoreline Blvd., Corpus Christi, TX, USA\n",
        "Found Location."
       ]
      },
      {
       "output_type": "stream",
       "stream": "stdout",
       "text": [
        "\n",
        "Getting Location of Sakinaka, Near International Sahar Air Port, Mumbai, Maharashtra, India\n",
        "Found Location."
       ]
      },
      {
       "output_type": "stream",
       "stream": "stdout",
       "text": [
        "\n",
        "Getting Location of Melmaruvathur, Kanchipuram-District, Tamilnadu, Melmaruvathur, India\n",
        "Found Location."
       ]
      },
      {
       "output_type": "stream",
       "stream": "stdout",
       "text": [
        "\n",
        "Getting Location of 900 North Shoreline Blvd., Corpus Christi, TX, USA\n",
        "Found Location."
       ]
      },
      {
       "output_type": "stream",
       "stream": "stdout",
       "text": [
        "\n",
        "Getting Location of Harbiye, Istanbul, Turkey\n",
        "Found Location."
       ]
      },
      {
       "output_type": "stream",
       "stream": "stdout",
       "text": [
        "\n",
        "Getting Location of Piazza Della Calza, 6, Firenze, Italy\n",
        "Found Location."
       ]
      },
      {
       "output_type": "stream",
       "stream": "stdout",
       "text": [
        "\n",
        "Getting Location of Fraccionamiento Playacar, Playa del Carmen, Mexico\n",
        "Found Location."
       ]
      },
      {
       "output_type": "stream",
       "stream": "stdout",
       "text": [
        "\n",
        "Getting Location of Av. Brasil No. 2241, Valparaiso, Chile\n",
        "Found Location."
       ]
      },
      {
       "output_type": "stream",
       "stream": "stdout",
       "text": [
        "\n",
        "Getting Location of TBD, Leuven, Belgium\n",
        "Found Location."
       ]
      },
      {
       "output_type": "stream",
       "stream": "stdout",
       "text": [
        "\n",
        "Getting Location of P.O.Box 3030, Irbid, Jordan\n",
        "Found Location."
       ]
      },
      {
       "output_type": "stream",
       "stream": "stdout",
       "text": [
        "\n",
        "Getting Location of Novotel Cannes Montfleury, Cannes, France\n",
        "Found Location."
       ]
      },
      {
       "output_type": "stream",
       "stream": "stdout",
       "text": [
        "\n",
        "Getting Location of South Kensington Campus, London, United Kingdom\n",
        "Found Location."
       ]
      },
      {
       "output_type": "stream",
       "stream": "stdout",
       "text": [
        "\n",
        "Getting Location of Arni Magnussons Gade 2, Copenhagen, Denmark\n",
        "Found Location."
       ]
      },
      {
       "output_type": "stream",
       "stream": "stdout",
       "text": [
        "\n",
        "Getting Location of Chicago, IL 60654, Chicago, IL, USA\n",
        "Found Location."
       ]
      },
      {
       "output_type": "stream",
       "stream": "stdout",
       "text": [
        "\n",
        "Getting Location of 1 Rideau St, Ottawa, ON, Canada\n",
        "Found Location."
       ]
      },
      {
       "output_type": "stream",
       "stream": "stdout",
       "text": [
        "\n",
        "Getting Location of 540 North Michigan Avenue, Chicago, IL, USA\n",
        "Found Location."
       ]
      },
      {
       "output_type": "stream",
       "stream": "stdout",
       "text": [
        "\n",
        "Getting Location of 7920 Jones Branch Dr., McLean, VA, USA\n",
        "Found Location."
       ]
      },
      {
       "output_type": "stream",
       "stream": "stdout",
       "text": [
        "\n",
        "Getting Location of Zayed University, Dubai, United Arab Emirates\n",
        "Found Location."
       ]
      },
      {
       "output_type": "stream",
       "stream": "stdout",
       "text": [
        "\n",
        "Getting Location of 204 George Street, Glasgow, United Kingdom\n",
        "Found Location."
       ]
      },
      {
       "output_type": "stream",
       "stream": "stdout",
       "text": [
        "\n",
        "Getting Location of 601 N 1st Ave, Minneapolis, MN, USA\n",
        "Found Location."
       ]
      },
      {
       "output_type": "stream",
       "stream": "stdout",
       "text": [
        "\n",
        "Getting Location of 333 East Ocean Boulevard, Long Beach, CA, USA\n",
        "Found Location."
       ]
      },
      {
       "output_type": "stream",
       "stream": "stdout",
       "text": [
        "\n",
        "Getting Location of Augustenburger Platz 1, Berlin, Germany\n",
        "Found Location."
       ]
      },
      {
       "output_type": "stream",
       "stream": "stdout",
       "text": [
        "\n",
        "Getting Location of Bank of America Merrill Lynch  Canary Wharf, London, United Kingdom\n",
        "Found Location."
       ]
      },
      {
       "output_type": "stream",
       "stream": "stdout",
       "text": [
        "\n",
        "Getting Location of P.O. Box 929000, Snowbird, UT, USA\n",
        "Found Location."
       ]
      },
      {
       "output_type": "stream",
       "stream": "stdout",
       "text": [
        "\n",
        "Getting Location of 11931 Amman - Jordan, Amman, Jordan\n",
        "Found Location."
       ]
      },
      {
       "output_type": "stream",
       "stream": "stdout",
       "text": [
        "\n",
        "Getting Location of 10, Avenue Princesse Grace, Monte-Carlo, Monaco\n",
        "Found Location."
       ]
      },
      {
       "output_type": "stream",
       "stream": "stdout",
       "text": [
        "\n",
        "Getting Location of Route Menzel Chaker Km 0.5, Sfax, Tunisia\n",
        "Found Location."
       ]
      },
      {
       "output_type": "stream",
       "stream": "stdout",
       "text": [
        "\n",
        "Getting Location of TBD, hammamet, Tunisia\n",
        "Found Location."
       ]
      },
      {
       "output_type": "stream",
       "stream": "stdout",
       "text": [
        "\n",
        "Getting Location of TBD, Udine, Italy\n",
        "Found Location."
       ]
      },
      {
       "output_type": "stream",
       "stream": "stdout",
       "text": [
        "\n",
        "Getting Location of Ostra-Ufer 2 / Devrientstra\u00dfe 10-12, Dresden, Germany\n",
        "Found Location."
       ]
      },
      {
       "output_type": "stream",
       "stream": "stdout",
       "text": [
        "\n",
        "Getting Location of 263 S Chester Ave, Pasadena, CA, USA\n",
        "Found Location."
       ]
      },
      {
       "output_type": "stream",
       "stream": "stdout",
       "text": [
        "\n",
        "Getting Location of 2200 Village Inn Court, Steamboat Springs, CO, USA\n",
        "Found Location."
       ]
      },
      {
       "output_type": "stream",
       "stream": "stdout",
       "text": [
        "\n",
        "Getting Location of Langkawi, Kedah, Langkawi, Malaysia\n",
        "Found Location."
       ]
      },
      {
       "output_type": "stream",
       "stream": "stdout",
       "text": [
        "\n",
        "Getting Location of Ben Aknoun, Algiers, Algeria\n",
        "Found Location."
       ]
      },
      {
       "output_type": "stream",
       "stream": "stdout",
       "text": [
        "\n",
        "Getting Location of Ramada Plaza Budapest, Budapest, Hungary\n",
        "Found Location."
       ]
      },
      {
       "output_type": "stream",
       "stream": "stdout",
       "text": [
        "\n",
        "Getting Location of Ramada Plaza Budapest, Budapest, Hungary\n",
        "Found Location."
       ]
      },
      {
       "output_type": "stream",
       "stream": "stdout",
       "text": [
        "\n",
        "Getting Location of TBD, TBD, CA, USA\n",
        "No location determined yet.\n",
        "Getting Location of Hyatt Regency Jacksonville Riverfront, Jacksonville, FL, USA\n",
        "Found Location."
       ]
      },
      {
       "output_type": "stream",
       "stream": "stdout",
       "text": [
        "\n",
        "Getting Location of Kanya kumari District, Nagercoil, Tamil Nadu, India\n",
        "Found Location."
       ]
      },
      {
       "output_type": "stream",
       "stream": "stdout",
       "text": [
        "\n",
        "Getting Location of TBD, Pattaya City, Thailand\n",
        "Found Location."
       ]
      },
      {
       "output_type": "stream",
       "stream": "stdout",
       "text": [
        "\n",
        "Getting Location of Pattaya City (Central), Chonburi, Thailand\n",
        "Found Location."
       ]
      },
      {
       "output_type": "stream",
       "stream": "stdout",
       "text": [
        "\n",
        "Getting Location of Friend Center, Princeton, NJ, USA\n",
        "Found Location."
       ]
      },
      {
       "output_type": "stream",
       "stream": "stdout",
       "text": [
        "\n",
        "Getting Location of Rua Soeiro Pereira Gomes - Parcela 2, Lisboa, Portugal\n",
        "Found Location."
       ]
      },
      {
       "output_type": "stream",
       "stream": "stdout",
       "text": [
        "\n",
        "Getting Location of Fort Worth Convention Center, Fort Worth, TX, USA\n",
        "\n",
        "Fort Worth Convention Center, Fort Worth, TX, USA"
       ]
      },
      {
       "output_type": "stream",
       "stream": "stdout",
       "text": [
        "\n",
        "not found! Tryin:\n",
        "Fort Worth, TX, USA\n",
        "Found Location."
       ]
      },
      {
       "output_type": "stream",
       "stream": "stdout",
       "text": [
        "\n",
        "Getting Location of 4-1-1 Hiyoshi, Kohoku, Yokohama, Japan\n",
        "Found Location."
       ]
      },
      {
       "output_type": "stream",
       "stream": "stdout",
       "text": [
        "\n",
        "Getting Location of 2000 Pennington, Road, Ewing, NJ, USA\n",
        "Found Location."
       ]
      },
      {
       "output_type": "stream",
       "stream": "stdout",
       "text": [
        "\n",
        "Getting Location of #26 & 27, Kasavanahalli, Carmelaram Post, Bangalore-560035, Bangalore, India\n",
        "Found Location."
       ]
      },
      {
       "output_type": "stream",
       "stream": "stdout",
       "text": [
        "\n",
        "Getting Location of Marriott Hotel, Lexington, KY, USA\n",
        "Found Location."
       ]
      },
      {
       "output_type": "stream",
       "stream": "stdout",
       "text": [
        "\n",
        "Getting Location of Madren Conference Center, Clemson, SC, USA\n",
        "Google API Query Limit reached. Waiting... (maybe you should renew your IP)"
       ]
      },
      {
       "output_type": "stream",
       "stream": "stdout",
       "text": [
        "\n",
        "Found Location."
       ]
      },
      {
       "output_type": "stream",
       "stream": "stdout",
       "text": [
        "\n",
        "Getting Location of 2050 Gateway Place, San Jose, CA, USA\n",
        "Found Location."
       ]
      },
      {
       "output_type": "stream",
       "stream": "stdout",
       "text": [
        "\n",
        "Getting Location of Olden and William Streets, Princeton, NJ, USA\n",
        "Found Location."
       ]
      },
      {
       "output_type": "stream",
       "stream": "stdout",
       "text": [
        "\n",
        "Getting Location of Indore-Ujjain Highway, Indore, India\n",
        "Found Location."
       ]
      },
      {
       "output_type": "stream",
       "stream": "stdout",
       "text": [
        "\n",
        "Getting Location of Pennalur, Sriperumbudur, India\n",
        "Found Location."
       ]
      },
      {
       "output_type": "stream",
       "stream": "stdout",
       "text": [
        "\n",
        "Getting Location of TBD, Malaysia\n",
        "Found Location."
       ]
      },
      {
       "output_type": "stream",
       "stream": "stdout",
       "text": [
        "\n",
        "Getting Location of Tamilnadu, Kanyakumari, India\n",
        "Found Location."
       ]
      },
      {
       "output_type": "stream",
       "stream": "stdout",
       "text": [
        "\n",
        "Getting Location of Sector-25, Chandigarh, India\n",
        "Found Location."
       ]
      },
      {
       "output_type": "stream",
       "stream": "stdout",
       "text": [
        "\n",
        "Getting Location of Kalapatti, Coimbatore, India\n",
        "Found Location."
       ]
      },
      {
       "output_type": "stream",
       "stream": "stdout",
       "text": [
        "\n",
        "Getting Location of TAMILNADU, India\n",
        "Found Location."
       ]
      },
      {
       "output_type": "stream",
       "stream": "stdout",
       "text": [
        "\n",
        "Getting Location of Gangnam-gu, Seoul, Korea (South)\n",
        "Found Location."
       ]
      },
      {
       "output_type": "stream",
       "stream": "stdout",
       "text": [
        "\n",
        "Getting Location of New Delhi, New Delhi, India\n",
        "Found Location."
       ]
      },
      {
       "output_type": "stream",
       "stream": "stdout",
       "text": [
        "\n",
        "Getting Location of Santa Clara Convention Center, Santa Clara, CA, USA\n",
        "Found Location."
       ]
      },
      {
       "output_type": "stream",
       "stream": "stdout",
       "text": [
        "\n",
        "Getting Location of 333 Moo 1, Thasud, Muang, Chiang Rai, Thailand\n",
        "Found Location."
       ]
      },
      {
       "output_type": "stream",
       "stream": "stdout",
       "text": [
        "\n",
        "Getting Location of Kohoku-ku, Yokohama, Japan\n",
        "Found Location."
       ]
      },
      {
       "output_type": "stream",
       "stream": "stdout",
       "text": [
        "\n",
        "Getting Location of Darling Harbour, Sydney, Australia\n",
        "Found Location."
       ]
      },
      {
       "output_type": "stream",
       "stream": "stdout",
       "text": [
        "\n",
        "Getting Location of Citec - Bielefeld University, Bielefeld, Germany\n",
        "Found Location."
       ]
      },
      {
       "output_type": "stream",
       "stream": "stdout",
       "text": [
        "\n",
        "Getting Location of San Antonio, TX 78205, San Antonio, TX, USA\n",
        "Found Location."
       ]
      },
      {
       "output_type": "stream",
       "stream": "stdout",
       "text": [
        "\n",
        "Getting Location of 10 Boulevard Jeanneteau - CS 90717, Angers Cedex 2, France\n",
        "\n",
        "10 Boulevard Jeanneteau - CS 90717, Angers Cedex 2, France"
       ]
      },
      {
       "output_type": "stream",
       "stream": "stdout",
       "text": [
        "\n",
        "not found! Tryin:\n",
        "Angers Cedex 2, France\n",
        "Found Location."
       ]
      },
      {
       "output_type": "stream",
       "stream": "stdout",
       "text": [
        "\n",
        "Getting Location of Hyatt Regency Hotel/Telus Convention Centre, Calgary, AB, Canada\n",
        "Found Location."
       ]
      },
      {
       "output_type": "stream",
       "stream": "stdout",
       "text": [
        "\n",
        "Getting Location of 1 Lone Mountain Trail, Big Sky, MT, USA\n",
        "Found Location."
       ]
      },
      {
       "output_type": "stream",
       "stream": "stdout",
       "text": [
        "\n",
        "Getting Location of Maulana Azad National Institute of Technology, Bhopal, India\n",
        "Found Location."
       ]
      },
      {
       "output_type": "stream",
       "stream": "stdout",
       "text": [
        "\n",
        "Getting Location of Post-Chaumuhan,, Mathura, India\n",
        "Found Location."
       ]
      },
      {
       "output_type": "stream",
       "stream": "stdout",
       "text": [
        "\n",
        "Getting Location of Uttar Pradesh, Kanpur, India\n",
        "Found Location."
       ]
      },
      {
       "output_type": "stream",
       "stream": "stdout",
       "text": [
        "\n",
        "Getting Location of Indian Institute of Technology Kharagpur, Kharagpur, West Bengal, India\n",
        "Found Location."
       ]
      },
      {
       "output_type": "stream",
       "stream": "stdout",
       "text": [
        "\n",
        "Getting Location of THIRUVERKADU POST, CHENNAI, CHENNAI, India\n",
        "Found Location."
       ]
      },
      {
       "output_type": "stream",
       "stream": "stdout",
       "text": [
        "\n",
        "Getting Location of Jadavpur University, Kolkata, India\n",
        "Found Location."
       ]
      },
      {
       "output_type": "stream",
       "stream": "stdout",
       "text": [
        "\n",
        "Getting Location of Arcisstrasse 21, Munich, Germany\n",
        "Found Location."
       ]
      },
      {
       "output_type": "stream",
       "stream": "stdout",
       "text": [
        "\n",
        "Getting Location of Puebla, Cholula., Mexico\n",
        "Google API Query Limit reached. Waiting... (maybe you should renew your IP)"
       ]
      },
      {
       "output_type": "stream",
       "stream": "stdout",
       "text": [
        "\n",
        "Found Location."
       ]
      },
      {
       "output_type": "stream",
       "stream": "stdout",
       "text": [
        "\n",
        "Getting Location of Porto, Porto, Portugal\n",
        "Found Location."
       ]
      },
      {
       "output_type": "stream",
       "stream": "stdout",
       "text": [
        "\n",
        "Getting Location of #55 APEC-ro, Haeundae-gu, Busan, Busan, Korea (South)\n",
        "\n",
        "#55 APEC-ro, Haeundae-gu, Busan, Busan, Korea (South)"
       ]
      },
      {
       "output_type": "stream",
       "stream": "stdout",
       "text": [
        "\n",
        "not found! Tryin:\n",
        "Busan, Korea (South)\n",
        "Found Location."
       ]
      },
      {
       "output_type": "stream",
       "stream": "stdout",
       "text": [
        "\n",
        "Getting Location of 1555 South Coast Highway, Laguna Beach, CA, USA\n",
        "Found Location."
       ]
      },
      {
       "output_type": "stream",
       "stream": "stdout",
       "text": [
        "\n",
        "Getting Location of Frauentorgarben 11, N\u00fcrnberg, Germany\n",
        "Found Location."
       ]
      },
      {
       "output_type": "stream",
       "stream": "stdout",
       "text": [
        "\n",
        "Getting Location of TBD, Houston, TX, USA\n",
        "Found Location."
       ]
      },
      {
       "output_type": "stream",
       "stream": "stdout",
       "text": [
        "\n",
        "Getting Location of ITM University, Gurgaon, India\n",
        "Found Location."
       ]
      },
      {
       "output_type": "stream",
       "stream": "stdout",
       "text": [
        "\n",
        "Getting Location of Thandalam, Chennai, India\n",
        "Found Location."
       ]
      },
      {
       "output_type": "stream",
       "stream": "stdout",
       "text": [
        "\n",
        "Getting Location of Noida, Noida, Delhi-NCR, India\n",
        "Found Location."
       ]
      },
      {
       "output_type": "stream",
       "stream": "stdout",
       "text": [
        "\n",
        "Getting Location of Washington DC 20001, Washington, DC, USA\n",
        "Found Location."
       ]
      },
      {
       "output_type": "stream",
       "stream": "stdout",
       "text": [
        "\n",
        "Getting Location of 38/54 Lake Esplanade, Queenstown, New Zealand\n",
        "Found Location."
       ]
      },
      {
       "output_type": "stream",
       "stream": "stdout",
       "text": [
        "\n",
        "Getting Location of High1-gil Sabuk-eup Jeongsun-kun Gangwon province, Korea, Gangwon province, Korea (South)\n",
        "\n",
        "High1-gil Sabuk-eup Jeongsun-kun Gangwon province, Korea, Gangwon province, Korea (South)"
       ]
      },
      {
       "output_type": "stream",
       "stream": "stdout",
       "text": [
        "\n",
        "not found! Tryin:\n",
        "Gangwon province, Korea (South)\n",
        "Found Location."
       ]
      },
      {
       "output_type": "stream",
       "stream": "stdout",
       "text": [
        "\n",
        "Getting Location of Carmelaram, Bangalore, India\n",
        "Found Location."
       ]
      },
      {
       "output_type": "stream",
       "stream": "stdout",
       "text": [
        "\n",
        "Getting Location of P.O. Box 23874, Doha, Qatar\n",
        "Found Location."
       ]
      },
      {
       "output_type": "stream",
       "stream": "stdout",
       "text": [
        "\n",
        "Getting Location of Bongpyong-myun, Pyeongchang , Korea (South)\n",
        "Found Location."
       ]
      },
      {
       "output_type": "stream",
       "stream": "stdout",
       "text": [
        "\n",
        "Getting Location of TBD, Orlando, FL, USA\n",
        "Found Location."
       ]
      },
      {
       "output_type": "stream",
       "stream": "stdout",
       "text": [
        "\n",
        "Getting Location of TBD, FL, USA\n",
        "Found Location."
       ]
      },
      {
       "output_type": "stream",
       "stream": "stdout",
       "text": [
        "\n",
        "Getting Location of Department of Electronics and Communication Engineering, Coimbatore, India\n",
        "Found Location."
       ]
      },
      {
       "output_type": "stream",
       "stream": "stdout",
       "text": [
        "\n",
        "Getting Location of C4-Esteve Terradas 7, Castelldefels-Barcelona, Spain\n",
        "Found Location."
       ]
      },
      {
       "output_type": "stream",
       "stream": "stdout",
       "text": [
        "\n",
        "Getting Location of SOUTH KUTA, BALI, SOUTH KUTA, Indonesia\n",
        "Found Location."
       ]
      },
      {
       "output_type": "stream",
       "stream": "stdout",
       "text": [
        "\n",
        "Getting Location of Phuket Graceland Resort and Spa, Phuket, Thailand\n",
        "Found Location."
       ]
      },
      {
       "output_type": "stream",
       "stream": "stdout",
       "text": [
        "\n",
        "Getting Location of San Francisco Marriott, San Francisco, CA, USA\n",
        "\n",
        "San Francisco Marriott, San Francisco, CA, USA"
       ]
      },
      {
       "output_type": "stream",
       "stream": "stdout",
       "text": [
        "\n",
        "not found! Tryin:\n",
        "San Francisco, CA, USA\n",
        "Found Location."
       ]
      },
      {
       "output_type": "stream",
       "stream": "stdout",
       "text": [
        "\n",
        "Getting Location of UP, Ghaziabad, India\n",
        "Found Location."
       ]
      },
      {
       "output_type": "stream",
       "stream": "stdout",
       "text": [
        "\n",
        "Getting Location of Sector-43, Faridabad, Haryana, India\n",
        "Google API Query Limit reached. Waiting... (maybe you should renew your IP)"
       ]
      },
      {
       "output_type": "stream",
       "stream": "stdout",
       "text": [
        "\n",
        "Found Location."
       ]
      },
      {
       "output_type": "stream",
       "stream": "stdout",
       "text": [
        "\n",
        "Getting Location of IRIB Int'l. Conference Center. (IICC), Tehran, Iran\n",
        "Found Location."
       ]
      },
      {
       "output_type": "stream",
       "stream": "stdout",
       "text": [
        "\n",
        "Getting Location of The Sheraton San Diego Hotel & Marina, San Diego, CA, USA\n",
        "Found Location."
       ]
      },
      {
       "output_type": "stream",
       "stream": "stdout",
       "text": [
        "\n",
        "Getting Location of Higher Education Complex of Bam, Highway Persian Gulf, Bam, Iran, Bam, Iran\n",
        "Found Location."
       ]
      },
      {
       "output_type": "stream",
       "stream": "stdout",
       "text": [
        "\n",
        "Getting Location of 5 Prof.Popov str., St.Petersburg, Russia\n",
        "Found Location."
       ]
      },
      {
       "output_type": "stream",
       "stream": "stdout",
       "text": [
        "\n",
        "Getting Location of North Ryde, NSW,, Sydney, Australia\n",
        "Found Location."
       ]
      },
      {
       "output_type": "stream",
       "stream": "stdout",
       "text": [
        "\n",
        "Getting Location of 2005 Kalia road, Honolulu, HI, USA\n",
        "Found Location."
       ]
      },
      {
       "output_type": "stream",
       "stream": "stdout",
       "text": [
        "\n",
        "Getting Location of South Australia, Adelaide, Australia\n",
        "Found Location."
       ]
      },
      {
       "output_type": "stream",
       "stream": "stdout",
       "text": [
        "\n",
        "Getting Location of Hooghly, West Bengal, India\n",
        "Found Location."
       ]
      },
      {
       "output_type": "stream",
       "stream": "stdout",
       "text": [
        "\n",
        "Getting Location of JD-2, Sector-III, Salt Lake city, Calcutta, India\n",
        "Found Location."
       ]
      },
      {
       "output_type": "stream",
       "stream": "stdout",
       "text": [
        "\n",
        "Getting Location of Faculty of Informatics, Burapha University, Chonburi, Thailand\n",
        "Found Location."
       ]
      },
      {
       "output_type": "stream",
       "stream": "stdout",
       "text": [
        "\n",
        "Getting Location of Teluk Nibong, Langkawi, Malaysia\n",
        "Found Location."
       ]
      },
      {
       "output_type": "stream",
       "stream": "stdout",
       "text": [
        "\n",
        "Getting Location of Broadmoor Hotel, Colorado Springs, CO, USA\n",
        "Found Location."
       ]
      },
      {
       "output_type": "stream",
       "stream": "stdout",
       "text": [
        "\n",
        "Getting Location of Hyatt Regency San Francisco, San Francisco, CA, USA\n",
        "\n",
        "Hyatt Regency San Francisco, San Francisco, CA, USA"
       ]
      },
      {
       "output_type": "stream",
       "stream": "stdout",
       "text": [
        "\n",
        "not found! Tryin:\n",
        "San Francisco, CA, USA\n",
        "Google API Query Limit reached. Waiting... (maybe you should renew your IP)"
       ]
      },
      {
       "output_type": "stream",
       "stream": "stdout",
       "text": [
        "\n",
        "Found Location."
       ]
      },
      {
       "output_type": "stream",
       "stream": "stdout",
       "text": [
        "\n",
        "Getting Location of Coimbatore, Coimbatore, India\n",
        "Found Location."
       ]
      },
      {
       "output_type": "stream",
       "stream": "stdout",
       "text": [
        "\n",
        "Getting Location of Herl'any, Herl'any, Slovakia\n",
        "Found Location."
       ]
      },
      {
       "output_type": "stream",
       "stream": "stdout",
       "text": [
        "\n",
        "Getting Location of MANIPAL - 576104, MANIPAL, India\n",
        "Found Location."
       ]
      },
      {
       "output_type": "stream",
       "stream": "stdout",
       "text": [
        "\n",
        "Getting Location of Port el Kantaoui, Sousse, Tunisia\n",
        "Found Location."
       ]
      },
      {
       "output_type": "stream",
       "stream": "stdout",
       "text": [
        "\n",
        "Getting Location of Suntec Singapore Convention & Exhibition Centre, Singapore\n",
        "Found Location."
       ]
      },
      {
       "output_type": "stream",
       "stream": "stdout",
       "text": [
        "\n",
        "Getting Location of Marriott Newport Beach, Newport Beach, CA, USA\n",
        "\n",
        "Marriott Newport Beach, Newport Beach, CA, USA"
       ]
      },
      {
       "output_type": "stream",
       "stream": "stdout",
       "text": [
        "\n",
        "not found! Tryin:\n",
        "Newport Beach, CA, USA\n",
        "Found Location."
       ]
      },
      {
       "output_type": "stream",
       "stream": "stdout",
       "text": [
        "\n",
        "Getting Location of 900 Newport Center Drive \u00b7 Newport Beach, California 92660 USAh, California 92660 USA, Newport Beach, CA, USA\n",
        "Found Location."
       ]
      },
      {
       "output_type": "stream",
       "stream": "stdout",
       "text": [
        "\n",
        "Getting Location of Marriott Newport Beach, Newport Beach, CA, USA\n",
        "\n",
        "Marriott Newport Beach, Newport Beach, CA, USA"
       ]
      },
      {
       "output_type": "stream",
       "stream": "stdout",
       "text": [
        "\n",
        "not found! Tryin:\n",
        "Newport Beach, CA, USA\n",
        "Found Location."
       ]
      },
      {
       "output_type": "stream",
       "stream": "stdout",
       "text": [
        "\n",
        "Getting Location of Marriott Newport Beach, Newport Beach, CA, USA\n",
        "\n",
        "Marriott Newport Beach, Newport Beach, CA, USA"
       ]
      },
      {
       "output_type": "stream",
       "stream": "stdout",
       "text": [
        "\n",
        "not found! Tryin:\n",
        "Newport Beach, CA, USA\n",
        "Found Location."
       ]
      },
      {
       "output_type": "stream",
       "stream": "stdout",
       "text": [
        "\n",
        "Getting Location of Marriott Newport Beach, Newport Beach, CA, USA\n",
        "\n",
        "Marriott Newport Beach, Newport Beach, CA, USA"
       ]
      },
      {
       "output_type": "stream",
       "stream": "stdout",
       "text": [
        "\n",
        "not found! Tryin:\n",
        "Newport Beach, CA, USA\n",
        "Found Location."
       ]
      },
      {
       "output_type": "stream",
       "stream": "stdout",
       "text": [
        "\n",
        "Getting Location of El Mouradi Palace, Sousse, Tunisia\n",
        "\n",
        "El Mouradi Palace, Sousse, Tunisia"
       ]
      },
      {
       "output_type": "stream",
       "stream": "stdout",
       "text": [
        "\n",
        "not found! Tryin:\n",
        "Sousse, Tunisia\n",
        "Found Location."
       ]
      },
      {
       "output_type": "stream",
       "stream": "stdout",
       "text": [
        "\n",
        "Getting Location of Yasmine Hammamet, Hammamet, Tunisia\n",
        "Found Location."
       ]
      },
      {
       "output_type": "stream",
       "stream": "stdout",
       "text": [
        "\n",
        "Getting Location of Kolkata 700 107, INDIA, kolkata, India\n",
        "Found Location."
       ]
      },
      {
       "output_type": "stream",
       "stream": "stdout",
       "text": [
        "\n",
        "Getting Location of West Bengal, Kalyani, India\n",
        "Found Location."
       ]
      },
      {
       "output_type": "stream",
       "stream": "stdout",
       "text": [
        "\n",
        "Getting Location of Chatrium Hotel Riverside, Bangkok, Thailand\n",
        "\n",
        "Chatrium Hotel Riverside, Bangkok, Thailand"
       ]
      },
      {
       "output_type": "stream",
       "stream": "stdout",
       "text": [
        "\n",
        "not found! Tryin:\n",
        "Bangkok, Thailand\n",
        "Found Location."
       ]
      },
      {
       "output_type": "stream",
       "stream": "stdout",
       "text": [
        "\n",
        "Getting Location of P.O.Box: 14115-111, Tehran, Iran\n",
        "Found Location."
       ]
      },
      {
       "output_type": "stream",
       "stream": "stdout",
       "text": [
        "\n",
        "Getting Location of Islamabad, Islamabad, Pakistan\n",
        "Found Location."
       ]
      },
      {
       "output_type": "stream",
       "stream": "stdout",
       "text": [
        "\n",
        "Getting Location of West Bengal, Kharagpur, India\n",
        "Found Location."
       ]
      },
      {
       "output_type": "stream",
       "stream": "stdout",
       "text": [
        "\n",
        "Getting Location of 3150 Paradise Road, Las Vegas, NV, USA\n",
        "Found Location."
       ]
      },
      {
       "output_type": "stream",
       "stream": "stdout",
       "text": [
        "\n",
        "Getting Location of Myleripalayam, Coimbatore, India\n",
        "Google API Query Limit reached. Waiting... (maybe you should renew your IP)"
       ]
      },
      {
       "output_type": "stream",
       "stream": "stdout",
       "text": [
        "\n",
        "Found Location."
       ]
      },
      {
       "output_type": "stream",
       "stream": "stdout",
       "text": [
        "\n",
        "Getting Location of Planet Hollywood, Las Vegas, NV, USA\n",
        "Found Location."
       ]
      },
      {
       "output_type": "stream",
       "stream": "stdout",
       "text": [
        "\n",
        "Getting Location of Karnataka, Bangalore, India\n",
        "Found Location."
       ]
      },
      {
       "output_type": "stream",
       "stream": "stdout",
       "text": [
        "\n",
        "Getting Location of Gandhi More, Durgapur, Durgapur, India\n",
        "Found Location."
       ]
      },
      {
       "output_type": "stream",
       "stream": "stdout",
       "text": [
        "\n",
        "Getting Location of Tamilnadu, Vellore, India\n",
        "Found Location."
       ]
      },
      {
       "output_type": "stream",
       "stream": "stdout",
       "text": [
        "\n",
        "Getting Location of Dhanmondi, Dhaka, Bangladesh\n",
        "Found Location."
       ]
      },
      {
       "output_type": "stream",
       "stream": "stdout",
       "text": [
        "\n",
        "Getting Location of Katol road, Nagpur, India\n",
        "Found Location."
       ]
      },
      {
       "output_type": "stream",
       "stream": "stdout",
       "text": [
        "\n",
        "Getting Location of 16701 Collins Avenue, Miami Beach, FL, USA\n",
        "Found Location."
       ]
      },
      {
       "output_type": "stream",
       "stream": "stdout",
       "text": [
        "\n",
        "Getting Location of Engineering Center, Boulder, CO, USA\n",
        "Found Location."
       ]
      },
      {
       "output_type": "stream",
       "stream": "stdout",
       "text": [
        "\n",
        "Getting Location of Sana Lisbon Hotel, Portugal\n",
        "Found Location."
       ]
      },
      {
       "output_type": "stream",
       "stream": "stdout",
       "text": [
        "\n",
        "Getting Location of #135, Residency Road, Bangalore, India\n",
        "Found Location."
       ]
      },
      {
       "output_type": "stream",
       "stream": "stdout",
       "text": [
        "\n",
        "Getting Location of No 5 Jalan Stesen Sentral, Kuala Lumpur, Malaysia\n",
        "Found Location."
       ]
      },
      {
       "output_type": "stream",
       "stream": "stdout",
       "text": [
        "\n",
        "Getting Location of Indian Institute of Science, Bangalore, India\n",
        "Found Location."
       ]
      },
      {
       "output_type": "stream",
       "stream": "stdout",
       "text": [
        "\n",
        "Getting Location of Hilton Waikoloa, Waikoloa, HI, USA\n",
        "Found Location."
       ]
      },
      {
       "output_type": "stream",
       "stream": "stdout",
       "text": [
        "\n",
        "Getting Location of Singapore Management University, Singapore\n",
        "Found Location."
       ]
      },
      {
       "output_type": "stream",
       "stream": "stdout",
       "text": [
        "\n",
        "Getting Location of Sana Lisbon Hotel, Portugal\n",
        "Found Location."
       ]
      },
      {
       "output_type": "stream",
       "stream": "stdout",
       "text": [
        "\n",
        "Getting Location of Mumbai, India\n",
        "Found Location."
       ]
      },
      {
       "output_type": "stream",
       "stream": "stdout",
       "text": [
        "\n",
        "Getting Location of Coimbatore-62, COIMBATORE, India\n",
        "Found Location."
       ]
      },
      {
       "output_type": "stream",
       "stream": "stdout",
       "text": [
        "\n",
        "Getting Location of 12 Kaufman St., Tel-Aviv, Israel\n",
        "Found Location."
       ]
      },
      {
       "output_type": "stream",
       "stream": "stdout",
       "text": [
        "\n",
        "Done.\n"
       ]
      }
     ],
     "prompt_number": 4
    },
    {
     "cell_type": "code",
     "collapsed": false,
     "input": [],
     "language": "python",
     "metadata": {},
     "outputs": [],
     "prompt_number": 4
    },
    {
     "cell_type": "heading",
     "level": 2,
     "metadata": {},
     "source": [
      "Clean Data and create KML"
     ]
    },
    {
     "cell_type": "code",
     "collapsed": false,
     "input": [
      "kml = simplekml.Kml()\n",
      "# Konferenzen l\u00f6schen, f\u00fcr die kein Ort gefunden wurden\n",
      "lon=[]\n",
      "lat=[]\n",
      "print('Creating .kml file.')\n",
      "for i in range(len(confs)):\n",
      "    if confs[i][3] == 0.0:\n",
      "        pass\n",
      "    else:\n",
      "        # KML\n",
      "        pnt=kml.newpoint(name=confs[i][0], coords=[(confs[i][3],confs[i][2])])\n",
      "        desct = 'from ' + confs[i][1]\n",
      "        desct += '\\nin ' + confs[i][4]\n",
      "        desct += '\\n\\nInfos: ' + confs[i][5]\n",
      "        pnt.description = desct\n",
      "        \n",
      "        # List for Map\n",
      "        lon.append(confs[i][3])\n",
      "        lat.append(confs[i][2])\n",
      "\n",
      "kml.save(\"iEEE-Conferences.kml\")\n",
      "print('Done.')\n",
      "print('%s of %s conference venues without place.' % (len(confs)-len(lat),len(confs)))\n",
      "if (len(confs)-len(lat)) == 0:\n",
      "    print 'Perfect.'\n",
      "elif (len(confs)-len(lat)) > 5:\n",
      "    print 'Maybe you should check your Data'"
     ],
     "language": "python",
     "metadata": {},
     "outputs": [
      {
       "output_type": "stream",
       "stream": "stdout",
       "text": [
        "Creating .kml file.\n",
        "Done."
       ]
      },
      {
       "output_type": "stream",
       "stream": "stdout",
       "text": [
        "\n",
        "2 of 569 conference venues without place.\n"
       ]
      }
     ],
     "prompt_number": 5
    },
    {
     "cell_type": "heading",
     "level": 2,
     "metadata": {},
     "source": [
      "Render the Map"
     ]
    },
    {
     "cell_type": "heading",
     "level": 3,
     "metadata": {},
     "source": [
      "World"
     ]
    },
    {
     "cell_type": "code",
     "collapsed": false,
     "input": [
      "# Thanks to this great tutorial:\n",
      "# http://peak5390.wordpress.com/2012/12/08/mapping-global-earthquake-activity-a-matplotlib-basemap-tutorial/\n",
      "\n",
      "map = Basemap(projection='robin', resolution = 'l', area_thresh = 1000.0,\n",
      "              lat_0=0, lon_0=0)\n",
      "map.drawcoastlines()\n",
      "map.drawcountries()\n",
      "#map.fillcontinents(color = 'gray')\n",
      "#map.bluemarble()\n",
      "map.shadedrelief()\n",
      "\n",
      "map.drawmapboundary()\n",
      "map.drawmeridians(np.arange(0, 360, 30))\n",
      "map.drawparallels(np.arange(-90, 90, 30))\n",
      "\n",
      "x,y = map(lon, lat)\n",
      "map.plot(x, y, 'ro', markersize=4)\n",
      "plt.title('IEEE Conferences 2014')\n",
      "plt.savefig('iEEE-Conferences-2014-Worldmap.png', bbox_inches='tight', dpi=300, transparent=True)\n",
      "plt.savefig('iEEE-Conferences-2014-Worldmap.pdf', bbox_inches='tight', dpi=300, transparent=True)\n",
      "#plt.show()\n",
      "print('.png and .pdf saved...')\n",
      "plt.close()"
     ],
     "language": "python",
     "metadata": {},
     "outputs": [
      {
       "output_type": "stream",
       "stream": "stdout",
       "text": [
        ".png and .pdf saved...\n"
       ]
      }
     ],
     "prompt_number": 6
    },
    {
     "cell_type": "heading",
     "level": 3,
     "metadata": {},
     "source": [
      "Europe"
     ]
    },
    {
     "cell_type": "code",
     "collapsed": false,
     "input": [
      "m = Basemap(llcrnrlon=-14.0,llcrnrlat=32.0,urcrnrlon=44.4,urcrnrlat=55.3,\n",
      "            resolution='i',projection='stere',lon_0=10.0,lat_0=54.7)\n",
      "\n",
      "m.drawcoastlines()\n",
      "m.fillcontinents(color='gray')\n",
      "# draw parallels and meridians.\n",
      "#m.drawparallels(np.arange(-40,61.,2.))\n",
      "#m.drawmeridians(np.arange(0.,43.,2.))\n",
      "m.drawmapboundary()\n",
      "m.drawcountries()\n",
      "m.shadedrelief()\n",
      "\n",
      "x,y = m(lon, lat)\n",
      "m.plot(x, y, 'ro', markersize=5)\n",
      "\n",
      "plt.title(\"European IEEE Conferences 2014\")\n",
      "plt.savefig('iEEE-Conferences-2014-Europe.png', bbox_inches='tight', dpi=300, transparent=True)\n",
      "plt.savefig('iEEE-Conferences-2014-Europe.pdf', bbox_inches='tight', dpi=300, transparent=True)\n",
      "#plt.show()\n",
      "print('.png and .pdf saved...')\n",
      "plt.close()"
     ],
     "language": "python",
     "metadata": {},
     "outputs": [
      {
       "output_type": "stream",
       "stream": "stdout",
       "text": [
        ".png and .pdf saved...\n"
       ]
      }
     ],
     "prompt_number": 7
    },
    {
     "cell_type": "heading",
     "level": 3,
     "metadata": {},
     "source": [
      "USA"
     ]
    },
    {
     "cell_type": "code",
     "collapsed": false,
     "input": [
      "mus = Basemap(llcrnrlon=-125.0,llcrnrlat=20.0,urcrnrlon=-60.0,urcrnrlat=51.4,\n",
      "            resolution='i',projection='stere',lon_0=-95.0,lat_0=35.0)\n",
      "\n",
      "mus.drawcoastlines()\n",
      "mus.fillcontinents(color='gray')\n",
      "# draw parallels and meridians.\n",
      "#m.drawparallels(np.arange(-40,61.,2.))\n",
      "#m.drawmeridians(np.arange(0.,43.,2.))\n",
      "mus.drawmapboundary()\n",
      "mus.drawcountries()\n",
      "mus.drawstates()\n",
      "mus.shadedrelief()\n",
      "\n",
      "x,y = mus(lon, lat)\n",
      "mus.plot(x, y, 'ro', markersize=5)\n",
      "\n",
      "\n",
      "plt.title(\"US IEEE Conferences 2014\")\n",
      "plt.savefig('iEEE-Conferences-2014-USA.png', bbox_inches='tight', dpi=300, transparent=True)\n",
      "plt.savefig('iEEE-Conferences-2014-USA.pdf', bbox_inches='tight', dpi=300, transparent=True)\n",
      "#plt.show()\n",
      "print('.png and .pdf saved...')\n",
      "plt.close()"
     ],
     "language": "python",
     "metadata": {},
     "outputs": [
      {
       "output_type": "stream",
       "stream": "stdout",
       "text": [
        ".png and .pdf saved...\n"
       ]
      }
     ],
     "prompt_number": 8
    },
    {
     "cell_type": "code",
     "collapsed": false,
     "input": [
      "print('Done.')"
     ],
     "language": "python",
     "metadata": {},
     "outputs": [
      {
       "output_type": "stream",
       "stream": "stdout",
       "text": [
        "Done.\n"
       ]
      }
     ],
     "prompt_number": 9
    }
   ],
   "metadata": {}
  }
 ]
}